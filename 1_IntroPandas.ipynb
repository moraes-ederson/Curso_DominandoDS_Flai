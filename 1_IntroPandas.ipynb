{
  "nbformat": 4,
  "nbformat_minor": 0,
  "metadata": {
    "colab": {
      "name": "1-IntroPandas.ipynb",
      "provenance": [],
      "authorship_tag": "ABX9TyMPkgEJYHTfVqiuYqkofgp4",
      "include_colab_link": true
    },
    "kernelspec": {
      "name": "python3",
      "display_name": "Python 3"
    }
  },
  "cells": [
    {
      "cell_type": "markdown",
      "metadata": {
        "id": "view-in-github",
        "colab_type": "text"
      },
      "source": [
        "<a href=\"https://colab.research.google.com/github/moraes-ederson/Curso_DominandoDS_Flai/blob/main/1_IntroPandas.ipynb\" target=\"_parent\"><img src=\"https://colab.research.google.com/assets/colab-badge.svg\" alt=\"Open In Colab\"/></a>"
      ]
    },
    {
      "cell_type": "markdown",
      "metadata": {
        "id": "TwrScGSAfEJP"
      },
      "source": [
        "# Tuplas"
      ]
    },
    {
      "cell_type": "code",
      "metadata": {
        "colab": {
          "base_uri": "https://localhost:8080/"
        },
        "id": "wEMR9MeWfLvI",
        "outputId": "90bbec3d-064f-4b6f-f528-234c42261daf"
      },
      "source": [
        "tupla = (1, 'Ederson', print)\n",
        "tupla"
      ],
      "execution_count": null,
      "outputs": [
        {
          "output_type": "execute_result",
          "data": {
            "text/plain": [
              "(1, 'Ederson', <function print>)"
            ]
          },
          "metadata": {
            "tags": []
          },
          "execution_count": 6
        }
      ]
    },
    {
      "cell_type": "code",
      "metadata": {
        "colab": {
          "base_uri": "https://localhost:8080/",
          "height": 163
        },
        "id": "k0iWlpoEfYqL",
        "outputId": "394c72fb-e173-4b2e-f7aa-0e574812e09a"
      },
      "source": [
        "tupla[0] = 2"
      ],
      "execution_count": null,
      "outputs": [
        {
          "output_type": "error",
          "ename": "TypeError",
          "evalue": "ignored",
          "traceback": [
            "\u001b[0;31m---------------------------------------------------------------------------\u001b[0m",
            "\u001b[0;31mTypeError\u001b[0m                                 Traceback (most recent call last)",
            "\u001b[0;32m<ipython-input-7-63912eb62050>\u001b[0m in \u001b[0;36m<module>\u001b[0;34m()\u001b[0m\n\u001b[0;32m----> 1\u001b[0;31m \u001b[0mtupla\u001b[0m\u001b[0;34m[\u001b[0m\u001b[0;36m0\u001b[0m\u001b[0;34m]\u001b[0m \u001b[0;34m=\u001b[0m \u001b[0;36m2\u001b[0m\u001b[0;34m\u001b[0m\u001b[0;34m\u001b[0m\u001b[0m\n\u001b[0m",
            "\u001b[0;31mTypeError\u001b[0m: 'tuple' object does not support item assignment"
          ]
        }
      ]
    },
    {
      "cell_type": "markdown",
      "metadata": {
        "id": "sROh_kpVORDm"
      },
      "source": [
        "## Conjuntos"
      ]
    },
    {
      "cell_type": "code",
      "metadata": {
        "id": "k_TQhlEBOT_s",
        "colab": {
          "base_uri": "https://localhost:8080/"
        },
        "outputId": "df29953c-9c66-4228-ed2e-b944bb739c60"
      },
      "source": [
        "conjunto1 = {'Ricardo', 33, 1.77, 'Preto', 'Preto'}\n",
        "print(conjunto1)\n",
        "\n",
        "conjunto2 = {'Juliana', 32, 1.67, 'Azul', 'Preto'}\n",
        "print(conjunto2)"
      ],
      "execution_count": null,
      "outputs": [
        {
          "output_type": "stream",
          "text": [
            "{1.77, 33, 'Preto', 'Ricardo'}\n",
            "{32, 1.67, 'Preto', 'Juliana', 'Azul'}\n"
          ],
          "name": "stdout"
        }
      ]
    },
    {
      "cell_type": "code",
      "metadata": {
        "colab": {
          "base_uri": "https://localhost:8080/"
        },
        "id": "qRhTqPnLj20Y",
        "outputId": "89ad47e7-025a-40ef-fab3-48ac80ec3c80"
      },
      "source": [
        "print('União: ', conjunto1.union(conjunto2))\n",
        "print('Interseção: ', conjunto1.intersection(conjunto2))"
      ],
      "execution_count": null,
      "outputs": [
        {
          "output_type": "stream",
          "text": [
            "União:  {32, 1.77, 33, 1.67, 'Ricardo', 'Preto', 'Juliana', 'Azul'}\n",
            "Interseção:  {'Preto'}\n"
          ],
          "name": "stdout"
        }
      ]
    },
    {
      "cell_type": "code",
      "metadata": {
        "colab": {
          "base_uri": "https://localhost:8080/",
          "height": 163
        },
        "id": "Bg475Ma5kUTA",
        "outputId": "b2718bd1-7dc9-4cde-fd06-4951d4f20abe"
      },
      "source": [
        "conjunto[0]"
      ],
      "execution_count": null,
      "outputs": [
        {
          "output_type": "error",
          "ename": "NameError",
          "evalue": "ignored",
          "traceback": [
            "\u001b[0;31m---------------------------------------------------------------------------\u001b[0m",
            "\u001b[0;31mNameError\u001b[0m                                 Traceback (most recent call last)",
            "\u001b[0;32m<ipython-input-10-fba2949cd4b0>\u001b[0m in \u001b[0;36m<module>\u001b[0;34m()\u001b[0m\n\u001b[0;32m----> 1\u001b[0;31m \u001b[0mconjunto\u001b[0m\u001b[0;34m[\u001b[0m\u001b[0;36m0\u001b[0m\u001b[0;34m]\u001b[0m\u001b[0;34m\u001b[0m\u001b[0;34m\u001b[0m\u001b[0m\n\u001b[0m",
            "\u001b[0;31mNameError\u001b[0m: name 'conjunto' is not defined"
          ]
        }
      ]
    },
    {
      "cell_type": "markdown",
      "metadata": {
        "id": "XlbkAV7MPPGZ"
      },
      "source": [
        "Exemplo Megasena"
      ]
    },
    {
      "cell_type": "code",
      "metadata": {
        "id": "gWG2UYlyPNWY"
      },
      "source": [
        "import random\n",
        "\n",
        "# retirando uma amostra com o método \"sample\", onde essa amostra é definida pelo parâmetro k.\n",
        "meujogo = random.sample(range(1, 61), k = 6)\n",
        "sorteio = random.sample(range(1, 61), k = 6)"
      ],
      "execution_count": null,
      "outputs": []
    },
    {
      "cell_type": "code",
      "metadata": {
        "id": "nR2F1OGQRXIa"
      },
      "source": [
        "# transformando jogo e sorteio em um conjunto com a função \"set\"\n",
        "meujogo = set(meujogo)\n",
        "sorteio = set(sorteio)"
      ],
      "execution_count": null,
      "outputs": []
    },
    {
      "cell_type": "code",
      "metadata": {
        "id": "QDuSO9vJze0v"
      },
      "source": [
        "# criando uma contagem da quantidade de acertos.\n",
        "numeros = sorteio.intersection(meujogo)\n",
        "acertos = len(numeros)"
      ],
      "execution_count": null,
      "outputs": []
    },
    {
      "cell_type": "code",
      "metadata": {
        "colab": {
          "base_uri": "https://localhost:8080/"
        },
        "id": "4NTLzmf80IdH",
        "outputId": "24ee6a17-078e-45ea-96ef-68499fa418b7"
      },
      "source": [
        "print(' Sorteio:', sorteio)\n",
        "print('Meu jogo:', meujogo)\n",
        "print('#Acertos:', acertos)"
      ],
      "execution_count": null,
      "outputs": [
        {
          "output_type": "stream",
          "text": [
            " Sorteio: {35, 37, 38, 52, 53, 57}\n",
            "Meu jogo: {40, 41, 9, 16, 21, 59}\n",
            "#Acertos: 0\n"
          ],
          "name": "stdout"
        }
      ]
    },
    {
      "cell_type": "code",
      "metadata": {
        "id": "iIvHY_oNSmo2"
      },
      "source": [
        "def Megasena():\n",
        "  meujogo = random.sample(range(1, 61), k = 6)\n",
        "  sorteio = random.sample(range(1, 61), k = 6)\n",
        "  acertos = set(meujogo).intersection(set(sorteio))\n",
        "  return len(acertos)"
      ],
      "execution_count": null,
      "outputs": []
    },
    {
      "cell_type": "code",
      "metadata": {
        "colab": {
          "base_uri": "https://localhost:8080/"
        },
        "id": "sZbLvXbyS7WD",
        "outputId": "f3f161ba-1f47-4b78-9f7d-3612c8713758"
      },
      "source": [
        "Megasena()"
      ],
      "execution_count": null,
      "outputs": [
        {
          "output_type": "execute_result",
          "data": {
            "text/plain": [
              "0"
            ]
          },
          "metadata": {
            "tags": []
          },
          "execution_count": 16
        }
      ]
    },
    {
      "cell_type": "code",
      "metadata": {
        "id": "cJJBNzwpS-xt"
      },
      "source": [
        "resultados = []\n",
        "# quantidade de sorteios que a mega sena teve até o momento.\n",
        "R = 2348\n",
        "\n",
        "for i in range(R):\n",
        "  resultados.append(Megasena())"
      ],
      "execution_count": null,
      "outputs": []
    },
    {
      "cell_type": "code",
      "metadata": {
        "colab": {
          "base_uri": "https://localhost:8080/"
        },
        "id": "CNyoULBwTZYf",
        "outputId": "0a5b4ad6-f164-44e9-90e8-92c5cc020462"
      },
      "source": [
        "# quantidade de acertos\n",
        "resultados.count(2)"
      ],
      "execution_count": null,
      "outputs": [
        {
          "output_type": "execute_result",
          "data": {
            "text/plain": [
              "208"
            ]
          },
          "metadata": {
            "tags": []
          },
          "execution_count": 18
        }
      ]
    },
    {
      "cell_type": "code",
      "metadata": {
        "colab": {
          "base_uri": "https://localhost:8080/"
        },
        "id": "xfr5MKabTiXC",
        "outputId": "135730d8-55a2-45a0-c8fd-13c604ff4469"
      },
      "source": [
        "# probabilidade de acertar X números da Mega Sena\n",
        "resultados.count(2)/R"
      ],
      "execution_count": null,
      "outputs": [
        {
          "output_type": "execute_result",
          "data": {
            "text/plain": [
              "0.08858603066439523"
            ]
          },
          "metadata": {
            "tags": []
          },
          "execution_count": 19
        }
      ]
    },
    {
      "cell_type": "markdown",
      "metadata": {
        "id": "5SfAlT-MUp_e"
      },
      "source": [
        "#**Exercício**\n",
        "\n",
        "Utilizando a frequencia relativa com que cada jogo ocorre, estime as probabilidades de acertar cada quantidade possível de acertos no jogo da mega-sena."
      ]
    },
    {
      "cell_type": "markdown",
      "metadata": {
        "id": "O3cb7SHdU-M1"
      },
      "source": [
        "#Dicionários"
      ]
    },
    {
      "cell_type": "code",
      "metadata": {
        "id": "y3_0hsdPUo9F"
      },
      "source": [
        "dicionario = {'nome': 'Ederson', 'idade': 35, 'comida': 'lasanha'}"
      ],
      "execution_count": null,
      "outputs": []
    },
    {
      "cell_type": "code",
      "metadata": {
        "colab": {
          "base_uri": "https://localhost:8080/"
        },
        "id": "Dgx2ibrLVWbI",
        "outputId": "1b45c902-2bdb-4f11-8366-1cfd360cdd7d"
      },
      "source": [
        "dicionario"
      ],
      "execution_count": null,
      "outputs": [
        {
          "output_type": "execute_result",
          "data": {
            "text/plain": [
              "{'comida': 'lasanha', 'idade': 35, 'nome': 'Ederson'}"
            ]
          },
          "metadata": {
            "tags": []
          },
          "execution_count": 21
        }
      ]
    },
    {
      "cell_type": "code",
      "metadata": {
        "colab": {
          "base_uri": "https://localhost:8080/",
          "height": 35
        },
        "id": "7XdlFI2cVaKR",
        "outputId": "989e586a-cb7e-45ab-fdb6-4f3dc102ae9c"
      },
      "source": [
        "dicionario['nome']"
      ],
      "execution_count": null,
      "outputs": [
        {
          "output_type": "execute_result",
          "data": {
            "application/vnd.google.colaboratory.intrinsic+json": {
              "type": "string"
            },
            "text/plain": [
              "'Ederson'"
            ]
          },
          "metadata": {
            "tags": []
          },
          "execution_count": 22
        }
      ]
    },
    {
      "cell_type": "code",
      "metadata": {
        "colab": {
          "base_uri": "https://localhost:8080/"
        },
        "id": "P0GaQrljeDUd",
        "outputId": "01aff6be-d982-4979-be9b-bcf27bbfee55"
      },
      "source": [
        "dicionario.keys()"
      ],
      "execution_count": null,
      "outputs": [
        {
          "output_type": "execute_result",
          "data": {
            "text/plain": [
              "dict_keys(['nome', 'idade', 'comida'])"
            ]
          },
          "metadata": {
            "tags": []
          },
          "execution_count": 23
        }
      ]
    },
    {
      "cell_type": "code",
      "metadata": {
        "colab": {
          "base_uri": "https://localhost:8080/"
        },
        "id": "PGxwrON8eMt-",
        "outputId": "41d6cb35-74ac-452b-e93a-3ae453c81d9d"
      },
      "source": [
        "dicionario.values()"
      ],
      "execution_count": null,
      "outputs": [
        {
          "output_type": "execute_result",
          "data": {
            "text/plain": [
              "dict_values(['Ederson', 35, 'lasanha'])"
            ]
          },
          "metadata": {
            "tags": []
          },
          "execution_count": 24
        }
      ]
    },
    {
      "cell_type": "code",
      "metadata": {
        "id": "e3JCBmb9gteB"
      },
      "source": [
        "parametros = {'low': 2, 'high': 9, 'size': 20}"
      ],
      "execution_count": null,
      "outputs": []
    },
    {
      "cell_type": "code",
      "metadata": {
        "id": "4E3ws5zog5mP"
      },
      "source": [
        "import numpy as np"
      ],
      "execution_count": null,
      "outputs": []
    },
    {
      "cell_type": "code",
      "metadata": {
        "colab": {
          "base_uri": "https://localhost:8080/"
        },
        "id": "P3VlBgO9g8uO",
        "outputId": "f22d358c-d244-481c-bee1-f3f71fdb9144"
      },
      "source": [
        "np.random.uniform(low = 2, high = 9, size = 20)"
      ],
      "execution_count": null,
      "outputs": [
        {
          "output_type": "execute_result",
          "data": {
            "text/plain": [
              "array([7.0543533 , 7.31427978, 6.28435279, 4.65955708, 8.71968872,\n",
              "       7.43694641, 5.84679002, 6.82861473, 6.12229386, 2.92591118,\n",
              "       5.69065413, 7.16986705, 3.25630441, 4.51118063, 2.02314608,\n",
              "       8.0284819 , 2.61130122, 6.14829381, 7.97926116, 8.69048034])"
            ]
          },
          "metadata": {
            "tags": []
          },
          "execution_count": 27
        }
      ]
    },
    {
      "cell_type": "code",
      "metadata": {
        "colab": {
          "base_uri": "https://localhost:8080/"
        },
        "id": "sMc6XEwvhzQK",
        "outputId": "91fa1f1a-bd6c-4351-d46e-0a47ddc00693"
      },
      "source": [
        "np.random.uniform(**parametros)"
      ],
      "execution_count": null,
      "outputs": [
        {
          "output_type": "execute_result",
          "data": {
            "text/plain": [
              "array([5.22732149, 7.02627125, 7.86432064, 4.38934523, 8.32939658,\n",
              "       7.82084482, 4.97149397, 8.94254109, 7.82779232, 2.6018167 ,\n",
              "       8.39353514, 8.1520858 , 8.68183046, 7.16761903, 6.57244384,\n",
              "       8.22525925, 7.35709446, 4.85886551, 8.75703755, 2.0325883 ])"
            ]
          },
          "metadata": {
            "tags": []
          },
          "execution_count": 28
        }
      ]
    },
    {
      "cell_type": "markdown",
      "metadata": {
        "id": "RjSE_w_SVeVB"
      },
      "source": [
        "#Pandas"
      ]
    },
    {
      "cell_type": "code",
      "metadata": {
        "id": "ojsbWwfAWUM_"
      },
      "source": [
        "notas = np.random.uniform(**parametros).reshape(5, 4).round(1)"
      ],
      "execution_count": null,
      "outputs": []
    },
    {
      "cell_type": "code",
      "metadata": {
        "colab": {
          "base_uri": "https://localhost:8080/"
        },
        "id": "kBzpDP2amPNw",
        "outputId": "ac6604d3-9b45-4d65-abfe-6cbd20ec5785"
      },
      "source": [
        "notas"
      ],
      "execution_count": null,
      "outputs": [
        {
          "output_type": "execute_result",
          "data": {
            "text/plain": [
              "array([[8.2, 7.1, 4.3, 7.6],\n",
              "       [6.5, 6.2, 4.8, 4.3],\n",
              "       [3.7, 4.6, 6.1, 5.2],\n",
              "       [3. , 7.9, 5.6, 4.7],\n",
              "       [7.9, 2.4, 8. , 4.5]])"
            ]
          },
          "metadata": {
            "tags": []
          },
          "execution_count": 30
        }
      ]
    },
    {
      "cell_type": "code",
      "metadata": {
        "id": "_BQPSW1PnSYA"
      },
      "source": [
        "import pandas as pd"
      ],
      "execution_count": null,
      "outputs": []
    },
    {
      "cell_type": "code",
      "metadata": {
        "colab": {
          "base_uri": "https://localhost:8080/",
          "height": 204
        },
        "id": "Ix9BlDpfnVxm",
        "outputId": "7a832380-138f-4dfc-99ae-4957541820df"
      },
      "source": [
        "pd.DataFrame(notas)"
      ],
      "execution_count": null,
      "outputs": [
        {
          "output_type": "execute_result",
          "data": {
            "text/html": [
              "<div>\n",
              "<style scoped>\n",
              "    .dataframe tbody tr th:only-of-type {\n",
              "        vertical-align: middle;\n",
              "    }\n",
              "\n",
              "    .dataframe tbody tr th {\n",
              "        vertical-align: top;\n",
              "    }\n",
              "\n",
              "    .dataframe thead th {\n",
              "        text-align: right;\n",
              "    }\n",
              "</style>\n",
              "<table border=\"1\" class=\"dataframe\">\n",
              "  <thead>\n",
              "    <tr style=\"text-align: right;\">\n",
              "      <th></th>\n",
              "      <th>0</th>\n",
              "      <th>1</th>\n",
              "      <th>2</th>\n",
              "      <th>3</th>\n",
              "    </tr>\n",
              "  </thead>\n",
              "  <tbody>\n",
              "    <tr>\n",
              "      <th>0</th>\n",
              "      <td>8.2</td>\n",
              "      <td>7.1</td>\n",
              "      <td>4.3</td>\n",
              "      <td>7.6</td>\n",
              "    </tr>\n",
              "    <tr>\n",
              "      <th>1</th>\n",
              "      <td>6.5</td>\n",
              "      <td>6.2</td>\n",
              "      <td>4.8</td>\n",
              "      <td>4.3</td>\n",
              "    </tr>\n",
              "    <tr>\n",
              "      <th>2</th>\n",
              "      <td>3.7</td>\n",
              "      <td>4.6</td>\n",
              "      <td>6.1</td>\n",
              "      <td>5.2</td>\n",
              "    </tr>\n",
              "    <tr>\n",
              "      <th>3</th>\n",
              "      <td>3.0</td>\n",
              "      <td>7.9</td>\n",
              "      <td>5.6</td>\n",
              "      <td>4.7</td>\n",
              "    </tr>\n",
              "    <tr>\n",
              "      <th>4</th>\n",
              "      <td>7.9</td>\n",
              "      <td>2.4</td>\n",
              "      <td>8.0</td>\n",
              "      <td>4.5</td>\n",
              "    </tr>\n",
              "  </tbody>\n",
              "</table>\n",
              "</div>"
            ],
            "text/plain": [
              "     0    1    2    3\n",
              "0  8.2  7.1  4.3  7.6\n",
              "1  6.5  6.2  4.8  4.3\n",
              "2  3.7  4.6  6.1  5.2\n",
              "3  3.0  7.9  5.6  4.7\n",
              "4  7.9  2.4  8.0  4.5"
            ]
          },
          "metadata": {
            "tags": []
          },
          "execution_count": 32
        }
      ]
    },
    {
      "cell_type": "code",
      "metadata": {
        "id": "X_S9z1Apnh3u"
      },
      "source": [
        "nomes = ['Alice', 'Bruno', 'Carla', 'David', 'Emily']\n",
        "\n",
        "colunas = ['P1', 'P2', 'P3', 'P4']"
      ],
      "execution_count": null,
      "outputs": []
    },
    {
      "cell_type": "code",
      "metadata": {
        "colab": {
          "base_uri": "https://localhost:8080/",
          "height": 204
        },
        "id": "prhGn1h6pRvo",
        "outputId": "81f568cb-91b1-4256-8931-4be7fe923b99"
      },
      "source": [
        "provas = pd.DataFrame(notas, index = nomes, columns = colunas)\n",
        "provas"
      ],
      "execution_count": null,
      "outputs": [
        {
          "output_type": "execute_result",
          "data": {
            "text/html": [
              "<div>\n",
              "<style scoped>\n",
              "    .dataframe tbody tr th:only-of-type {\n",
              "        vertical-align: middle;\n",
              "    }\n",
              "\n",
              "    .dataframe tbody tr th {\n",
              "        vertical-align: top;\n",
              "    }\n",
              "\n",
              "    .dataframe thead th {\n",
              "        text-align: right;\n",
              "    }\n",
              "</style>\n",
              "<table border=\"1\" class=\"dataframe\">\n",
              "  <thead>\n",
              "    <tr style=\"text-align: right;\">\n",
              "      <th></th>\n",
              "      <th>P1</th>\n",
              "      <th>P2</th>\n",
              "      <th>P3</th>\n",
              "      <th>P4</th>\n",
              "    </tr>\n",
              "  </thead>\n",
              "  <tbody>\n",
              "    <tr>\n",
              "      <th>Alice</th>\n",
              "      <td>8.2</td>\n",
              "      <td>7.1</td>\n",
              "      <td>4.3</td>\n",
              "      <td>7.6</td>\n",
              "    </tr>\n",
              "    <tr>\n",
              "      <th>Bruno</th>\n",
              "      <td>6.5</td>\n",
              "      <td>6.2</td>\n",
              "      <td>4.8</td>\n",
              "      <td>4.3</td>\n",
              "    </tr>\n",
              "    <tr>\n",
              "      <th>Carla</th>\n",
              "      <td>3.7</td>\n",
              "      <td>4.6</td>\n",
              "      <td>6.1</td>\n",
              "      <td>5.2</td>\n",
              "    </tr>\n",
              "    <tr>\n",
              "      <th>David</th>\n",
              "      <td>3.0</td>\n",
              "      <td>7.9</td>\n",
              "      <td>5.6</td>\n",
              "      <td>4.7</td>\n",
              "    </tr>\n",
              "    <tr>\n",
              "      <th>Emily</th>\n",
              "      <td>7.9</td>\n",
              "      <td>2.4</td>\n",
              "      <td>8.0</td>\n",
              "      <td>4.5</td>\n",
              "    </tr>\n",
              "  </tbody>\n",
              "</table>\n",
              "</div>"
            ],
            "text/plain": [
              "        P1   P2   P3   P4\n",
              "Alice  8.2  7.1  4.3  7.6\n",
              "Bruno  6.5  6.2  4.8  4.3\n",
              "Carla  3.7  4.6  6.1  5.2\n",
              "David  3.0  7.9  5.6  4.7\n",
              "Emily  7.9  2.4  8.0  4.5"
            ]
          },
          "metadata": {
            "tags": []
          },
          "execution_count": 35
        }
      ]
    },
    {
      "cell_type": "code",
      "metadata": {
        "colab": {
          "base_uri": "https://localhost:8080/",
          "height": 173
        },
        "id": "N77VOVJlpsFu",
        "outputId": "1d0f7453-5573-4656-b38f-5f90fe371020"
      },
      "source": [
        "provas.transpose()"
      ],
      "execution_count": null,
      "outputs": [
        {
          "output_type": "execute_result",
          "data": {
            "text/html": [
              "<div>\n",
              "<style scoped>\n",
              "    .dataframe tbody tr th:only-of-type {\n",
              "        vertical-align: middle;\n",
              "    }\n",
              "\n",
              "    .dataframe tbody tr th {\n",
              "        vertical-align: top;\n",
              "    }\n",
              "\n",
              "    .dataframe thead th {\n",
              "        text-align: right;\n",
              "    }\n",
              "</style>\n",
              "<table border=\"1\" class=\"dataframe\">\n",
              "  <thead>\n",
              "    <tr style=\"text-align: right;\">\n",
              "      <th></th>\n",
              "      <th>Alice</th>\n",
              "      <th>Bruno</th>\n",
              "      <th>Carla</th>\n",
              "      <th>David</th>\n",
              "      <th>Emily</th>\n",
              "    </tr>\n",
              "  </thead>\n",
              "  <tbody>\n",
              "    <tr>\n",
              "      <th>P1</th>\n",
              "      <td>8.2</td>\n",
              "      <td>6.5</td>\n",
              "      <td>3.7</td>\n",
              "      <td>3.0</td>\n",
              "      <td>7.9</td>\n",
              "    </tr>\n",
              "    <tr>\n",
              "      <th>P2</th>\n",
              "      <td>7.1</td>\n",
              "      <td>6.2</td>\n",
              "      <td>4.6</td>\n",
              "      <td>7.9</td>\n",
              "      <td>2.4</td>\n",
              "    </tr>\n",
              "    <tr>\n",
              "      <th>P3</th>\n",
              "      <td>4.3</td>\n",
              "      <td>4.8</td>\n",
              "      <td>6.1</td>\n",
              "      <td>5.6</td>\n",
              "      <td>8.0</td>\n",
              "    </tr>\n",
              "    <tr>\n",
              "      <th>P4</th>\n",
              "      <td>7.6</td>\n",
              "      <td>4.3</td>\n",
              "      <td>5.2</td>\n",
              "      <td>4.7</td>\n",
              "      <td>4.5</td>\n",
              "    </tr>\n",
              "  </tbody>\n",
              "</table>\n",
              "</div>"
            ],
            "text/plain": [
              "    Alice  Bruno  Carla  David  Emily\n",
              "P1    8.2    6.5    3.7    3.0    7.9\n",
              "P2    7.1    6.2    4.6    7.9    2.4\n",
              "P3    4.3    4.8    6.1    5.6    8.0\n",
              "P4    7.6    4.3    5.2    4.7    4.5"
            ]
          },
          "metadata": {
            "tags": []
          },
          "execution_count": 36
        }
      ]
    },
    {
      "cell_type": "code",
      "metadata": {
        "colab": {
          "base_uri": "https://localhost:8080/",
          "height": 173
        },
        "id": "QyKCvOGvqHwQ",
        "outputId": "fd58602e-2cb7-4c28-c927-7bb98fa39377"
      },
      "source": [
        "provas.T"
      ],
      "execution_count": null,
      "outputs": [
        {
          "output_type": "execute_result",
          "data": {
            "text/html": [
              "<div>\n",
              "<style scoped>\n",
              "    .dataframe tbody tr th:only-of-type {\n",
              "        vertical-align: middle;\n",
              "    }\n",
              "\n",
              "    .dataframe tbody tr th {\n",
              "        vertical-align: top;\n",
              "    }\n",
              "\n",
              "    .dataframe thead th {\n",
              "        text-align: right;\n",
              "    }\n",
              "</style>\n",
              "<table border=\"1\" class=\"dataframe\">\n",
              "  <thead>\n",
              "    <tr style=\"text-align: right;\">\n",
              "      <th></th>\n",
              "      <th>Alice</th>\n",
              "      <th>Bruno</th>\n",
              "      <th>Carla</th>\n",
              "      <th>David</th>\n",
              "      <th>Emily</th>\n",
              "    </tr>\n",
              "  </thead>\n",
              "  <tbody>\n",
              "    <tr>\n",
              "      <th>P1</th>\n",
              "      <td>8.2</td>\n",
              "      <td>6.5</td>\n",
              "      <td>3.7</td>\n",
              "      <td>3.0</td>\n",
              "      <td>7.9</td>\n",
              "    </tr>\n",
              "    <tr>\n",
              "      <th>P2</th>\n",
              "      <td>7.1</td>\n",
              "      <td>6.2</td>\n",
              "      <td>4.6</td>\n",
              "      <td>7.9</td>\n",
              "      <td>2.4</td>\n",
              "    </tr>\n",
              "    <tr>\n",
              "      <th>P3</th>\n",
              "      <td>4.3</td>\n",
              "      <td>4.8</td>\n",
              "      <td>6.1</td>\n",
              "      <td>5.6</td>\n",
              "      <td>8.0</td>\n",
              "    </tr>\n",
              "    <tr>\n",
              "      <th>P4</th>\n",
              "      <td>7.6</td>\n",
              "      <td>4.3</td>\n",
              "      <td>5.2</td>\n",
              "      <td>4.7</td>\n",
              "      <td>4.5</td>\n",
              "    </tr>\n",
              "  </tbody>\n",
              "</table>\n",
              "</div>"
            ],
            "text/plain": [
              "    Alice  Bruno  Carla  David  Emily\n",
              "P1    8.2    6.5    3.7    3.0    7.9\n",
              "P2    7.1    6.2    4.6    7.9    2.4\n",
              "P3    4.3    4.8    6.1    5.6    8.0\n",
              "P4    7.6    4.3    5.2    4.7    4.5"
            ]
          },
          "metadata": {
            "tags": []
          },
          "execution_count": 37
        }
      ]
    },
    {
      "cell_type": "code",
      "metadata": {
        "colab": {
          "base_uri": "https://localhost:8080/"
        },
        "id": "dStA-atcqZd2",
        "outputId": "3dd6836f-6f85-425d-9a09-d24c951df46a"
      },
      "source": [
        "provas.info()"
      ],
      "execution_count": null,
      "outputs": [
        {
          "output_type": "stream",
          "text": [
            "<class 'pandas.core.frame.DataFrame'>\n",
            "Index: 5 entries, Alice to Emily\n",
            "Data columns (total 4 columns):\n",
            " #   Column  Non-Null Count  Dtype  \n",
            "---  ------  --------------  -----  \n",
            " 0   P1      5 non-null      float64\n",
            " 1   P2      5 non-null      float64\n",
            " 2   P3      5 non-null      float64\n",
            " 3   P4      5 non-null      float64\n",
            "dtypes: float64(4)\n",
            "memory usage: 360.0+ bytes\n"
          ],
          "name": "stdout"
        }
      ]
    },
    {
      "cell_type": "code",
      "metadata": {
        "colab": {
          "base_uri": "https://localhost:8080/"
        },
        "id": "0BJI5bkEqdQX",
        "outputId": "21ab59a0-e599-444b-b11e-f98436fe04e5"
      },
      "source": [
        "provas.shape"
      ],
      "execution_count": null,
      "outputs": [
        {
          "output_type": "execute_result",
          "data": {
            "text/plain": [
              "(5, 4)"
            ]
          },
          "metadata": {
            "tags": []
          },
          "execution_count": 39
        }
      ]
    },
    {
      "cell_type": "code",
      "metadata": {
        "colab": {
          "base_uri": "https://localhost:8080/",
          "height": 142
        },
        "id": "avTxvl6vqf18",
        "outputId": "b88eb25a-bdb2-497e-a0a3-db55e0d9d0ad"
      },
      "source": [
        "provas.head(3)"
      ],
      "execution_count": null,
      "outputs": [
        {
          "output_type": "execute_result",
          "data": {
            "text/html": [
              "<div>\n",
              "<style scoped>\n",
              "    .dataframe tbody tr th:only-of-type {\n",
              "        vertical-align: middle;\n",
              "    }\n",
              "\n",
              "    .dataframe tbody tr th {\n",
              "        vertical-align: top;\n",
              "    }\n",
              "\n",
              "    .dataframe thead th {\n",
              "        text-align: right;\n",
              "    }\n",
              "</style>\n",
              "<table border=\"1\" class=\"dataframe\">\n",
              "  <thead>\n",
              "    <tr style=\"text-align: right;\">\n",
              "      <th></th>\n",
              "      <th>P1</th>\n",
              "      <th>P2</th>\n",
              "      <th>P3</th>\n",
              "      <th>P4</th>\n",
              "    </tr>\n",
              "  </thead>\n",
              "  <tbody>\n",
              "    <tr>\n",
              "      <th>Alice</th>\n",
              "      <td>8.2</td>\n",
              "      <td>7.1</td>\n",
              "      <td>4.3</td>\n",
              "      <td>7.6</td>\n",
              "    </tr>\n",
              "    <tr>\n",
              "      <th>Bruno</th>\n",
              "      <td>6.5</td>\n",
              "      <td>6.2</td>\n",
              "      <td>4.8</td>\n",
              "      <td>4.3</td>\n",
              "    </tr>\n",
              "    <tr>\n",
              "      <th>Carla</th>\n",
              "      <td>3.7</td>\n",
              "      <td>4.6</td>\n",
              "      <td>6.1</td>\n",
              "      <td>5.2</td>\n",
              "    </tr>\n",
              "  </tbody>\n",
              "</table>\n",
              "</div>"
            ],
            "text/plain": [
              "        P1   P2   P3   P4\n",
              "Alice  8.2  7.1  4.3  7.6\n",
              "Bruno  6.5  6.2  4.8  4.3\n",
              "Carla  3.7  4.6  6.1  5.2"
            ]
          },
          "metadata": {
            "tags": []
          },
          "execution_count": 40
        }
      ]
    },
    {
      "cell_type": "code",
      "metadata": {
        "colab": {
          "base_uri": "https://localhost:8080/",
          "height": 142
        },
        "id": "4YsoKb8fqlvq",
        "outputId": "1d841614-b06c-419f-a220-5f736c41603c"
      },
      "source": [
        "provas.tail(3)"
      ],
      "execution_count": null,
      "outputs": [
        {
          "output_type": "execute_result",
          "data": {
            "text/html": [
              "<div>\n",
              "<style scoped>\n",
              "    .dataframe tbody tr th:only-of-type {\n",
              "        vertical-align: middle;\n",
              "    }\n",
              "\n",
              "    .dataframe tbody tr th {\n",
              "        vertical-align: top;\n",
              "    }\n",
              "\n",
              "    .dataframe thead th {\n",
              "        text-align: right;\n",
              "    }\n",
              "</style>\n",
              "<table border=\"1\" class=\"dataframe\">\n",
              "  <thead>\n",
              "    <tr style=\"text-align: right;\">\n",
              "      <th></th>\n",
              "      <th>P1</th>\n",
              "      <th>P2</th>\n",
              "      <th>P3</th>\n",
              "      <th>P4</th>\n",
              "    </tr>\n",
              "  </thead>\n",
              "  <tbody>\n",
              "    <tr>\n",
              "      <th>Carla</th>\n",
              "      <td>3.7</td>\n",
              "      <td>4.6</td>\n",
              "      <td>6.1</td>\n",
              "      <td>5.2</td>\n",
              "    </tr>\n",
              "    <tr>\n",
              "      <th>David</th>\n",
              "      <td>3.0</td>\n",
              "      <td>7.9</td>\n",
              "      <td>5.6</td>\n",
              "      <td>4.7</td>\n",
              "    </tr>\n",
              "    <tr>\n",
              "      <th>Emily</th>\n",
              "      <td>7.9</td>\n",
              "      <td>2.4</td>\n",
              "      <td>8.0</td>\n",
              "      <td>4.5</td>\n",
              "    </tr>\n",
              "  </tbody>\n",
              "</table>\n",
              "</div>"
            ],
            "text/plain": [
              "        P1   P2   P3   P4\n",
              "Carla  3.7  4.6  6.1  5.2\n",
              "David  3.0  7.9  5.6  4.7\n",
              "Emily  7.9  2.4  8.0  4.5"
            ]
          },
          "metadata": {
            "tags": []
          },
          "execution_count": 41
        }
      ]
    },
    {
      "cell_type": "code",
      "metadata": {
        "colab": {
          "base_uri": "https://localhost:8080/",
          "height": 142
        },
        "id": "7CPhcrt-q7IF",
        "outputId": "41c5564a-6037-49ab-bf33-3701f5711eb4"
      },
      "source": [
        "provas.sample(3)"
      ],
      "execution_count": null,
      "outputs": [
        {
          "output_type": "execute_result",
          "data": {
            "text/html": [
              "<div>\n",
              "<style scoped>\n",
              "    .dataframe tbody tr th:only-of-type {\n",
              "        vertical-align: middle;\n",
              "    }\n",
              "\n",
              "    .dataframe tbody tr th {\n",
              "        vertical-align: top;\n",
              "    }\n",
              "\n",
              "    .dataframe thead th {\n",
              "        text-align: right;\n",
              "    }\n",
              "</style>\n",
              "<table border=\"1\" class=\"dataframe\">\n",
              "  <thead>\n",
              "    <tr style=\"text-align: right;\">\n",
              "      <th></th>\n",
              "      <th>P1</th>\n",
              "      <th>P2</th>\n",
              "      <th>P3</th>\n",
              "      <th>P4</th>\n",
              "    </tr>\n",
              "  </thead>\n",
              "  <tbody>\n",
              "    <tr>\n",
              "      <th>Carla</th>\n",
              "      <td>3.7</td>\n",
              "      <td>4.6</td>\n",
              "      <td>6.1</td>\n",
              "      <td>5.2</td>\n",
              "    </tr>\n",
              "    <tr>\n",
              "      <th>David</th>\n",
              "      <td>3.0</td>\n",
              "      <td>7.9</td>\n",
              "      <td>5.6</td>\n",
              "      <td>4.7</td>\n",
              "    </tr>\n",
              "    <tr>\n",
              "      <th>Emily</th>\n",
              "      <td>7.9</td>\n",
              "      <td>2.4</td>\n",
              "      <td>8.0</td>\n",
              "      <td>4.5</td>\n",
              "    </tr>\n",
              "  </tbody>\n",
              "</table>\n",
              "</div>"
            ],
            "text/plain": [
              "        P1   P2   P3   P4\n",
              "Carla  3.7  4.6  6.1  5.2\n",
              "David  3.0  7.9  5.6  4.7\n",
              "Emily  7.9  2.4  8.0  4.5"
            ]
          },
          "metadata": {
            "tags": []
          },
          "execution_count": 42
        }
      ]
    },
    {
      "cell_type": "code",
      "metadata": {
        "colab": {
          "base_uri": "https://localhost:8080/",
          "height": 297
        },
        "id": "bhvfNpSyq92n",
        "outputId": "505d067a-8b8b-4127-b8b7-1763dd477d29"
      },
      "source": [
        "provas.describe()"
      ],
      "execution_count": null,
      "outputs": [
        {
          "output_type": "execute_result",
          "data": {
            "text/html": [
              "<div>\n",
              "<style scoped>\n",
              "    .dataframe tbody tr th:only-of-type {\n",
              "        vertical-align: middle;\n",
              "    }\n",
              "\n",
              "    .dataframe tbody tr th {\n",
              "        vertical-align: top;\n",
              "    }\n",
              "\n",
              "    .dataframe thead th {\n",
              "        text-align: right;\n",
              "    }\n",
              "</style>\n",
              "<table border=\"1\" class=\"dataframe\">\n",
              "  <thead>\n",
              "    <tr style=\"text-align: right;\">\n",
              "      <th></th>\n",
              "      <th>P1</th>\n",
              "      <th>P2</th>\n",
              "      <th>P3</th>\n",
              "      <th>P4</th>\n",
              "    </tr>\n",
              "  </thead>\n",
              "  <tbody>\n",
              "    <tr>\n",
              "      <th>count</th>\n",
              "      <td>5.000000</td>\n",
              "      <td>5.000000</td>\n",
              "      <td>5.000000</td>\n",
              "      <td>5.000000</td>\n",
              "    </tr>\n",
              "    <tr>\n",
              "      <th>mean</th>\n",
              "      <td>5.860000</td>\n",
              "      <td>5.640000</td>\n",
              "      <td>5.760000</td>\n",
              "      <td>5.260000</td>\n",
              "    </tr>\n",
              "    <tr>\n",
              "      <th>std</th>\n",
              "      <td>2.392279</td>\n",
              "      <td>2.187007</td>\n",
              "      <td>1.432829</td>\n",
              "      <td>1.350185</td>\n",
              "    </tr>\n",
              "    <tr>\n",
              "      <th>min</th>\n",
              "      <td>3.000000</td>\n",
              "      <td>2.400000</td>\n",
              "      <td>4.300000</td>\n",
              "      <td>4.300000</td>\n",
              "    </tr>\n",
              "    <tr>\n",
              "      <th>25%</th>\n",
              "      <td>3.700000</td>\n",
              "      <td>4.600000</td>\n",
              "      <td>4.800000</td>\n",
              "      <td>4.500000</td>\n",
              "    </tr>\n",
              "    <tr>\n",
              "      <th>50%</th>\n",
              "      <td>6.500000</td>\n",
              "      <td>6.200000</td>\n",
              "      <td>5.600000</td>\n",
              "      <td>4.700000</td>\n",
              "    </tr>\n",
              "    <tr>\n",
              "      <th>75%</th>\n",
              "      <td>7.900000</td>\n",
              "      <td>7.100000</td>\n",
              "      <td>6.100000</td>\n",
              "      <td>5.200000</td>\n",
              "    </tr>\n",
              "    <tr>\n",
              "      <th>max</th>\n",
              "      <td>8.200000</td>\n",
              "      <td>7.900000</td>\n",
              "      <td>8.000000</td>\n",
              "      <td>7.600000</td>\n",
              "    </tr>\n",
              "  </tbody>\n",
              "</table>\n",
              "</div>"
            ],
            "text/plain": [
              "             P1        P2        P3        P4\n",
              "count  5.000000  5.000000  5.000000  5.000000\n",
              "mean   5.860000  5.640000  5.760000  5.260000\n",
              "std    2.392279  2.187007  1.432829  1.350185\n",
              "min    3.000000  2.400000  4.300000  4.300000\n",
              "25%    3.700000  4.600000  4.800000  4.500000\n",
              "50%    6.500000  6.200000  5.600000  4.700000\n",
              "75%    7.900000  7.100000  6.100000  5.200000\n",
              "max    8.200000  7.900000  8.000000  7.600000"
            ]
          },
          "metadata": {
            "tags": []
          },
          "execution_count": 43
        }
      ]
    },
    {
      "cell_type": "code",
      "metadata": {
        "colab": {
          "base_uri": "https://localhost:8080/",
          "height": 297
        },
        "id": "0YVsxjPerInz",
        "outputId": "de45c1f0-bb07-4d68-a26a-32dc1d1925c1"
      },
      "source": [
        "provas.T.describe()"
      ],
      "execution_count": null,
      "outputs": [
        {
          "output_type": "execute_result",
          "data": {
            "text/html": [
              "<div>\n",
              "<style scoped>\n",
              "    .dataframe tbody tr th:only-of-type {\n",
              "        vertical-align: middle;\n",
              "    }\n",
              "\n",
              "    .dataframe tbody tr th {\n",
              "        vertical-align: top;\n",
              "    }\n",
              "\n",
              "    .dataframe thead th {\n",
              "        text-align: right;\n",
              "    }\n",
              "</style>\n",
              "<table border=\"1\" class=\"dataframe\">\n",
              "  <thead>\n",
              "    <tr style=\"text-align: right;\">\n",
              "      <th></th>\n",
              "      <th>Alice</th>\n",
              "      <th>Bruno</th>\n",
              "      <th>Carla</th>\n",
              "      <th>David</th>\n",
              "      <th>Emily</th>\n",
              "    </tr>\n",
              "  </thead>\n",
              "  <tbody>\n",
              "    <tr>\n",
              "      <th>count</th>\n",
              "      <td>4.000000</td>\n",
              "      <td>4.000000</td>\n",
              "      <td>4.00000</td>\n",
              "      <td>4.000000</td>\n",
              "      <td>4.000000</td>\n",
              "    </tr>\n",
              "    <tr>\n",
              "      <th>mean</th>\n",
              "      <td>6.800000</td>\n",
              "      <td>5.450000</td>\n",
              "      <td>4.90000</td>\n",
              "      <td>5.300000</td>\n",
              "      <td>5.700000</td>\n",
              "    </tr>\n",
              "    <tr>\n",
              "      <th>std</th>\n",
              "      <td>1.726268</td>\n",
              "      <td>1.066146</td>\n",
              "      <td>1.00995</td>\n",
              "      <td>2.041241</td>\n",
              "      <td>2.736177</td>\n",
              "    </tr>\n",
              "    <tr>\n",
              "      <th>min</th>\n",
              "      <td>4.300000</td>\n",
              "      <td>4.300000</td>\n",
              "      <td>3.70000</td>\n",
              "      <td>3.000000</td>\n",
              "      <td>2.400000</td>\n",
              "    </tr>\n",
              "    <tr>\n",
              "      <th>25%</th>\n",
              "      <td>6.400000</td>\n",
              "      <td>4.675000</td>\n",
              "      <td>4.37500</td>\n",
              "      <td>4.275000</td>\n",
              "      <td>3.975000</td>\n",
              "    </tr>\n",
              "    <tr>\n",
              "      <th>50%</th>\n",
              "      <td>7.350000</td>\n",
              "      <td>5.500000</td>\n",
              "      <td>4.90000</td>\n",
              "      <td>5.150000</td>\n",
              "      <td>6.200000</td>\n",
              "    </tr>\n",
              "    <tr>\n",
              "      <th>75%</th>\n",
              "      <td>7.750000</td>\n",
              "      <td>6.275000</td>\n",
              "      <td>5.42500</td>\n",
              "      <td>6.175000</td>\n",
              "      <td>7.925000</td>\n",
              "    </tr>\n",
              "    <tr>\n",
              "      <th>max</th>\n",
              "      <td>8.200000</td>\n",
              "      <td>6.500000</td>\n",
              "      <td>6.10000</td>\n",
              "      <td>7.900000</td>\n",
              "      <td>8.000000</td>\n",
              "    </tr>\n",
              "  </tbody>\n",
              "</table>\n",
              "</div>"
            ],
            "text/plain": [
              "          Alice     Bruno    Carla     David     Emily\n",
              "count  4.000000  4.000000  4.00000  4.000000  4.000000\n",
              "mean   6.800000  5.450000  4.90000  5.300000  5.700000\n",
              "std    1.726268  1.066146  1.00995  2.041241  2.736177\n",
              "min    4.300000  4.300000  3.70000  3.000000  2.400000\n",
              "25%    6.400000  4.675000  4.37500  4.275000  3.975000\n",
              "50%    7.350000  5.500000  4.90000  5.150000  6.200000\n",
              "75%    7.750000  6.275000  5.42500  6.175000  7.925000\n",
              "max    8.200000  6.500000  6.10000  7.900000  8.000000"
            ]
          },
          "metadata": {
            "tags": []
          },
          "execution_count": 44
        }
      ]
    },
    {
      "cell_type": "code",
      "metadata": {
        "id": "NVa3cFl9urRw"
      },
      "source": [
        "sexo = ['F', 'M', 'F', 'M', 'F']"
      ],
      "execution_count": null,
      "outputs": []
    },
    {
      "cell_type": "code",
      "metadata": {
        "colab": {
          "base_uri": "https://localhost:8080/"
        },
        "id": "Bg63h0j2u5Vs",
        "outputId": "777644d1-b356-44fc-d434-a4a691c71b70"
      },
      "source": [
        "provas['P1']"
      ],
      "execution_count": null,
      "outputs": [
        {
          "output_type": "execute_result",
          "data": {
            "text/plain": [
              "Alice    8.2\n",
              "Bruno    6.5\n",
              "Carla    3.7\n",
              "David    3.0\n",
              "Emily    7.9\n",
              "Name: P1, dtype: float64"
            ]
          },
          "metadata": {
            "tags": []
          },
          "execution_count": 46
        }
      ]
    },
    {
      "cell_type": "code",
      "metadata": {
        "colab": {
          "base_uri": "https://localhost:8080/"
        },
        "id": "8CTQopLQvC2C",
        "outputId": "b42b03fb-342b-4cb3-8d52-a35fab89e551"
      },
      "source": [
        "type(provas['P1'])"
      ],
      "execution_count": null,
      "outputs": [
        {
          "output_type": "execute_result",
          "data": {
            "text/plain": [
              "pandas.core.series.Series"
            ]
          },
          "metadata": {
            "tags": []
          },
          "execution_count": 47
        }
      ]
    },
    {
      "cell_type": "code",
      "metadata": {
        "colab": {
          "base_uri": "https://localhost:8080/"
        },
        "id": "AvaD4NyNvK4W",
        "outputId": "25fea90f-11fb-41e5-8a1a-a2146686287c"
      },
      "source": [
        "type(provas)"
      ],
      "execution_count": null,
      "outputs": [
        {
          "output_type": "execute_result",
          "data": {
            "text/plain": [
              "pandas.core.frame.DataFrame"
            ]
          },
          "metadata": {
            "tags": []
          },
          "execution_count": 48
        }
      ]
    },
    {
      "cell_type": "code",
      "metadata": {
        "colab": {
          "base_uri": "https://localhost:8080/",
          "height": 204
        },
        "id": "mD-22b2UvPmj",
        "outputId": "20c8689a-bcac-4ebf-b693-a67f6c6d5cf8"
      },
      "source": [
        "provas[ ['P1', 'P2'] ]"
      ],
      "execution_count": null,
      "outputs": [
        {
          "output_type": "execute_result",
          "data": {
            "text/html": [
              "<div>\n",
              "<style scoped>\n",
              "    .dataframe tbody tr th:only-of-type {\n",
              "        vertical-align: middle;\n",
              "    }\n",
              "\n",
              "    .dataframe tbody tr th {\n",
              "        vertical-align: top;\n",
              "    }\n",
              "\n",
              "    .dataframe thead th {\n",
              "        text-align: right;\n",
              "    }\n",
              "</style>\n",
              "<table border=\"1\" class=\"dataframe\">\n",
              "  <thead>\n",
              "    <tr style=\"text-align: right;\">\n",
              "      <th></th>\n",
              "      <th>P1</th>\n",
              "      <th>P2</th>\n",
              "    </tr>\n",
              "  </thead>\n",
              "  <tbody>\n",
              "    <tr>\n",
              "      <th>Alice</th>\n",
              "      <td>8.2</td>\n",
              "      <td>7.1</td>\n",
              "    </tr>\n",
              "    <tr>\n",
              "      <th>Bruno</th>\n",
              "      <td>6.5</td>\n",
              "      <td>6.2</td>\n",
              "    </tr>\n",
              "    <tr>\n",
              "      <th>Carla</th>\n",
              "      <td>3.7</td>\n",
              "      <td>4.6</td>\n",
              "    </tr>\n",
              "    <tr>\n",
              "      <th>David</th>\n",
              "      <td>3.0</td>\n",
              "      <td>7.9</td>\n",
              "    </tr>\n",
              "    <tr>\n",
              "      <th>Emily</th>\n",
              "      <td>7.9</td>\n",
              "      <td>2.4</td>\n",
              "    </tr>\n",
              "  </tbody>\n",
              "</table>\n",
              "</div>"
            ],
            "text/plain": [
              "        P1   P2\n",
              "Alice  8.2  7.1\n",
              "Bruno  6.5  6.2\n",
              "Carla  3.7  4.6\n",
              "David  3.0  7.9\n",
              "Emily  7.9  2.4"
            ]
          },
          "metadata": {
            "tags": []
          },
          "execution_count": 49
        }
      ]
    },
    {
      "cell_type": "code",
      "metadata": {
        "colab": {
          "base_uri": "https://localhost:8080/",
          "height": 204
        },
        "id": "fl89gqDHvfFi",
        "outputId": "af0d351c-1eae-45e6-dba6-279a3a7d1a9f"
      },
      "source": [
        "provas[['P1']]"
      ],
      "execution_count": null,
      "outputs": [
        {
          "output_type": "execute_result",
          "data": {
            "text/html": [
              "<div>\n",
              "<style scoped>\n",
              "    .dataframe tbody tr th:only-of-type {\n",
              "        vertical-align: middle;\n",
              "    }\n",
              "\n",
              "    .dataframe tbody tr th {\n",
              "        vertical-align: top;\n",
              "    }\n",
              "\n",
              "    .dataframe thead th {\n",
              "        text-align: right;\n",
              "    }\n",
              "</style>\n",
              "<table border=\"1\" class=\"dataframe\">\n",
              "  <thead>\n",
              "    <tr style=\"text-align: right;\">\n",
              "      <th></th>\n",
              "      <th>P1</th>\n",
              "    </tr>\n",
              "  </thead>\n",
              "  <tbody>\n",
              "    <tr>\n",
              "      <th>Alice</th>\n",
              "      <td>8.2</td>\n",
              "    </tr>\n",
              "    <tr>\n",
              "      <th>Bruno</th>\n",
              "      <td>6.5</td>\n",
              "    </tr>\n",
              "    <tr>\n",
              "      <th>Carla</th>\n",
              "      <td>3.7</td>\n",
              "    </tr>\n",
              "    <tr>\n",
              "      <th>David</th>\n",
              "      <td>3.0</td>\n",
              "    </tr>\n",
              "    <tr>\n",
              "      <th>Emily</th>\n",
              "      <td>7.9</td>\n",
              "    </tr>\n",
              "  </tbody>\n",
              "</table>\n",
              "</div>"
            ],
            "text/plain": [
              "        P1\n",
              "Alice  8.2\n",
              "Bruno  6.5\n",
              "Carla  3.7\n",
              "David  3.0\n",
              "Emily  7.9"
            ]
          },
          "metadata": {
            "tags": []
          },
          "execution_count": 50
        }
      ]
    },
    {
      "cell_type": "code",
      "metadata": {
        "id": "GfDZYOm_vi-h"
      },
      "source": [
        "provas['Sexo'] = sexo"
      ],
      "execution_count": null,
      "outputs": []
    },
    {
      "cell_type": "code",
      "metadata": {
        "colab": {
          "base_uri": "https://localhost:8080/",
          "height": 204
        },
        "id": "Jg880vANvr8K",
        "outputId": "b6ec2e65-2a3f-451c-ea7e-2bd6fe355f6f"
      },
      "source": [
        "provas"
      ],
      "execution_count": null,
      "outputs": [
        {
          "output_type": "execute_result",
          "data": {
            "text/html": [
              "<div>\n",
              "<style scoped>\n",
              "    .dataframe tbody tr th:only-of-type {\n",
              "        vertical-align: middle;\n",
              "    }\n",
              "\n",
              "    .dataframe tbody tr th {\n",
              "        vertical-align: top;\n",
              "    }\n",
              "\n",
              "    .dataframe thead th {\n",
              "        text-align: right;\n",
              "    }\n",
              "</style>\n",
              "<table border=\"1\" class=\"dataframe\">\n",
              "  <thead>\n",
              "    <tr style=\"text-align: right;\">\n",
              "      <th></th>\n",
              "      <th>P1</th>\n",
              "      <th>P2</th>\n",
              "      <th>P3</th>\n",
              "      <th>P4</th>\n",
              "      <th>Sexo</th>\n",
              "    </tr>\n",
              "  </thead>\n",
              "  <tbody>\n",
              "    <tr>\n",
              "      <th>Alice</th>\n",
              "      <td>8.2</td>\n",
              "      <td>7.1</td>\n",
              "      <td>4.3</td>\n",
              "      <td>7.6</td>\n",
              "      <td>F</td>\n",
              "    </tr>\n",
              "    <tr>\n",
              "      <th>Bruno</th>\n",
              "      <td>6.5</td>\n",
              "      <td>6.2</td>\n",
              "      <td>4.8</td>\n",
              "      <td>4.3</td>\n",
              "      <td>M</td>\n",
              "    </tr>\n",
              "    <tr>\n",
              "      <th>Carla</th>\n",
              "      <td>3.7</td>\n",
              "      <td>4.6</td>\n",
              "      <td>6.1</td>\n",
              "      <td>5.2</td>\n",
              "      <td>F</td>\n",
              "    </tr>\n",
              "    <tr>\n",
              "      <th>David</th>\n",
              "      <td>3.0</td>\n",
              "      <td>7.9</td>\n",
              "      <td>5.6</td>\n",
              "      <td>4.7</td>\n",
              "      <td>M</td>\n",
              "    </tr>\n",
              "    <tr>\n",
              "      <th>Emily</th>\n",
              "      <td>7.9</td>\n",
              "      <td>2.4</td>\n",
              "      <td>8.0</td>\n",
              "      <td>4.5</td>\n",
              "      <td>F</td>\n",
              "    </tr>\n",
              "  </tbody>\n",
              "</table>\n",
              "</div>"
            ],
            "text/plain": [
              "        P1   P2   P3   P4 Sexo\n",
              "Alice  8.2  7.1  4.3  7.6    F\n",
              "Bruno  6.5  6.2  4.8  4.3    M\n",
              "Carla  3.7  4.6  6.1  5.2    F\n",
              "David  3.0  7.9  5.6  4.7    M\n",
              "Emily  7.9  2.4  8.0  4.5    F"
            ]
          },
          "metadata": {
            "tags": []
          },
          "execution_count": 52
        }
      ]
    },
    {
      "cell_type": "code",
      "metadata": {
        "colab": {
          "base_uri": "https://localhost:8080/"
        },
        "id": "0pWJ2xpNvt6Z",
        "outputId": "32937be7-96c2-4ea2-9531-6e6127b71fc0"
      },
      "source": [
        "provas.info()"
      ],
      "execution_count": null,
      "outputs": [
        {
          "output_type": "stream",
          "text": [
            "<class 'pandas.core.frame.DataFrame'>\n",
            "Index: 5 entries, Alice to Emily\n",
            "Data columns (total 5 columns):\n",
            " #   Column  Non-Null Count  Dtype  \n",
            "---  ------  --------------  -----  \n",
            " 0   P1      5 non-null      float64\n",
            " 1   P2      5 non-null      float64\n",
            " 2   P3      5 non-null      float64\n",
            " 3   P4      5 non-null      float64\n",
            " 4   Sexo    5 non-null      object \n",
            "dtypes: float64(4), object(1)\n",
            "memory usage: 400.0+ bytes\n"
          ],
          "name": "stdout"
        }
      ]
    },
    {
      "cell_type": "code",
      "metadata": {
        "colab": {
          "base_uri": "https://localhost:8080/"
        },
        "id": "TcnF1CqNvzYa",
        "outputId": "d3588952-775f-42fb-d7b0-8d5ad987eb71"
      },
      "source": [
        "provas.mean()"
      ],
      "execution_count": null,
      "outputs": [
        {
          "output_type": "execute_result",
          "data": {
            "text/plain": [
              "P1    5.86\n",
              "P2    5.64\n",
              "P3    5.76\n",
              "P4    5.26\n",
              "dtype: float64"
            ]
          },
          "metadata": {
            "tags": []
          },
          "execution_count": 54
        }
      ]
    },
    {
      "cell_type": "code",
      "metadata": {
        "colab": {
          "base_uri": "https://localhost:8080/"
        },
        "id": "DDcAJ-eAv8KB",
        "outputId": "cdf41fbf-95c6-4052-a4b7-979ddbed5572"
      },
      "source": [
        "provas.mean(axis = 0)"
      ],
      "execution_count": null,
      "outputs": [
        {
          "output_type": "execute_result",
          "data": {
            "text/plain": [
              "P1    5.86\n",
              "P2    5.64\n",
              "P3    5.76\n",
              "P4    5.26\n",
              "dtype: float64"
            ]
          },
          "metadata": {
            "tags": []
          },
          "execution_count": 55
        }
      ]
    },
    {
      "cell_type": "code",
      "metadata": {
        "colab": {
          "base_uri": "https://localhost:8080/"
        },
        "id": "PehIyaUTwfKR",
        "outputId": "d046d3be-3c84-4fd3-ba8d-be58d4e746f6"
      },
      "source": [
        "provas.mean(axis = 1)"
      ],
      "execution_count": null,
      "outputs": [
        {
          "output_type": "execute_result",
          "data": {
            "text/plain": [
              "Alice    6.80\n",
              "Bruno    5.45\n",
              "Carla    4.90\n",
              "David    5.30\n",
              "Emily    5.70\n",
              "dtype: float64"
            ]
          },
          "metadata": {
            "tags": []
          },
          "execution_count": 56
        }
      ]
    },
    {
      "cell_type": "code",
      "metadata": {
        "id": "_nM_0msfwljl"
      },
      "source": [
        "provas['MF'] = provas.mean(axis = 1)"
      ],
      "execution_count": null,
      "outputs": []
    },
    {
      "cell_type": "code",
      "metadata": {
        "colab": {
          "base_uri": "https://localhost:8080/",
          "height": 204
        },
        "id": "YOKVADyiwrlB",
        "outputId": "ab84fd48-971d-4dd1-99da-64576a81bbf7"
      },
      "source": [
        "provas"
      ],
      "execution_count": null,
      "outputs": [
        {
          "output_type": "execute_result",
          "data": {
            "text/html": [
              "<div>\n",
              "<style scoped>\n",
              "    .dataframe tbody tr th:only-of-type {\n",
              "        vertical-align: middle;\n",
              "    }\n",
              "\n",
              "    .dataframe tbody tr th {\n",
              "        vertical-align: top;\n",
              "    }\n",
              "\n",
              "    .dataframe thead th {\n",
              "        text-align: right;\n",
              "    }\n",
              "</style>\n",
              "<table border=\"1\" class=\"dataframe\">\n",
              "  <thead>\n",
              "    <tr style=\"text-align: right;\">\n",
              "      <th></th>\n",
              "      <th>P1</th>\n",
              "      <th>P2</th>\n",
              "      <th>P3</th>\n",
              "      <th>P4</th>\n",
              "      <th>Sexo</th>\n",
              "      <th>MF</th>\n",
              "    </tr>\n",
              "  </thead>\n",
              "  <tbody>\n",
              "    <tr>\n",
              "      <th>Alice</th>\n",
              "      <td>8.2</td>\n",
              "      <td>7.1</td>\n",
              "      <td>4.3</td>\n",
              "      <td>7.6</td>\n",
              "      <td>F</td>\n",
              "      <td>6.80</td>\n",
              "    </tr>\n",
              "    <tr>\n",
              "      <th>Bruno</th>\n",
              "      <td>6.5</td>\n",
              "      <td>6.2</td>\n",
              "      <td>4.8</td>\n",
              "      <td>4.3</td>\n",
              "      <td>M</td>\n",
              "      <td>5.45</td>\n",
              "    </tr>\n",
              "    <tr>\n",
              "      <th>Carla</th>\n",
              "      <td>3.7</td>\n",
              "      <td>4.6</td>\n",
              "      <td>6.1</td>\n",
              "      <td>5.2</td>\n",
              "      <td>F</td>\n",
              "      <td>4.90</td>\n",
              "    </tr>\n",
              "    <tr>\n",
              "      <th>David</th>\n",
              "      <td>3.0</td>\n",
              "      <td>7.9</td>\n",
              "      <td>5.6</td>\n",
              "      <td>4.7</td>\n",
              "      <td>M</td>\n",
              "      <td>5.30</td>\n",
              "    </tr>\n",
              "    <tr>\n",
              "      <th>Emily</th>\n",
              "      <td>7.9</td>\n",
              "      <td>2.4</td>\n",
              "      <td>8.0</td>\n",
              "      <td>4.5</td>\n",
              "      <td>F</td>\n",
              "      <td>5.70</td>\n",
              "    </tr>\n",
              "  </tbody>\n",
              "</table>\n",
              "</div>"
            ],
            "text/plain": [
              "        P1   P2   P3   P4 Sexo    MF\n",
              "Alice  8.2  7.1  4.3  7.6    F  6.80\n",
              "Bruno  6.5  6.2  4.8  4.3    M  5.45\n",
              "Carla  3.7  4.6  6.1  5.2    F  4.90\n",
              "David  3.0  7.9  5.6  4.7    M  5.30\n",
              "Emily  7.9  2.4  8.0  4.5    F  5.70"
            ]
          },
          "metadata": {
            "tags": []
          },
          "execution_count": 58
        }
      ]
    },
    {
      "cell_type": "code",
      "metadata": {
        "id": "LSUfHaRVwtdR"
      },
      "source": [
        "def auxiliar(x):\n",
        "  if x >= 5:\n",
        "    return 'Aprovado'\n",
        "  else:\n",
        "    return 'Reprovado'"
      ],
      "execution_count": null,
      "outputs": []
    },
    {
      "cell_type": "code",
      "metadata": {
        "colab": {
          "base_uri": "https://localhost:8080/",
          "height": 35
        },
        "id": "0yFC0Qyw6dv0",
        "outputId": "3bb7d0ce-c0e0-4efb-e6da-8b8c91553f23"
      },
      "source": [
        "auxiliar(4)"
      ],
      "execution_count": null,
      "outputs": [
        {
          "output_type": "execute_result",
          "data": {
            "application/vnd.google.colaboratory.intrinsic+json": {
              "type": "string"
            },
            "text/plain": [
              "'Reprovado'"
            ]
          },
          "metadata": {
            "tags": []
          },
          "execution_count": 60
        }
      ]
    },
    {
      "cell_type": "code",
      "metadata": {
        "id": "oAmZ6iHW6iKG"
      },
      "source": [
        "provas['Situação'] = provas['MF'].apply(auxiliar)"
      ],
      "execution_count": null,
      "outputs": []
    },
    {
      "cell_type": "code",
      "metadata": {
        "colab": {
          "base_uri": "https://localhost:8080/",
          "height": 204
        },
        "id": "CX5edOKp64we",
        "outputId": "7e1f527b-4b9a-4532-a3c9-b2561d67ed24"
      },
      "source": [
        "provas"
      ],
      "execution_count": null,
      "outputs": [
        {
          "output_type": "execute_result",
          "data": {
            "text/html": [
              "<div>\n",
              "<style scoped>\n",
              "    .dataframe tbody tr th:only-of-type {\n",
              "        vertical-align: middle;\n",
              "    }\n",
              "\n",
              "    .dataframe tbody tr th {\n",
              "        vertical-align: top;\n",
              "    }\n",
              "\n",
              "    .dataframe thead th {\n",
              "        text-align: right;\n",
              "    }\n",
              "</style>\n",
              "<table border=\"1\" class=\"dataframe\">\n",
              "  <thead>\n",
              "    <tr style=\"text-align: right;\">\n",
              "      <th></th>\n",
              "      <th>P1</th>\n",
              "      <th>P2</th>\n",
              "      <th>P3</th>\n",
              "      <th>P4</th>\n",
              "      <th>Sexo</th>\n",
              "      <th>MF</th>\n",
              "      <th>Situação</th>\n",
              "    </tr>\n",
              "  </thead>\n",
              "  <tbody>\n",
              "    <tr>\n",
              "      <th>Alice</th>\n",
              "      <td>8.2</td>\n",
              "      <td>7.1</td>\n",
              "      <td>4.3</td>\n",
              "      <td>7.6</td>\n",
              "      <td>F</td>\n",
              "      <td>6.80</td>\n",
              "      <td>Aprovado</td>\n",
              "    </tr>\n",
              "    <tr>\n",
              "      <th>Bruno</th>\n",
              "      <td>6.5</td>\n",
              "      <td>6.2</td>\n",
              "      <td>4.8</td>\n",
              "      <td>4.3</td>\n",
              "      <td>M</td>\n",
              "      <td>5.45</td>\n",
              "      <td>Aprovado</td>\n",
              "    </tr>\n",
              "    <tr>\n",
              "      <th>Carla</th>\n",
              "      <td>3.7</td>\n",
              "      <td>4.6</td>\n",
              "      <td>6.1</td>\n",
              "      <td>5.2</td>\n",
              "      <td>F</td>\n",
              "      <td>4.90</td>\n",
              "      <td>Reprovado</td>\n",
              "    </tr>\n",
              "    <tr>\n",
              "      <th>David</th>\n",
              "      <td>3.0</td>\n",
              "      <td>7.9</td>\n",
              "      <td>5.6</td>\n",
              "      <td>4.7</td>\n",
              "      <td>M</td>\n",
              "      <td>5.30</td>\n",
              "      <td>Aprovado</td>\n",
              "    </tr>\n",
              "    <tr>\n",
              "      <th>Emily</th>\n",
              "      <td>7.9</td>\n",
              "      <td>2.4</td>\n",
              "      <td>8.0</td>\n",
              "      <td>4.5</td>\n",
              "      <td>F</td>\n",
              "      <td>5.70</td>\n",
              "      <td>Aprovado</td>\n",
              "    </tr>\n",
              "  </tbody>\n",
              "</table>\n",
              "</div>"
            ],
            "text/plain": [
              "        P1   P2   P3   P4 Sexo    MF   Situação\n",
              "Alice  8.2  7.1  4.3  7.6    F  6.80   Aprovado\n",
              "Bruno  6.5  6.2  4.8  4.3    M  5.45   Aprovado\n",
              "Carla  3.7  4.6  6.1  5.2    F  4.90  Reprovado\n",
              "David  3.0  7.9  5.6  4.7    M  5.30   Aprovado\n",
              "Emily  7.9  2.4  8.0  4.5    F  5.70   Aprovado"
            ]
          },
          "metadata": {
            "tags": []
          },
          "execution_count": 62
        }
      ]
    },
    {
      "cell_type": "code",
      "metadata": {
        "colab": {
          "base_uri": "https://localhost:8080/",
          "height": 204
        },
        "id": "M61bVNst69wA",
        "outputId": "19f495d8-7f1b-47b3-b166-e77ccd74736f"
      },
      "source": [
        "provas.sort_values('MF')"
      ],
      "execution_count": null,
      "outputs": [
        {
          "output_type": "execute_result",
          "data": {
            "text/html": [
              "<div>\n",
              "<style scoped>\n",
              "    .dataframe tbody tr th:only-of-type {\n",
              "        vertical-align: middle;\n",
              "    }\n",
              "\n",
              "    .dataframe tbody tr th {\n",
              "        vertical-align: top;\n",
              "    }\n",
              "\n",
              "    .dataframe thead th {\n",
              "        text-align: right;\n",
              "    }\n",
              "</style>\n",
              "<table border=\"1\" class=\"dataframe\">\n",
              "  <thead>\n",
              "    <tr style=\"text-align: right;\">\n",
              "      <th></th>\n",
              "      <th>P1</th>\n",
              "      <th>P2</th>\n",
              "      <th>P3</th>\n",
              "      <th>P4</th>\n",
              "      <th>Sexo</th>\n",
              "      <th>MF</th>\n",
              "      <th>Situação</th>\n",
              "    </tr>\n",
              "  </thead>\n",
              "  <tbody>\n",
              "    <tr>\n",
              "      <th>Carla</th>\n",
              "      <td>3.7</td>\n",
              "      <td>4.6</td>\n",
              "      <td>6.1</td>\n",
              "      <td>5.2</td>\n",
              "      <td>F</td>\n",
              "      <td>4.90</td>\n",
              "      <td>Reprovado</td>\n",
              "    </tr>\n",
              "    <tr>\n",
              "      <th>David</th>\n",
              "      <td>3.0</td>\n",
              "      <td>7.9</td>\n",
              "      <td>5.6</td>\n",
              "      <td>4.7</td>\n",
              "      <td>M</td>\n",
              "      <td>5.30</td>\n",
              "      <td>Aprovado</td>\n",
              "    </tr>\n",
              "    <tr>\n",
              "      <th>Bruno</th>\n",
              "      <td>6.5</td>\n",
              "      <td>6.2</td>\n",
              "      <td>4.8</td>\n",
              "      <td>4.3</td>\n",
              "      <td>M</td>\n",
              "      <td>5.45</td>\n",
              "      <td>Aprovado</td>\n",
              "    </tr>\n",
              "    <tr>\n",
              "      <th>Emily</th>\n",
              "      <td>7.9</td>\n",
              "      <td>2.4</td>\n",
              "      <td>8.0</td>\n",
              "      <td>4.5</td>\n",
              "      <td>F</td>\n",
              "      <td>5.70</td>\n",
              "      <td>Aprovado</td>\n",
              "    </tr>\n",
              "    <tr>\n",
              "      <th>Alice</th>\n",
              "      <td>8.2</td>\n",
              "      <td>7.1</td>\n",
              "      <td>4.3</td>\n",
              "      <td>7.6</td>\n",
              "      <td>F</td>\n",
              "      <td>6.80</td>\n",
              "      <td>Aprovado</td>\n",
              "    </tr>\n",
              "  </tbody>\n",
              "</table>\n",
              "</div>"
            ],
            "text/plain": [
              "        P1   P2   P3   P4 Sexo    MF   Situação\n",
              "Carla  3.7  4.6  6.1  5.2    F  4.90  Reprovado\n",
              "David  3.0  7.9  5.6  4.7    M  5.30   Aprovado\n",
              "Bruno  6.5  6.2  4.8  4.3    M  5.45   Aprovado\n",
              "Emily  7.9  2.4  8.0  4.5    F  5.70   Aprovado\n",
              "Alice  8.2  7.1  4.3  7.6    F  6.80   Aprovado"
            ]
          },
          "metadata": {
            "tags": []
          },
          "execution_count": 63
        }
      ]
    },
    {
      "cell_type": "code",
      "metadata": {
        "colab": {
          "base_uri": "https://localhost:8080/",
          "height": 204
        },
        "id": "aI3nhEH47toe",
        "outputId": "9e96a6a1-688c-4083-8ed9-35a6ec9991fc"
      },
      "source": [
        "# colocando em ordem decrescente.\n",
        "provas.sort_values('MF', ascending = False)"
      ],
      "execution_count": null,
      "outputs": [
        {
          "output_type": "execute_result",
          "data": {
            "text/html": [
              "<div>\n",
              "<style scoped>\n",
              "    .dataframe tbody tr th:only-of-type {\n",
              "        vertical-align: middle;\n",
              "    }\n",
              "\n",
              "    .dataframe tbody tr th {\n",
              "        vertical-align: top;\n",
              "    }\n",
              "\n",
              "    .dataframe thead th {\n",
              "        text-align: right;\n",
              "    }\n",
              "</style>\n",
              "<table border=\"1\" class=\"dataframe\">\n",
              "  <thead>\n",
              "    <tr style=\"text-align: right;\">\n",
              "      <th></th>\n",
              "      <th>P1</th>\n",
              "      <th>P2</th>\n",
              "      <th>P3</th>\n",
              "      <th>P4</th>\n",
              "      <th>Sexo</th>\n",
              "      <th>MF</th>\n",
              "      <th>Situação</th>\n",
              "    </tr>\n",
              "  </thead>\n",
              "  <tbody>\n",
              "    <tr>\n",
              "      <th>Alice</th>\n",
              "      <td>8.2</td>\n",
              "      <td>7.1</td>\n",
              "      <td>4.3</td>\n",
              "      <td>7.6</td>\n",
              "      <td>F</td>\n",
              "      <td>6.80</td>\n",
              "      <td>Aprovado</td>\n",
              "    </tr>\n",
              "    <tr>\n",
              "      <th>Emily</th>\n",
              "      <td>7.9</td>\n",
              "      <td>2.4</td>\n",
              "      <td>8.0</td>\n",
              "      <td>4.5</td>\n",
              "      <td>F</td>\n",
              "      <td>5.70</td>\n",
              "      <td>Aprovado</td>\n",
              "    </tr>\n",
              "    <tr>\n",
              "      <th>Bruno</th>\n",
              "      <td>6.5</td>\n",
              "      <td>6.2</td>\n",
              "      <td>4.8</td>\n",
              "      <td>4.3</td>\n",
              "      <td>M</td>\n",
              "      <td>5.45</td>\n",
              "      <td>Aprovado</td>\n",
              "    </tr>\n",
              "    <tr>\n",
              "      <th>David</th>\n",
              "      <td>3.0</td>\n",
              "      <td>7.9</td>\n",
              "      <td>5.6</td>\n",
              "      <td>4.7</td>\n",
              "      <td>M</td>\n",
              "      <td>5.30</td>\n",
              "      <td>Aprovado</td>\n",
              "    </tr>\n",
              "    <tr>\n",
              "      <th>Carla</th>\n",
              "      <td>3.7</td>\n",
              "      <td>4.6</td>\n",
              "      <td>6.1</td>\n",
              "      <td>5.2</td>\n",
              "      <td>F</td>\n",
              "      <td>4.90</td>\n",
              "      <td>Reprovado</td>\n",
              "    </tr>\n",
              "  </tbody>\n",
              "</table>\n",
              "</div>"
            ],
            "text/plain": [
              "        P1   P2   P3   P4 Sexo    MF   Situação\n",
              "Alice  8.2  7.1  4.3  7.6    F  6.80   Aprovado\n",
              "Emily  7.9  2.4  8.0  4.5    F  5.70   Aprovado\n",
              "Bruno  6.5  6.2  4.8  4.3    M  5.45   Aprovado\n",
              "David  3.0  7.9  5.6  4.7    M  5.30   Aprovado\n",
              "Carla  3.7  4.6  6.1  5.2    F  4.90  Reprovado"
            ]
          },
          "metadata": {
            "tags": []
          },
          "execution_count": 64
        }
      ]
    },
    {
      "cell_type": "markdown",
      "metadata": {
        "id": "dW-ytsyP8gCJ"
      },
      "source": [
        "## GroupBy"
      ]
    },
    {
      "cell_type": "code",
      "metadata": {
        "colab": {
          "base_uri": "https://localhost:8080/"
        },
        "id": "k8Dk3p6j7-i2",
        "outputId": "aadf414f-b4b0-4259-b9e2-ef56fa9ec50d"
      },
      "source": [
        "provas['Sexo'] == 'M'"
      ],
      "execution_count": null,
      "outputs": [
        {
          "output_type": "execute_result",
          "data": {
            "text/plain": [
              "Alice    False\n",
              "Bruno     True\n",
              "Carla    False\n",
              "David     True\n",
              "Emily    False\n",
              "Name: Sexo, dtype: bool"
            ]
          },
          "metadata": {
            "tags": []
          },
          "execution_count": 65
        }
      ]
    },
    {
      "cell_type": "code",
      "metadata": {
        "colab": {
          "base_uri": "https://localhost:8080/",
          "height": 111
        },
        "id": "-Z9uG9vb85Q1",
        "outputId": "06b62cfa-1d76-4633-bea1-4893c35b5f98"
      },
      "source": [
        "# retornando apenas \"True\"\n",
        "provas[ provas['Sexo'] == 'M' ]"
      ],
      "execution_count": null,
      "outputs": [
        {
          "output_type": "execute_result",
          "data": {
            "text/html": [
              "<div>\n",
              "<style scoped>\n",
              "    .dataframe tbody tr th:only-of-type {\n",
              "        vertical-align: middle;\n",
              "    }\n",
              "\n",
              "    .dataframe tbody tr th {\n",
              "        vertical-align: top;\n",
              "    }\n",
              "\n",
              "    .dataframe thead th {\n",
              "        text-align: right;\n",
              "    }\n",
              "</style>\n",
              "<table border=\"1\" class=\"dataframe\">\n",
              "  <thead>\n",
              "    <tr style=\"text-align: right;\">\n",
              "      <th></th>\n",
              "      <th>P1</th>\n",
              "      <th>P2</th>\n",
              "      <th>P3</th>\n",
              "      <th>P4</th>\n",
              "      <th>Sexo</th>\n",
              "      <th>MF</th>\n",
              "      <th>Situação</th>\n",
              "    </tr>\n",
              "  </thead>\n",
              "  <tbody>\n",
              "    <tr>\n",
              "      <th>Bruno</th>\n",
              "      <td>6.5</td>\n",
              "      <td>6.2</td>\n",
              "      <td>4.8</td>\n",
              "      <td>4.3</td>\n",
              "      <td>M</td>\n",
              "      <td>5.45</td>\n",
              "      <td>Aprovado</td>\n",
              "    </tr>\n",
              "    <tr>\n",
              "      <th>David</th>\n",
              "      <td>3.0</td>\n",
              "      <td>7.9</td>\n",
              "      <td>5.6</td>\n",
              "      <td>4.7</td>\n",
              "      <td>M</td>\n",
              "      <td>5.30</td>\n",
              "      <td>Aprovado</td>\n",
              "    </tr>\n",
              "  </tbody>\n",
              "</table>\n",
              "</div>"
            ],
            "text/plain": [
              "        P1   P2   P3   P4 Sexo    MF  Situação\n",
              "Bruno  6.5  6.2  4.8  4.3    M  5.45  Aprovado\n",
              "David  3.0  7.9  5.6  4.7    M  5.30  Aprovado"
            ]
          },
          "metadata": {
            "tags": []
          },
          "execution_count": 66
        }
      ]
    },
    {
      "cell_type": "code",
      "metadata": {
        "colab": {
          "base_uri": "https://localhost:8080/",
          "height": 142
        },
        "id": "CM9FX9L-9Msd",
        "outputId": "1f537cbb-0b97-4aed-afb9-63ef4dbc4e31"
      },
      "source": [
        "provas[ provas['Sexo'] == 'F' ]"
      ],
      "execution_count": null,
      "outputs": [
        {
          "output_type": "execute_result",
          "data": {
            "text/html": [
              "<div>\n",
              "<style scoped>\n",
              "    .dataframe tbody tr th:only-of-type {\n",
              "        vertical-align: middle;\n",
              "    }\n",
              "\n",
              "    .dataframe tbody tr th {\n",
              "        vertical-align: top;\n",
              "    }\n",
              "\n",
              "    .dataframe thead th {\n",
              "        text-align: right;\n",
              "    }\n",
              "</style>\n",
              "<table border=\"1\" class=\"dataframe\">\n",
              "  <thead>\n",
              "    <tr style=\"text-align: right;\">\n",
              "      <th></th>\n",
              "      <th>P1</th>\n",
              "      <th>P2</th>\n",
              "      <th>P3</th>\n",
              "      <th>P4</th>\n",
              "      <th>Sexo</th>\n",
              "      <th>MF</th>\n",
              "      <th>Situação</th>\n",
              "    </tr>\n",
              "  </thead>\n",
              "  <tbody>\n",
              "    <tr>\n",
              "      <th>Alice</th>\n",
              "      <td>8.2</td>\n",
              "      <td>7.1</td>\n",
              "      <td>4.3</td>\n",
              "      <td>7.6</td>\n",
              "      <td>F</td>\n",
              "      <td>6.8</td>\n",
              "      <td>Aprovado</td>\n",
              "    </tr>\n",
              "    <tr>\n",
              "      <th>Carla</th>\n",
              "      <td>3.7</td>\n",
              "      <td>4.6</td>\n",
              "      <td>6.1</td>\n",
              "      <td>5.2</td>\n",
              "      <td>F</td>\n",
              "      <td>4.9</td>\n",
              "      <td>Reprovado</td>\n",
              "    </tr>\n",
              "    <tr>\n",
              "      <th>Emily</th>\n",
              "      <td>7.9</td>\n",
              "      <td>2.4</td>\n",
              "      <td>8.0</td>\n",
              "      <td>4.5</td>\n",
              "      <td>F</td>\n",
              "      <td>5.7</td>\n",
              "      <td>Aprovado</td>\n",
              "    </tr>\n",
              "  </tbody>\n",
              "</table>\n",
              "</div>"
            ],
            "text/plain": [
              "        P1   P2   P3   P4 Sexo   MF   Situação\n",
              "Alice  8.2  7.1  4.3  7.6    F  6.8   Aprovado\n",
              "Carla  3.7  4.6  6.1  5.2    F  4.9  Reprovado\n",
              "Emily  7.9  2.4  8.0  4.5    F  5.7   Aprovado"
            ]
          },
          "metadata": {
            "tags": []
          },
          "execution_count": 67
        }
      ]
    },
    {
      "cell_type": "markdown",
      "metadata": {
        "id": "UJxSVYyg9vlu"
      },
      "source": [
        "Calculando as médias dos filtros."
      ]
    },
    {
      "cell_type": "code",
      "metadata": {
        "id": "dBeW-o589SLv"
      },
      "source": [
        "x = provas[ provas['Sexo'] == 'M' ]"
      ],
      "execution_count": null,
      "outputs": []
    },
    {
      "cell_type": "code",
      "metadata": {
        "colab": {
          "base_uri": "https://localhost:8080/"
        },
        "id": "4M9aNJ9S9mVd",
        "outputId": "6695b360-0698-4ad8-87cc-232cf9c087d8"
      },
      "source": [
        "x['MF']"
      ],
      "execution_count": null,
      "outputs": [
        {
          "output_type": "execute_result",
          "data": {
            "text/plain": [
              "Bruno    5.45\n",
              "David    5.30\n",
              "Name: MF, dtype: float64"
            ]
          },
          "metadata": {
            "tags": []
          },
          "execution_count": 69
        }
      ]
    },
    {
      "cell_type": "code",
      "metadata": {
        "colab": {
          "base_uri": "https://localhost:8080/"
        },
        "id": "ZavNltit9po1",
        "outputId": "cd002fe4-ebe8-4868-94e5-77362f17bdcc"
      },
      "source": [
        "x['MF'].mean()"
      ],
      "execution_count": null,
      "outputs": [
        {
          "output_type": "execute_result",
          "data": {
            "text/plain": [
              "5.375"
            ]
          },
          "metadata": {
            "tags": []
          },
          "execution_count": 70
        }
      ]
    },
    {
      "cell_type": "code",
      "metadata": {
        "colab": {
          "base_uri": "https://localhost:8080/"
        },
        "id": "aWOVbDFz9tLl",
        "outputId": "2bbaff56-f52b-4b23-91af-abd3d0bdbf7f"
      },
      "source": [
        "# ou fazer tudo em uma única linha.\n",
        "provas[provas['Sexo'] == 'M']['MF'].mean()"
      ],
      "execution_count": null,
      "outputs": [
        {
          "output_type": "execute_result",
          "data": {
            "text/plain": [
              "5.375"
            ]
          },
          "metadata": {
            "tags": []
          },
          "execution_count": 71
        }
      ]
    },
    {
      "cell_type": "code",
      "metadata": {
        "colab": {
          "base_uri": "https://localhost:8080/"
        },
        "id": "Mv8_BZ00_CnJ",
        "outputId": "cbe59b57-a750-4201-93fa-5c7743a96b83"
      },
      "source": [
        "provas[provas['Sexo'] == 'F']['MF'].mean()"
      ],
      "execution_count": null,
      "outputs": [
        {
          "output_type": "execute_result",
          "data": {
            "text/plain": [
              "5.8"
            ]
          },
          "metadata": {
            "tags": []
          },
          "execution_count": 72
        }
      ]
    },
    {
      "cell_type": "code",
      "metadata": {
        "colab": {
          "base_uri": "https://localhost:8080/"
        },
        "id": "3Q__zSrd-H9t",
        "outputId": "bc2e1eef-487a-4cc1-b990-b0180a48e951"
      },
      "source": [
        "# usando o GroupBy para realizar a operação anterior.\n",
        "provas['MF'].groupby(provas['Sexo']).mean()"
      ],
      "execution_count": null,
      "outputs": [
        {
          "output_type": "execute_result",
          "data": {
            "text/plain": [
              "Sexo\n",
              "F    5.800\n",
              "M    5.375\n",
              "Name: MF, dtype: float64"
            ]
          },
          "metadata": {
            "tags": []
          },
          "execution_count": 73
        }
      ]
    },
    {
      "cell_type": "code",
      "metadata": {
        "colab": {
          "base_uri": "https://localhost:8080/",
          "height": 142
        },
        "id": "7887Mu2C_AJM",
        "outputId": "3553ec52-c116-435d-b6b9-a60e35d7cce4"
      },
      "source": [
        "provas.groupby(provas['Sexo']).mean()"
      ],
      "execution_count": null,
      "outputs": [
        {
          "output_type": "execute_result",
          "data": {
            "text/html": [
              "<div>\n",
              "<style scoped>\n",
              "    .dataframe tbody tr th:only-of-type {\n",
              "        vertical-align: middle;\n",
              "    }\n",
              "\n",
              "    .dataframe tbody tr th {\n",
              "        vertical-align: top;\n",
              "    }\n",
              "\n",
              "    .dataframe thead th {\n",
              "        text-align: right;\n",
              "    }\n",
              "</style>\n",
              "<table border=\"1\" class=\"dataframe\">\n",
              "  <thead>\n",
              "    <tr style=\"text-align: right;\">\n",
              "      <th></th>\n",
              "      <th>P1</th>\n",
              "      <th>P2</th>\n",
              "      <th>P3</th>\n",
              "      <th>P4</th>\n",
              "      <th>MF</th>\n",
              "    </tr>\n",
              "    <tr>\n",
              "      <th>Sexo</th>\n",
              "      <th></th>\n",
              "      <th></th>\n",
              "      <th></th>\n",
              "      <th></th>\n",
              "      <th></th>\n",
              "    </tr>\n",
              "  </thead>\n",
              "  <tbody>\n",
              "    <tr>\n",
              "      <th>F</th>\n",
              "      <td>6.60</td>\n",
              "      <td>4.70</td>\n",
              "      <td>6.133333</td>\n",
              "      <td>5.766667</td>\n",
              "      <td>5.800</td>\n",
              "    </tr>\n",
              "    <tr>\n",
              "      <th>M</th>\n",
              "      <td>4.75</td>\n",
              "      <td>7.05</td>\n",
              "      <td>5.200000</td>\n",
              "      <td>4.500000</td>\n",
              "      <td>5.375</td>\n",
              "    </tr>\n",
              "  </tbody>\n",
              "</table>\n",
              "</div>"
            ],
            "text/plain": [
              "        P1    P2        P3        P4     MF\n",
              "Sexo                                       \n",
              "F     6.60  4.70  6.133333  5.766667  5.800\n",
              "M     4.75  7.05  5.200000  4.500000  5.375"
            ]
          },
          "metadata": {
            "tags": []
          },
          "execution_count": 74
        }
      ]
    },
    {
      "cell_type": "code",
      "metadata": {
        "colab": {
          "base_uri": "https://localhost:8080/",
          "height": 142
        },
        "id": "ZY89o8bl_aVg",
        "outputId": "0f3f302c-b419-4f27-b0cb-5fe2ee468954"
      },
      "source": [
        "provas['MF'].groupby(provas['Sexo']).describe().round(2)"
      ],
      "execution_count": null,
      "outputs": [
        {
          "output_type": "execute_result",
          "data": {
            "text/html": [
              "<div>\n",
              "<style scoped>\n",
              "    .dataframe tbody tr th:only-of-type {\n",
              "        vertical-align: middle;\n",
              "    }\n",
              "\n",
              "    .dataframe tbody tr th {\n",
              "        vertical-align: top;\n",
              "    }\n",
              "\n",
              "    .dataframe thead th {\n",
              "        text-align: right;\n",
              "    }\n",
              "</style>\n",
              "<table border=\"1\" class=\"dataframe\">\n",
              "  <thead>\n",
              "    <tr style=\"text-align: right;\">\n",
              "      <th></th>\n",
              "      <th>count</th>\n",
              "      <th>mean</th>\n",
              "      <th>std</th>\n",
              "      <th>min</th>\n",
              "      <th>25%</th>\n",
              "      <th>50%</th>\n",
              "      <th>75%</th>\n",
              "      <th>max</th>\n",
              "    </tr>\n",
              "    <tr>\n",
              "      <th>Sexo</th>\n",
              "      <th></th>\n",
              "      <th></th>\n",
              "      <th></th>\n",
              "      <th></th>\n",
              "      <th></th>\n",
              "      <th></th>\n",
              "      <th></th>\n",
              "      <th></th>\n",
              "    </tr>\n",
              "  </thead>\n",
              "  <tbody>\n",
              "    <tr>\n",
              "      <th>F</th>\n",
              "      <td>3.0</td>\n",
              "      <td>5.80</td>\n",
              "      <td>0.95</td>\n",
              "      <td>4.9</td>\n",
              "      <td>5.30</td>\n",
              "      <td>5.70</td>\n",
              "      <td>6.25</td>\n",
              "      <td>6.80</td>\n",
              "    </tr>\n",
              "    <tr>\n",
              "      <th>M</th>\n",
              "      <td>2.0</td>\n",
              "      <td>5.38</td>\n",
              "      <td>0.11</td>\n",
              "      <td>5.3</td>\n",
              "      <td>5.34</td>\n",
              "      <td>5.38</td>\n",
              "      <td>5.41</td>\n",
              "      <td>5.45</td>\n",
              "    </tr>\n",
              "  </tbody>\n",
              "</table>\n",
              "</div>"
            ],
            "text/plain": [
              "      count  mean   std  min   25%   50%   75%   max\n",
              "Sexo                                                \n",
              "F       3.0  5.80  0.95  4.9  5.30  5.70  6.25  6.80\n",
              "M       2.0  5.38  0.11  5.3  5.34  5.38  5.41  5.45"
            ]
          },
          "metadata": {
            "tags": []
          },
          "execution_count": 75
        }
      ]
    },
    {
      "cell_type": "markdown",
      "metadata": {
        "id": "h_5w5fD3AD2V"
      },
      "source": [
        "## Gráficos"
      ]
    },
    {
      "cell_type": "code",
      "metadata": {
        "id": "peFkUnumAMrV"
      },
      "source": [
        "import matplotlib"
      ],
      "execution_count": null,
      "outputs": []
    },
    {
      "cell_type": "code",
      "metadata": {
        "colab": {
          "base_uri": "https://localhost:8080/",
          "height": 282
        },
        "id": "jzgK0tvK09K8",
        "outputId": "cf754a2f-88e2-4598-fff3-bf10a1578bb2"
      },
      "source": [
        "provas[colunas].plot(kind = 'line')"
      ],
      "execution_count": null,
      "outputs": [
        {
          "output_type": "execute_result",
          "data": {
            "text/plain": [
              "<matplotlib.axes._subplots.AxesSubplot at 0x7f8f71f4f450>"
            ]
          },
          "metadata": {
            "tags": []
          },
          "execution_count": 80
        },
        {
          "output_type": "display_data",
          "data": {
            "image/png": "[encoded data removed]",
            "text/plain": [
              "<Figure size 432x288 with 1 Axes>"
            ]
          },
          "metadata": {
            "tags": [],
            "needs_background": "light"
          }
        }
      ]
    },
    {
      "cell_type": "code",
      "metadata": {
        "colab": {
          "base_uri": "https://localhost:8080/",
          "height": 282
        },
        "id": "dbhlYm0Q1NL3",
        "outputId": "8f85489d-3ad1-4840-b4fb-74c79e68b0c1"
      },
      "source": [
        "provas[colunas].T.plot(kind = 'line')"
      ],
      "execution_count": null,
      "outputs": [
        {
          "output_type": "execute_result",
          "data": {
            "text/plain": [
              "<matplotlib.axes._subplots.AxesSubplot at 0x7f8f720124d0>"
            ]
          },
          "metadata": {
            "tags": []
          },
          "execution_count": 79
        },
        {
          "output_type": "display_data",
          "data": {
            "image/png": "[encoded data removed]",
            "text/plain": [
              "<Figure size 432x288 with 1 Axes>"
            ]
          },
          "metadata": {
            "tags": [],
            "needs_background": "light"
          }
        }
      ]
    },
    {
      "cell_type": "code",
      "metadata": {
        "colab": {
          "base_uri": "https://localhost:8080/",
          "height": 296
        },
        "id": "83w0QalA4Zc1",
        "outputId": "537e530a-0d76-4b05-db3a-2f33216c9b24"
      },
      "source": [
        "provas['MF'].groupby(provas['Sexo']).mean().plot(kind = 'bar')"
      ],
      "execution_count": null,
      "outputs": [
        {
          "output_type": "execute_result",
          "data": {
            "text/plain": [
              "<matplotlib.axes._subplots.AxesSubplot at 0x7f8f71eb5990>"
            ]
          },
          "metadata": {
            "tags": []
          },
          "execution_count": 82
        },
        {
          "output_type": "display_data",
          "data": {
            "image/png": "[encoded data removed]",
            "text/plain": [
              "<Figure size 432x288 with 1 Axes>"
            ]
          },
          "metadata": {
            "tags": [],
            "needs_background": "light"
          }
        }
      ]
    },
    {
      "cell_type": "code",
      "metadata": {
        "colab": {
          "base_uri": "https://localhost:8080/",
          "height": 265
        },
        "id": "ty_thqjp46h1",
        "outputId": "c676d033-76ab-4582-8670-9b7c50688d9f"
      },
      "source": [
        "provas['MF'].groupby(provas['Sexo']).count().plot(kind = 'pie')"
      ],
      "execution_count": null,
      "outputs": [
        {
          "output_type": "execute_result",
          "data": {
            "text/plain": [
              "<matplotlib.axes._subplots.AxesSubplot at 0x7f8f71db5fd0>"
            ]
          },
          "metadata": {
            "tags": []
          },
          "execution_count": 83
        },
        {
          "output_type": "display_data",
          "data": {
            "image/png": "[encoded data removed]",
            "text/plain": [
              "<Figure size 432x288 with 1 Axes>"
            ]
          },
          "metadata": {
            "tags": []
          }
        }
      ]
    },
    {
      "cell_type": "code",
      "metadata": {
        "id": "GfQeZOv35J4M"
      },
      "source": [
        ""
      ],
      "execution_count": null,
      "outputs": []
    }
  ]
}