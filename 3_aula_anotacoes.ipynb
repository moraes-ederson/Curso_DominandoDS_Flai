{
  "nbformat": 4,
  "nbformat_minor": 0,
  "metadata": {
    "colab": {
      "name": "3-aula_anotacoes.ipynb",
      "provenance": [],
      "collapsed_sections": [],
      "authorship_tag": "ABX9TyOtzTLy9bdx599OCtuKdGeU",
      "include_colab_link": true
    },
    "kernelspec": {
      "name": "python3",
      "display_name": "Python 3"
    },
    "widgets": {
      "application/vnd.jupyter.widget-state+json": {
        "79e0716fb6c14558bbc96e3eeb35f93e": {
          "model_module": "@jupyter-widgets/controls",
          "model_name": "HBoxModel",
          "model_module_version": "1.5.0",
          "state": {
            "_view_name": "HBoxView",
            "_dom_classes": [],
            "_model_name": "HBoxModel",
            "_view_module": "@jupyter-widgets/controls",
            "_model_module_version": "1.5.0",
            "_view_count": null,
            "_view_module_version": "1.5.0",
            "box_style": "",
            "layout": "IPY_MODEL_1b922b207a8b499fbdb840e060e7531e",
            "_model_module": "@jupyter-widgets/controls",
            "children": [
              "IPY_MODEL_cfcf63fc01cf4bb392685353df4a4dba",
              "IPY_MODEL_c66c4ca08a0e452da8857381540c2d30",
              "IPY_MODEL_e34b2f557aba4a089a24749667099d9d"
            ]
          }
        },
        "1b922b207a8b499fbdb840e060e7531e": {
          "model_module": "@jupyter-widgets/base",
          "model_name": "LayoutModel",
          "model_module_version": "1.2.0",
          "state": {
            "_view_name": "LayoutView",
            "grid_template_rows": null,
            "right": null,
            "justify_content": null,
            "_view_module": "@jupyter-widgets/base",
            "overflow": null,
            "_model_module_version": "1.2.0",
            "_view_count": null,
            "flex_flow": "row wrap",
            "width": "100%",
            "min_width": null,
            "border": null,
            "align_items": null,
            "bottom": null,
            "_model_module": "@jupyter-widgets/base",
            "top": null,
            "grid_column": null,
            "overflow_y": null,
            "overflow_x": null,
            "grid_auto_flow": null,
            "grid_area": null,
            "grid_template_columns": null,
            "flex": null,
            "_model_name": "LayoutModel",
            "justify_items": null,
            "grid_row": null,
            "max_height": null,
            "align_content": null,
            "visibility": null,
            "align_self": null,
            "height": null,
            "min_height": null,
            "padding": null,
            "grid_auto_rows": null,
            "grid_gap": null,
            "max_width": null,
            "order": null,
            "_view_module_version": "1.2.0",
            "grid_template_areas": null,
            "object_position": null,
            "object_fit": null,
            "grid_auto_columns": null,
            "margin": null,
            "display": "inline-flex",
            "left": null
          }
        },
        "cfcf63fc01cf4bb392685353df4a4dba": {
          "model_module": "@jupyter-widgets/controls",
          "model_name": "HTMLModel",
          "model_module_version": "1.5.0",
          "state": {
            "_view_name": "HTMLView",
            "style": "IPY_MODEL_05b491d4c9e944b4a8a1820c1c24f4b5",
            "_dom_classes": [],
            "description": "",
            "_model_name": "HTMLModel",
            "placeholder": "​",
            "_view_module": "@jupyter-widgets/controls",
            "_model_module_version": "1.5.0",
            "value": "Done! Use &#x27;show&#x27; commands to display/save.   ",
            "_view_count": null,
            "_view_module_version": "1.5.0",
            "description_tooltip": null,
            "_model_module": "@jupyter-widgets/controls",
            "layout": "IPY_MODEL_45b3e6adaa0448fbae2cf0c57742b42c"
          }
        },
        "c66c4ca08a0e452da8857381540c2d30": {
          "model_module": "@jupyter-widgets/controls",
          "model_name": "FloatProgressModel",
          "model_module_version": "1.5.0",
          "state": {
            "_view_name": "ProgressView",
            "style": "IPY_MODEL_9864d2f704aa45579c1ddf45ecf5e0a2",
            "_dom_classes": [],
            "description": "",
            "_model_name": "FloatProgressModel",
            "bar_style": "success",
            "max": 1,
            "_view_module": "@jupyter-widgets/controls",
            "_model_module_version": "1.5.0",
            "value": 1,
            "_view_count": null,
            "_view_module_version": "1.5.0",
            "orientation": "horizontal",
            "min": 0,
            "description_tooltip": null,
            "_model_module": "@jupyter-widgets/controls",
            "layout": "IPY_MODEL_c26acf3f76c44eeca190f8442fc5fb29"
          }
        },
        "e34b2f557aba4a089a24749667099d9d": {
          "model_module": "@jupyter-widgets/controls",
          "model_name": "HTMLModel",
          "model_module_version": "1.5.0",
          "state": {
            "_view_name": "HTMLView",
            "style": "IPY_MODEL_76ca2430ffa8497d8f8208d1dc351412",
            "_dom_classes": [],
            "description": "",
            "_model_name": "HTMLModel",
            "placeholder": "​",
            "_view_module": "@jupyter-widgets/controls",
            "_model_module_version": "1.5.0",
            "value": " [100%]   00:00 -&gt; (00:00 left)",
            "_view_count": null,
            "_view_module_version": "1.5.0",
            "description_tooltip": null,
            "_model_module": "@jupyter-widgets/controls",
            "layout": "IPY_MODEL_df5d3e14795f4d57a677e1bec0cae563"
          }
        },
        "05b491d4c9e944b4a8a1820c1c24f4b5": {
          "model_module": "@jupyter-widgets/controls",
          "model_name": "DescriptionStyleModel",
          "model_module_version": "1.5.0",
          "state": {
            "_view_name": "StyleView",
            "_model_name": "DescriptionStyleModel",
            "description_width": "",
            "_view_module": "@jupyter-widgets/base",
            "_model_module_version": "1.5.0",
            "_view_count": null,
            "_view_module_version": "1.2.0",
            "_model_module": "@jupyter-widgets/controls"
          }
        },
        "45b3e6adaa0448fbae2cf0c57742b42c": {
          "model_module": "@jupyter-widgets/base",
          "model_name": "LayoutModel",
          "model_module_version": "1.2.0",
          "state": {
            "_view_name": "LayoutView",
            "grid_template_rows": null,
            "right": null,
            "justify_content": null,
            "_view_module": "@jupyter-widgets/base",
            "overflow": null,
            "_model_module_version": "1.2.0",
            "_view_count": null,
            "flex_flow": null,
            "width": null,
            "min_width": null,
            "border": null,
            "align_items": null,
            "bottom": null,
            "_model_module": "@jupyter-widgets/base",
            "top": null,
            "grid_column": null,
            "overflow_y": null,
            "overflow_x": null,
            "grid_auto_flow": null,
            "grid_area": null,
            "grid_template_columns": null,
            "flex": null,
            "_model_name": "LayoutModel",
            "justify_items": null,
            "grid_row": null,
            "max_height": null,
            "align_content": null,
            "visibility": null,
            "align_self": null,
            "height": null,
            "min_height": null,
            "padding": null,
            "grid_auto_rows": null,
            "grid_gap": null,
            "max_width": null,
            "order": null,
            "_view_module_version": "1.2.0",
            "grid_template_areas": null,
            "object_position": null,
            "object_fit": null,
            "grid_auto_columns": null,
            "margin": null,
            "display": null,
            "left": null
          }
        },
        "9864d2f704aa45579c1ddf45ecf5e0a2": {
          "model_module": "@jupyter-widgets/controls",
          "model_name": "ProgressStyleModel",
          "model_module_version": "1.5.0",
          "state": {
            "_view_name": "StyleView",
            "_model_name": "ProgressStyleModel",
            "description_width": "",
            "_view_module": "@jupyter-widgets/base",
            "_model_module_version": "1.5.0",
            "_view_count": null,
            "_view_module_version": "1.2.0",
            "bar_color": null,
            "_model_module": "@jupyter-widgets/controls"
          }
        },
        "c26acf3f76c44eeca190f8442fc5fb29": {
          "model_module": "@jupyter-widgets/base",
          "model_name": "LayoutModel",
          "model_module_version": "1.2.0",
          "state": {
            "_view_name": "LayoutView",
            "grid_template_rows": null,
            "right": null,
            "justify_content": null,
            "_view_module": "@jupyter-widgets/base",
            "overflow": null,
            "_model_module_version": "1.2.0",
            "_view_count": null,
            "flex_flow": null,
            "width": null,
            "min_width": null,
            "border": null,
            "align_items": null,
            "bottom": null,
            "_model_module": "@jupyter-widgets/base",
            "top": null,
            "grid_column": null,
            "overflow_y": null,
            "overflow_x": null,
            "grid_auto_flow": null,
            "grid_area": null,
            "grid_template_columns": null,
            "flex": "2",
            "_model_name": "LayoutModel",
            "justify_items": null,
            "grid_row": null,
            "max_height": null,
            "align_content": null,
            "visibility": null,
            "align_self": null,
            "height": null,
            "min_height": null,
            "padding": null,
            "grid_auto_rows": null,
            "grid_gap": null,
            "max_width": null,
            "order": null,
            "_view_module_version": "1.2.0",
            "grid_template_areas": null,
            "object_position": null,
            "object_fit": null,
            "grid_auto_columns": null,
            "margin": null,
            "display": null,
            "left": null
          }
        },
        "76ca2430ffa8497d8f8208d1dc351412": {
          "model_module": "@jupyter-widgets/controls",
          "model_name": "DescriptionStyleModel",
          "model_module_version": "1.5.0",
          "state": {
            "_view_name": "StyleView",
            "_model_name": "DescriptionStyleModel",
            "description_width": "",
            "_view_module": "@jupyter-widgets/base",
            "_model_module_version": "1.5.0",
            "_view_count": null,
            "_view_module_version": "1.2.0",
            "_model_module": "@jupyter-widgets/controls"
          }
        },
        "df5d3e14795f4d57a677e1bec0cae563": {
          "model_module": "@jupyter-widgets/base",
          "model_name": "LayoutModel",
          "model_module_version": "1.2.0",
          "state": {
            "_view_name": "LayoutView",
            "grid_template_rows": null,
            "right": null,
            "justify_content": null,
            "_view_module": "@jupyter-widgets/base",
            "overflow": null,
            "_model_module_version": "1.2.0",
            "_view_count": null,
            "flex_flow": null,
            "width": null,
            "min_width": null,
            "border": null,
            "align_items": null,
            "bottom": null,
            "_model_module": "@jupyter-widgets/base",
            "top": null,
            "grid_column": null,
            "overflow_y": null,
            "overflow_x": null,
            "grid_auto_flow": null,
            "grid_area": null,
            "grid_template_columns": null,
            "flex": null,
            "_model_name": "LayoutModel",
            "justify_items": null,
            "grid_row": null,
            "max_height": null,
            "align_content": null,
            "visibility": null,
            "align_self": null,
            "height": null,
            "min_height": null,
            "padding": null,
            "grid_auto_rows": null,
            "grid_gap": null,
            "max_width": null,
            "order": null,
            "_view_module_version": "1.2.0",
            "grid_template_areas": null,
            "object_position": null,
            "object_fit": null,
            "grid_auto_columns": null,
            "margin": null,
            "display": null,
            "left": null
          }
        }
      }
    }
  },
  "cells": [
    {
      "cell_type": "markdown",
      "metadata": {
        "id": "view-in-github",
        "colab_type": "text"
      },
      "source": [
        "<a href=\"https://colab.research.google.com/github/moraes-ederson/Curso_DominandoDS_Flai/blob/main/3_aula_anotacoes.ipynb\" target=\"_parent\"><img src=\"https://colab.research.google.com/assets/colab-badge.svg\" alt=\"Open In Colab\"/></a>"
      ]
    },
    {
      "cell_type": "markdown",
      "metadata": {
        "id": "h_40G9Fzbt3p"
      },
      "source": [
        "# **Medical Cost Data**"
      ]
    },
    {
      "cell_type": "markdown",
      "metadata": {
        "id": "7dgKvChucp8q"
      },
      "source": [
        "## Importação dos dados"
      ]
    },
    {
      "cell_type": "code",
      "metadata": {
        "id": "XEGe5w13JN4J"
      },
      "source": [
        "import pandas as pd\n",
        "dados = pd.read_csv('/content/insurance.csv')"
      ],
      "execution_count": null,
      "outputs": []
    },
    {
      "cell_type": "code",
      "metadata": {
        "colab": {
          "base_uri": "https://localhost:8080/",
          "height": 204
        },
        "id": "d6GpfA6fc6fd",
        "outputId": "59f7bbc0-df7d-4b4c-847d-346fb126be63"
      },
      "source": [
        "dados.head()"
      ],
      "execution_count": null,
      "outputs": [
        {
          "output_type": "execute_result",
          "data": {
            "text/html": [
              "<div>\n",
              "<style scoped>\n",
              "    .dataframe tbody tr th:only-of-type {\n",
              "        vertical-align: middle;\n",
              "    }\n",
              "\n",
              "    .dataframe tbody tr th {\n",
              "        vertical-align: top;\n",
              "    }\n",
              "\n",
              "    .dataframe thead th {\n",
              "        text-align: right;\n",
              "    }\n",
              "</style>\n",
              "<table border=\"1\" class=\"dataframe\">\n",
              "  <thead>\n",
              "    <tr style=\"text-align: right;\">\n",
              "      <th></th>\n",
              "      <th>age</th>\n",
              "      <th>sex</th>\n",
              "      <th>bmi</th>\n",
              "      <th>children</th>\n",
              "      <th>smoker</th>\n",
              "      <th>region</th>\n",
              "      <th>charges</th>\n",
              "    </tr>\n",
              "  </thead>\n",
              "  <tbody>\n",
              "    <tr>\n",
              "      <th>0</th>\n",
              "      <td>19</td>\n",
              "      <td>female</td>\n",
              "      <td>27.900</td>\n",
              "      <td>0</td>\n",
              "      <td>yes</td>\n",
              "      <td>southwest</td>\n",
              "      <td>16884.92400</td>\n",
              "    </tr>\n",
              "    <tr>\n",
              "      <th>1</th>\n",
              "      <td>18</td>\n",
              "      <td>male</td>\n",
              "      <td>33.770</td>\n",
              "      <td>1</td>\n",
              "      <td>no</td>\n",
              "      <td>southeast</td>\n",
              "      <td>1725.55230</td>\n",
              "    </tr>\n",
              "    <tr>\n",
              "      <th>2</th>\n",
              "      <td>28</td>\n",
              "      <td>male</td>\n",
              "      <td>33.000</td>\n",
              "      <td>3</td>\n",
              "      <td>no</td>\n",
              "      <td>southeast</td>\n",
              "      <td>4449.46200</td>\n",
              "    </tr>\n",
              "    <tr>\n",
              "      <th>3</th>\n",
              "      <td>33</td>\n",
              "      <td>male</td>\n",
              "      <td>22.705</td>\n",
              "      <td>0</td>\n",
              "      <td>no</td>\n",
              "      <td>northwest</td>\n",
              "      <td>21984.47061</td>\n",
              "    </tr>\n",
              "    <tr>\n",
              "      <th>4</th>\n",
              "      <td>32</td>\n",
              "      <td>male</td>\n",
              "      <td>28.880</td>\n",
              "      <td>0</td>\n",
              "      <td>no</td>\n",
              "      <td>northwest</td>\n",
              "      <td>3866.85520</td>\n",
              "    </tr>\n",
              "  </tbody>\n",
              "</table>\n",
              "</div>"
            ],
            "text/plain": [
              "   age     sex     bmi  children smoker     region      charges\n",
              "0   19  female  27.900         0    yes  southwest  16884.92400\n",
              "1   18    male  33.770         1     no  southeast   1725.55230\n",
              "2   28    male  33.000         3     no  southeast   4449.46200\n",
              "3   33    male  22.705         0     no  northwest  21984.47061\n",
              "4   32    male  28.880         0     no  northwest   3866.85520"
            ]
          },
          "metadata": {
            "tags": []
          },
          "execution_count": 2
        }
      ]
    },
    {
      "cell_type": "code",
      "metadata": {
        "colab": {
          "base_uri": "https://localhost:8080/",
          "height": 297
        },
        "id": "8B_-EOg4c9Jw",
        "outputId": "61075c70-afc5-4dfc-bb6d-5b5c2377b819"
      },
      "source": [
        "dados.describe()"
      ],
      "execution_count": null,
      "outputs": [
        {
          "output_type": "execute_result",
          "data": {
            "text/html": [
              "<div>\n",
              "<style scoped>\n",
              "    .dataframe tbody tr th:only-of-type {\n",
              "        vertical-align: middle;\n",
              "    }\n",
              "\n",
              "    .dataframe tbody tr th {\n",
              "        vertical-align: top;\n",
              "    }\n",
              "\n",
              "    .dataframe thead th {\n",
              "        text-align: right;\n",
              "    }\n",
              "</style>\n",
              "<table border=\"1\" class=\"dataframe\">\n",
              "  <thead>\n",
              "    <tr style=\"text-align: right;\">\n",
              "      <th></th>\n",
              "      <th>age</th>\n",
              "      <th>bmi</th>\n",
              "      <th>children</th>\n",
              "      <th>charges</th>\n",
              "    </tr>\n",
              "  </thead>\n",
              "  <tbody>\n",
              "    <tr>\n",
              "      <th>count</th>\n",
              "      <td>1338.000000</td>\n",
              "      <td>1338.000000</td>\n",
              "      <td>1338.000000</td>\n",
              "      <td>1338.000000</td>\n",
              "    </tr>\n",
              "    <tr>\n",
              "      <th>mean</th>\n",
              "      <td>39.207025</td>\n",
              "      <td>30.663397</td>\n",
              "      <td>1.094918</td>\n",
              "      <td>13270.422265</td>\n",
              "    </tr>\n",
              "    <tr>\n",
              "      <th>std</th>\n",
              "      <td>14.049960</td>\n",
              "      <td>6.098187</td>\n",
              "      <td>1.205493</td>\n",
              "      <td>12110.011237</td>\n",
              "    </tr>\n",
              "    <tr>\n",
              "      <th>min</th>\n",
              "      <td>18.000000</td>\n",
              "      <td>15.960000</td>\n",
              "      <td>0.000000</td>\n",
              "      <td>1121.873900</td>\n",
              "    </tr>\n",
              "    <tr>\n",
              "      <th>25%</th>\n",
              "      <td>27.000000</td>\n",
              "      <td>26.296250</td>\n",
              "      <td>0.000000</td>\n",
              "      <td>4740.287150</td>\n",
              "    </tr>\n",
              "    <tr>\n",
              "      <th>50%</th>\n",
              "      <td>39.000000</td>\n",
              "      <td>30.400000</td>\n",
              "      <td>1.000000</td>\n",
              "      <td>9382.033000</td>\n",
              "    </tr>\n",
              "    <tr>\n",
              "      <th>75%</th>\n",
              "      <td>51.000000</td>\n",
              "      <td>34.693750</td>\n",
              "      <td>2.000000</td>\n",
              "      <td>16639.912515</td>\n",
              "    </tr>\n",
              "    <tr>\n",
              "      <th>max</th>\n",
              "      <td>64.000000</td>\n",
              "      <td>53.130000</td>\n",
              "      <td>5.000000</td>\n",
              "      <td>63770.428010</td>\n",
              "    </tr>\n",
              "  </tbody>\n",
              "</table>\n",
              "</div>"
            ],
            "text/plain": [
              "               age          bmi     children       charges\n",
              "count  1338.000000  1338.000000  1338.000000   1338.000000\n",
              "mean     39.207025    30.663397     1.094918  13270.422265\n",
              "std      14.049960     6.098187     1.205493  12110.011237\n",
              "min      18.000000    15.960000     0.000000   1121.873900\n",
              "25%      27.000000    26.296250     0.000000   4740.287150\n",
              "50%      39.000000    30.400000     1.000000   9382.033000\n",
              "75%      51.000000    34.693750     2.000000  16639.912515\n",
              "max      64.000000    53.130000     5.000000  63770.428010"
            ]
          },
          "metadata": {
            "tags": []
          },
          "execution_count": 3
        }
      ]
    },
    {
      "cell_type": "code",
      "metadata": {
        "colab": {
          "base_uri": "https://localhost:8080/"
        },
        "id": "PDWHGVoPdKO5",
        "outputId": "f267b237-65a4-4bf7-f85b-1beeffa677ee"
      },
      "source": [
        "dados.shape"
      ],
      "execution_count": null,
      "outputs": [
        {
          "output_type": "execute_result",
          "data": {
            "text/plain": [
              "(1338, 7)"
            ]
          },
          "metadata": {
            "tags": []
          },
          "execution_count": 4
        }
      ]
    },
    {
      "cell_type": "markdown",
      "metadata": {
        "id": "TUx8o0TwdU9b"
      },
      "source": [
        "## EDA Básica usando sweetviz"
      ]
    },
    {
      "cell_type": "code",
      "metadata": {
        "colab": {
          "base_uri": "https://localhost:8080/"
        },
        "id": "G2gcNlK0dTBD",
        "outputId": "ed4c9bda-aa69-4fab-aa7f-ebcc1ab29479"
      },
      "source": [
        "# instalando sweetviz\n",
        "!pip install sweetviz"
      ],
      "execution_count": null,
      "outputs": [
        {
          "output_type": "stream",
          "text": [
            "Collecting sweetviz\n",
            "\u001b[?25l  Downloading https://files.pythonhosted.org/packages/92/6f/58c132de8243a16c64b741dfc2aa8b31af66334ae6858d97c41846afe642/sweetviz-2.0.9-py3-none-any.whl (15.1MB)\n",
            "\u001b[K     |████████████████████████████████| 15.1MB 275kB/s \n",
            "\u001b[?25hRequirement already satisfied: numpy>=1.16.0 in /usr/local/lib/python3.7/dist-packages (from sweetviz) (1.19.5)\n",
            "Requirement already satisfied: pandas!=1.0.0,!=1.0.1,!=1.0.2,>=0.25.3 in /usr/local/lib/python3.7/dist-packages (from sweetviz) (1.1.5)\n",
            "Collecting tqdm>=4.43.0\n",
            "\u001b[?25l  Downloading https://files.pythonhosted.org/packages/f8/3e/2730d0effc282960dbff3cf91599ad0d8f3faedc8e75720fdf224b31ab24/tqdm-4.59.0-py2.py3-none-any.whl (74kB)\n",
            "\u001b[K     |████████████████████████████████| 81kB 7.5MB/s \n",
            "\u001b[?25hRequirement already satisfied: scipy>=1.3.2 in /usr/local/lib/python3.7/dist-packages (from sweetviz) (1.4.1)\n",
            "Requirement already satisfied: matplotlib>=3.1.3 in /usr/local/lib/python3.7/dist-packages (from sweetviz) (3.2.2)\n",
            "Requirement already satisfied: importlib-resources>=1.2.0 in /usr/local/lib/python3.7/dist-packages (from sweetviz) (5.1.2)\n",
            "Requirement already satisfied: jinja2>=2.11.1 in /usr/local/lib/python3.7/dist-packages (from sweetviz) (2.11.3)\n",
            "Requirement already satisfied: pytz>=2017.2 in /usr/local/lib/python3.7/dist-packages (from pandas!=1.0.0,!=1.0.1,!=1.0.2,>=0.25.3->sweetviz) (2018.9)\n",
            "Requirement already satisfied: python-dateutil>=2.7.3 in /usr/local/lib/python3.7/dist-packages (from pandas!=1.0.0,!=1.0.1,!=1.0.2,>=0.25.3->sweetviz) (2.8.1)\n",
            "Requirement already satisfied: cycler>=0.10 in /usr/local/lib/python3.7/dist-packages (from matplotlib>=3.1.3->sweetviz) (0.10.0)\n",
            "Requirement already satisfied: pyparsing!=2.0.4,!=2.1.2,!=2.1.6,>=2.0.1 in /usr/local/lib/python3.7/dist-packages (from matplotlib>=3.1.3->sweetviz) (2.4.7)\n",
            "Requirement already satisfied: kiwisolver>=1.0.1 in /usr/local/lib/python3.7/dist-packages (from matplotlib>=3.1.3->sweetviz) (1.3.1)\n",
            "Requirement already satisfied: zipp>=0.4; python_version < \"3.8\" in /usr/local/lib/python3.7/dist-packages (from importlib-resources>=1.2.0->sweetviz) (3.4.1)\n",
            "Requirement already satisfied: MarkupSafe>=0.23 in /usr/local/lib/python3.7/dist-packages (from jinja2>=2.11.1->sweetviz) (1.1.1)\n",
            "Requirement already satisfied: six>=1.5 in /usr/local/lib/python3.7/dist-packages (from python-dateutil>=2.7.3->pandas!=1.0.0,!=1.0.1,!=1.0.2,>=0.25.3->sweetviz) (1.15.0)\n",
            "Installing collected packages: tqdm, sweetviz\n",
            "  Found existing installation: tqdm 4.41.1\n",
            "    Uninstalling tqdm-4.41.1:\n",
            "      Successfully uninstalled tqdm-4.41.1\n",
            "Successfully installed sweetviz-2.0.9 tqdm-4.59.0\n"
          ],
          "name": "stdout"
        }
      ]
    },
    {
      "cell_type": "code",
      "metadata": {
        "id": "R19zlJsFdv8L"
      },
      "source": [
        "import sweetviz"
      ],
      "execution_count": null,
      "outputs": []
    },
    {
      "cell_type": "code",
      "metadata": {
        "colab": {
          "base_uri": "https://localhost:8080/",
          "height": 86,
          "referenced_widgets": [
            "79e0716fb6c14558bbc96e3eeb35f93e",
            "1b922b207a8b499fbdb840e060e7531e",
            "cfcf63fc01cf4bb392685353df4a4dba",
            "c66c4ca08a0e452da8857381540c2d30",
            "e34b2f557aba4a089a24749667099d9d",
            "05b491d4c9e944b4a8a1820c1c24f4b5",
            "45b3e6adaa0448fbae2cf0c57742b42c",
            "9864d2f704aa45579c1ddf45ecf5e0a2",
            "c26acf3f76c44eeca190f8442fc5fb29",
            "76ca2430ffa8497d8f8208d1dc351412",
            "df5d3e14795f4d57a677e1bec0cae563"
          ]
        },
        "id": "z_ePC9zFd1ej",
        "outputId": "916fc749-1ccb-4e92-cecb-d78da1ea94f5"
      },
      "source": [
        "eda = sweetviz.analyze([dados, \"Seguro Saúde\"], target_feat=\"charges\")\n",
        "eda.show_html()"
      ],
      "execution_count": null,
      "outputs": [
        {
          "output_type": "display_data",
          "data": {
            "application/vnd.jupyter.widget-view+json": {
              "model_id": "79e0716fb6c14558bbc96e3eeb35f93e",
              "version_minor": 0,
              "version_major": 2
            },
            "text/plain": [
              "                                             |          | [  0%]   00:00 -> (? left)"
            ]
          },
          "metadata": {
            "tags": []
          }
        },
        {
          "output_type": "stream",
          "text": [
            "Report SWEETVIZ_REPORT.html was generated! NOTEBOOK/COLAB USERS: the web browser MAY not pop up, regardless, the report IS saved in your notebook/colab files.\n"
          ],
          "name": "stdout"
        }
      ]
    },
    {
      "cell_type": "markdown",
      "metadata": {
        "id": "Vw2zVcKsgiRc"
      },
      "source": [
        "# Algum pré-processamento interessante antes de prosseguir:\n",
        "\n",
        "*   Transformar a variável smoker em 0 (não) ou 1 (sim)\n",
        "*   Colocar a variável resposta na escala para cada mil dolares\n"
      ]
    },
    {
      "cell_type": "code",
      "metadata": {
        "id": "QJNMJyxoePeJ"
      },
      "source": [
        "dados['smoker'] = dados['smoker'].map({'yes': 1, 'no': 0})\n",
        "dados['charges'] = dados['charges']/1000"
      ],
      "execution_count": null,
      "outputs": []
    },
    {
      "cell_type": "markdown",
      "metadata": {
        "id": "6ZuzDmFkhZ-j"
      },
      "source": [
        "**Variáveis que vamos considerar na análise, nesse primeiro momento: charges, bmi, smoker.**"
      ]
    },
    {
      "cell_type": "code",
      "metadata": {
        "colab": {
          "base_uri": "https://localhost:8080/",
          "height": 204
        },
        "id": "EYXykJGuhYeN",
        "outputId": "9cdad794-1747-4c71-9c31-4fc95b9f1aed"
      },
      "source": [
        "dados = dados[['bmi', 'smoker', 'charges']]\n",
        "dados.head()"
      ],
      "execution_count": null,
      "outputs": [
        {
          "output_type": "execute_result",
          "data": {
            "text/html": [
              "<div>\n",
              "<style scoped>\n",
              "    .dataframe tbody tr th:only-of-type {\n",
              "        vertical-align: middle;\n",
              "    }\n",
              "\n",
              "    .dataframe tbody tr th {\n",
              "        vertical-align: top;\n",
              "    }\n",
              "\n",
              "    .dataframe thead th {\n",
              "        text-align: right;\n",
              "    }\n",
              "</style>\n",
              "<table border=\"1\" class=\"dataframe\">\n",
              "  <thead>\n",
              "    <tr style=\"text-align: right;\">\n",
              "      <th></th>\n",
              "      <th>bmi</th>\n",
              "      <th>smoker</th>\n",
              "      <th>charges</th>\n",
              "    </tr>\n",
              "  </thead>\n",
              "  <tbody>\n",
              "    <tr>\n",
              "      <th>0</th>\n",
              "      <td>27.900</td>\n",
              "      <td>1</td>\n",
              "      <td>16.884924</td>\n",
              "    </tr>\n",
              "    <tr>\n",
              "      <th>1</th>\n",
              "      <td>33.770</td>\n",
              "      <td>0</td>\n",
              "      <td>1.725552</td>\n",
              "    </tr>\n",
              "    <tr>\n",
              "      <th>2</th>\n",
              "      <td>33.000</td>\n",
              "      <td>0</td>\n",
              "      <td>4.449462</td>\n",
              "    </tr>\n",
              "    <tr>\n",
              "      <th>3</th>\n",
              "      <td>22.705</td>\n",
              "      <td>0</td>\n",
              "      <td>21.984471</td>\n",
              "    </tr>\n",
              "    <tr>\n",
              "      <th>4</th>\n",
              "      <td>28.880</td>\n",
              "      <td>0</td>\n",
              "      <td>3.866855</td>\n",
              "    </tr>\n",
              "  </tbody>\n",
              "</table>\n",
              "</div>"
            ],
            "text/plain": [
              "      bmi  smoker    charges\n",
              "0  27.900       1  16.884924\n",
              "1  33.770       0   1.725552\n",
              "2  33.000       0   4.449462\n",
              "3  22.705       0  21.984471\n",
              "4  28.880       0   3.866855"
            ]
          },
          "metadata": {
            "tags": []
          },
          "execution_count": 9
        }
      ]
    },
    {
      "cell_type": "markdown",
      "metadata": {
        "id": "cxKEN0tSD54u"
      },
      "source": [
        "## Gráficos pertinentes"
      ]
    },
    {
      "cell_type": "code",
      "metadata": {
        "id": "JuXvEfDShXFm"
      },
      "source": [
        "import seaborn as sns"
      ],
      "execution_count": null,
      "outputs": []
    },
    {
      "cell_type": "code",
      "metadata": {
        "colab": {
          "base_uri": "https://localhost:8080/",
          "height": 395
        },
        "id": "Jk8MbkNcEkOi",
        "outputId": "cad47e66-e37b-4b47-d911-af5577fd905b"
      },
      "source": [
        "sns.scatterplot(x = 'bmi', y = 'charges', data = dados)"
      ],
      "execution_count": null,
      "outputs": [
        {
          "output_type": "execute_result",
          "data": {
            "text/plain": [
              "<matplotlib.axes._subplots.AxesSubplot at 0x7f42584a9b50>"
            ]
          },
          "metadata": {
            "tags": []
          },
          "execution_count": 11
        },
        {
          "output_type": "display_data",
          "data": {
            "image/png": "[encoded data removed]",
            "text/plain": [
              "<Figure size 600x400 with 1 Axes>"
            ]
          },
          "metadata": {
            "tags": []
          }
        }
      ]
    },
    {
      "cell_type": "code",
      "metadata": {
        "colab": {
          "base_uri": "https://localhost:8080/",
          "height": 395
        },
        "id": "bYa9OD5LE2We",
        "outputId": "cad3afdb-6bf8-42f9-edff-7e27740dcf6b"
      },
      "source": [
        "sns.scatterplot(x = 'bmi', y = 'charges', hue = 'smoker', data = dados)"
      ],
      "execution_count": null,
      "outputs": [
        {
          "output_type": "execute_result",
          "data": {
            "text/plain": [
              "<matplotlib.axes._subplots.AxesSubplot at 0x7f4258554790>"
            ]
          },
          "metadata": {
            "tags": []
          },
          "execution_count": 12
        },
        {
          "output_type": "display_data",
          "data": {
            "image/png": "[encoded data removed]",
            "text/plain": [
              "<Figure size 600x400 with 1 Axes>"
            ]
          },
          "metadata": {
            "tags": []
          }
        }
      ]
    },
    {
      "cell_type": "markdown",
      "metadata": {
        "id": "WC_nir0BFouY"
      },
      "source": [
        "## Cenário 1: considerando apenas a variável **bmi**."
      ]
    },
    {
      "cell_type": "markdown",
      "metadata": {
        "id": "hMwIr9DXFrTp"
      },
      "source": [
        "Utilizando *bmi* para prever *charges*."
      ]
    },
    {
      "cell_type": "code",
      "metadata": {
        "id": "4Ip8M1_JE_HH"
      },
      "source": [
        "X = dados['bmi'].values.reshape(-1, 1)\n",
        "y = dados['charges'] "
      ],
      "execution_count": null,
      "outputs": []
    },
    {
      "cell_type": "code",
      "metadata": {
        "colab": {
          "base_uri": "https://localhost:8080/"
        },
        "id": "-uTmhgwtHdPy",
        "outputId": "355a4d4a-5ebc-4ea0-a046-e6e35984f572"
      },
      "source": [
        "# Ajuste do modelo de regressão linear\n",
        "from sklearn.linear_model import LinearRegression\n",
        "reg = LinearRegression()\n",
        "\n",
        "reg.fit(X, y)"
      ],
      "execution_count": null,
      "outputs": [
        {
          "output_type": "execute_result",
          "data": {
            "text/plain": [
              "LinearRegression(copy_X=True, fit_intercept=True, n_jobs=None, normalize=False)"
            ]
          },
          "metadata": {
            "tags": []
          },
          "execution_count": 16
        }
      ]
    },
    {
      "cell_type": "code",
      "metadata": {
        "id": "vZN6WoagG717"
      },
      "source": [
        "# Holdout\n",
        "# Separando em dados teste e treinamento \n",
        "\n",
        "from sklearn.model_selection import train_test_split \n",
        "\n",
        "Xtreino, Xteste, ytreino, yteste  = train_test_split(X, y, test_size = 0.25)"
      ],
      "execution_count": null,
      "outputs": []
    },
    {
      "cell_type": "code",
      "metadata": {
        "colab": {
          "base_uri": "https://localhost:8080/"
        },
        "id": "zFT1L9VRKEDT",
        "outputId": "b6376ebe-2a38-4c3a-d08a-b9371ab7dd0a"
      },
      "source": [
        "print(Xtreino.shape)\n",
        "print(Xteste.shape)"
      ],
      "execution_count": null,
      "outputs": [
        {
          "output_type": "stream",
          "text": [
            "(1003, 1)\n",
            "(335, 1)\n"
          ],
          "name": "stdout"
        }
      ]
    },
    {
      "cell_type": "code",
      "metadata": {
        "colab": {
          "base_uri": "https://localhost:8080/"
        },
        "id": "SBW4JiQ8KH__",
        "outputId": "9f94ce97-6724-4e53-c921-57b28eb38b1b"
      },
      "source": [
        "# Ajuste do modelo de regressão linear\n",
        "from sklearn.linear_model import LinearRegression\n",
        "reg = LinearRegression()\n",
        "\n",
        "reg.fit(Xtreino, ytreino)"
      ],
      "execution_count": null,
      "outputs": [
        {
          "output_type": "execute_result",
          "data": {
            "text/plain": [
              "LinearRegression(copy_X=True, fit_intercept=True, n_jobs=None, normalize=False)"
            ]
          },
          "metadata": {
            "tags": []
          },
          "execution_count": 19
        }
      ]
    },
    {
      "cell_type": "code",
      "metadata": {
        "colab": {
          "base_uri": "https://localhost:8080/"
        },
        "id": "HxYawPxEKXWH",
        "outputId": "0fe17b8e-6a23-42a0-dd8f-9d210961ceb2"
      },
      "source": [
        "yteste"
      ],
      "execution_count": null,
      "outputs": [
        {
          "output_type": "execute_result",
          "data": {
            "text/plain": [
              "515     11.362755\n",
              "907      7.633721\n",
              "409      4.074454\n",
              "78       2.755021\n",
              "721     11.264541\n",
              "          ...    \n",
              "611      6.571544\n",
              "1319     7.201701\n",
              "75      11.356661\n",
              "375     18.033968\n",
              "311      1.737376\n",
              "Name: charges, Length: 335, dtype: float64"
            ]
          },
          "metadata": {
            "tags": []
          },
          "execution_count": 20
        }
      ]
    },
    {
      "cell_type": "code",
      "metadata": {
        "colab": {
          "base_uri": "https://localhost:8080/"
        },
        "id": "r3YN_nCJKZ7a",
        "outputId": "2205e30e-2238-42cc-dac5-edad27059057"
      },
      "source": [
        "# Predição utilizando a amostra teste comparando com a yteste\n",
        "preditos = reg.predict(Xteste)\n",
        "preditos"
      ],
      "execution_count": null,
      "outputs": [
        {
          "output_type": "execute_result",
          "data": {
            "text/plain": [
              "array([15.24791048, 13.9559962 , 13.06780514, 16.82627598, 15.59395894,\n",
              "       11.47982718, 17.41071339, 11.49328462, 12.51605009, 14.96338174,\n",
              "       12.99090548, 14.89032706, 15.51705929, 13.94061627, 16.78590366,\n",
              "       11.20106591, 12.29688606, 11.71437114, 13.24659685, 10.06871843,\n",
              "       16.23991608, 10.03219109, 13.44845845, 15.43823713, 12.40646807,\n",
              "       13.11009995, 11.45675728, 12.44107292, 13.01782036, 10.74159045,\n",
              "        9.77649973, 15.85926277, 12.17192411, 13.1004875 , 12.51605009,\n",
              "       11.74897599, 15.77467314, 18.01629821, 13.13316985, 13.57534289,\n",
              "       10.72621052, 13.57534289, 14.51736372,  8.20582419, 15.62087383,\n",
              "       12.81403626,  9.44775368, 14.59041839, 11.60286663, 17.11849469,\n",
              "        8.94213842,  9.8495544 , 14.67500802, 10.58010117, 10.79926519,\n",
              "       10.17830045, 11.67592131, 15.35172502,  9.41122635, 13.35617886,\n",
              "       11.33371783, 14.86341218, 14.67116303, 14.32511457, 14.85379972,\n",
              "       10.69929564, 10.98190188, 11.21067837, 18.94678409,  9.88608174,\n",
              "       14.23283498, 14.52505368, 12.69868678,  9.74958485,  9.93798901,\n",
              "       13.28312419, 13.57534289, 17.01660264, 14.67116303, 14.24821491,\n",
              "       11.41830745, 11.82587564, 17.82404906, 12.9178508 , 15.39401983,\n",
              "       11.12801124, 18.72569756, 12.6717719 ,  9.88608174, 13.49075327,\n",
              "       12.69868678, 11.78742581, 10.63393093, 12.22383138, 17.44724073,\n",
              "       11.31064793, 10.03219109, 12.13347428, 15.29212778, 11.3837026 ,\n",
              "       13.75797958, 13.65993252, 15.65740116, 14.08288064, 11.67592131,\n",
              "       11.74897599, 13.3927062 , 12.11424937, 19.1697931 , 10.14177311,\n",
              "        9.81302707, 14.42123914, 13.50228821, 13.15239477, 11.28757803,\n",
              "       16.45139014, 11.96814001, 18.32389685, 14.50582877, 12.33341339,\n",
              "       15.29212778, 14.33664952, 15.6939285 , 16.82627598, 13.49075327,\n",
              "       14.47891389, 12.18730404,  8.86331627, 10.03219109, 12.33341339,\n",
              "       14.17131525, 11.56633929, 15.0172115 , 12.09502445, 17.72023452,\n",
              "       12.85633108, 16.53597977,  9.73997239, 13.02551033, 13.79450692,\n",
              "       13.74836712, 16.57827458, 12.88132347, 16.709004  , 16.71669397,\n",
              "       11.84125558, 17.04351752, 14.08672562, 11.16453858, 12.40646807,\n",
              "       13.59456781, 14.6327132 , 14.17131525, 13.24659685, 13.49075327,\n",
              "       14.32511457, 17.59335008, 16.24183857, 14.12325296, 10.3244098 ,\n",
              "       12.6025622 , 12.30649851, 10.48782157, 10.5954811 , 10.09563331,\n",
              "       14.24821491, 10.27634751, 15.4017098 , 13.72145224, 14.12325296,\n",
              "       12.17192411, 15.25560044, 13.09472002, 11.54519189, 12.18730404,\n",
              "       18.39695152, 12.1507767 , 17.95862346, 11.96814001, 13.97714361,\n",
              "       16.68016663, 13.17354217,  9.37469901, 16.28221089, 12.71022172,\n",
              "       14.37894433, 10.50704649, 15.35172502, 16.97238534, 14.78074505,\n",
              "       10.76273786, 12.99090548, 14.28666474, 17.76252933, 13.36386883,\n",
              "       17.26460404, 13.28312419, 19.49661665, 15.60549389, 11.49328462,\n",
              "       11.67207633, 14.26936232, 11.44137735, 10.87231987, 16.49368496,\n",
              "       12.07772203,  9.48043604, 15.81696796, 11.42022994, 10.98190188,\n",
              "       19.87726996, 16.15532646, 13.3927062 , 12.05657462, 15.44015963,\n",
              "       13.94061627, 14.78074505, 10.44168178, 11.31064793, 12.32572343,\n",
              "       14.33664952,  9.15553498, 12.55642241, 10.6166285 , 16.15532646,\n",
              "        8.46151555, 13.17161968, 13.15239477,  9.63039037, 12.59487224,\n",
              "       14.89032706, 15.58434649, 15.69008352, 15.87656519, 17.11849469,\n",
              "       11.94122513, 12.85633108, 14.6346357 , 11.17222854, 10.87231987,\n",
              "       15.09411116,  9.13438757, 13.3927062 , 13.24659685, 12.30649851,\n",
              "       13.9790661 , 14.08672562, 13.68492491, 10.21482778, 14.67500802,\n",
              "       15.76698318, 14.45199901, 12.81403626, 10.17830045, 12.00466735,\n",
              "       12.40262309, 18.18547746, 15.07296375, 11.42022994, 15.17101082,\n",
              "       13.36386883, 11.05495656, 15.69008352, 13.83103426, 12.6256321 ,\n",
              "       16.9589279 , 13.94061627, 13.53304808, 15.78620809, 13.90216644,\n",
              "       13.1004875 , 12.36994073, 12.05657462, 11.31064793, 14.26936232,\n",
              "       16.1687839 , 16.28221089, 17.04351752, 12.2872736 , 10.6166285 ,\n",
              "       14.81727239, 13.36386883, 20.0041544 , 11.2491282 , 12.90247087,\n",
              "        8.21159166, 10.28788246, 14.90186201, 19.24284777, 18.73531002,\n",
              "       11.13377871, 13.61187023,  7.98666016, 14.75959764, 12.44299541,\n",
              "       16.83204346, 11.41830745, 14.92877689, 15.51129181, 15.76698318,\n",
              "       17.21269677, 11.16453858, 13.17354217, 13.11009995, 14.67116303,\n",
              "       14.12325296, 12.95437814,  9.92260908,  9.19206232, 16.19762127,\n",
              "       12.04119469, 10.71083059, 10.79926519, 12.72944664, 15.62087383,\n",
              "       14.46353395,  9.19206232, 11.45675728, 11.05495656, 13.79450692,\n",
              "       10.87231987, 16.78590366, 10.21482778, 13.35617886, 13.97714361,\n",
              "       13.94061627, 11.16453858, 11.12224376, 11.34717527, 12.36994073,\n",
              "       14.90186201, 11.63939397, 14.59810836, 12.40646807, 11.01842922])"
            ]
          },
          "metadata": {
            "tags": []
          },
          "execution_count": 21
        }
      ]
    },
    {
      "cell_type": "code",
      "metadata": {
        "colab": {
          "base_uri": "https://localhost:8080/"
        },
        "id": "djutKg59KwhI",
        "outputId": "93bba7d1-8bb8-462f-c331-a9c54aa58846"
      },
      "source": [
        "# Erro Quadrático Médio com numpy\n",
        "import numpy as np\n",
        "np.mean((preditos - yteste)**2)"
      ],
      "execution_count": null,
      "outputs": [
        {
          "output_type": "execute_result",
          "data": {
            "text/plain": [
              "141.5114150589293"
            ]
          },
          "metadata": {
            "tags": []
          },
          "execution_count": 22
        }
      ]
    },
    {
      "cell_type": "code",
      "metadata": {
        "colab": {
          "base_uri": "https://localhost:8080/"
        },
        "id": "GHowe1p3LQQo",
        "outputId": "178f8c8a-c791-438d-c737-2eeec58127bd"
      },
      "source": [
        "# Erro Quadrático Médio com sklearn\n",
        "from sklearn.metrics import mean_squared_error \n",
        "eqm = mean_squared_error(yteste, preditos)\n",
        "print('EQM : {}'.format(round(eqm, 2)))"
      ],
      "execution_count": null,
      "outputs": [
        {
          "output_type": "stream",
          "text": [
            "EQM : 141.51\n"
          ],
          "name": "stdout"
        }
      ]
    },
    {
      "cell_type": "code",
      "metadata": {
        "colab": {
          "base_uri": "https://localhost:8080/"
        },
        "id": "nKLNBtznLd3I",
        "outputId": "d9301964-877d-4447-b624-0be4ca010531"
      },
      "source": [
        "# Coeficientes\n",
        "b0 = reg.intercept_\n",
        "b1 = reg.coef_\n",
        "print('Intercepto: \\n', b0)\n",
        "print('Coeficientes: \\n', b1)"
      ],
      "execution_count": null,
      "outputs": [
        {
          "output_type": "stream",
          "text": [
            "Intercepto: \n",
            " 1.5213213132305565\n",
            "Coeficientes: \n",
            " [0.3844983]\n"
          ],
          "name": "stdout"
        }
      ]
    },
    {
      "cell_type": "markdown",
      "metadata": {
        "id": "N929xMrFL4ke"
      },
      "source": [
        "Nesse cenário, o modelo de regressão linear é dado por\n",
        "\n",
        " **CUSTOS = b0 + b1 * IMC**"
      ]
    },
    {
      "cell_type": "code",
      "metadata": {
        "colab": {
          "base_uri": "https://localhost:8080/",
          "height": 398
        },
        "id": "Ah1MXYxeL4Kj",
        "outputId": "dc3574cb-28c4-4f9b-d84f-c658bf8c3bf9"
      },
      "source": [
        "import numpy as np\n",
        "\n",
        "x = np.arange(15, 55, 0.01)\n",
        "y0 = b0 + b1*x\n",
        "\n",
        "import matplotlib.pyplot as plt\n",
        "\n",
        "sns.scatterplot(x = 'bmi', y = 'charges', data = dados);\n",
        "plt.plot(x, y0, color = 'blue')\n",
        "plt.title('Reta de Regressão')\n",
        "plt.xlabel('IMC')\n",
        "plt.ylabel('Custos')\n",
        "plt.show()"
      ],
      "execution_count": null,
      "outputs": [
        {
          "output_type": "display_data",
          "data": {
            "image/png": "[encoded data removed]",
            "text/plain": [
              "<Figure size 600x400 with 1 Axes>"
            ]
          },
          "metadata": {
            "tags": []
          }
        }
      ]
    },
    {
      "cell_type": "markdown",
      "metadata": {
        "id": "WJ6S1QcHYB17"
      },
      "source": [
        "Note agora o que aconteceria se ajustassemos e avaliassemos o modelo no mesmo conjunto de dados (nesse caso, os dados todos)."
      ]
    },
    {
      "cell_type": "code",
      "metadata": {
        "colab": {
          "base_uri": "https://localhost:8080/"
        },
        "id": "_dJ2Kd-lXNYc",
        "outputId": "49564f71-23c8-4e43-fb9c-331b40b70565"
      },
      "source": [
        "reg0 = LinearRegression()\n",
        "reg0.fit(X, y)\n",
        "\n",
        "preditos = reg0.predict(X)\n",
        "\n",
        "eqm = mean_squared_error(y, preditos)\n",
        "print('EQM : {}'.format(round(eqm, 2)))"
      ],
      "execution_count": null,
      "outputs": [
        {
          "output_type": "stream",
          "text": [
            "EQM : 140.78\n"
          ],
          "name": "stdout"
        }
      ]
    },
    {
      "cell_type": "code",
      "metadata": {
        "id": "uVw_44q5YHjt"
      },
      "source": [
        ""
      ],
      "execution_count": null,
      "outputs": []
    }
  ]
}