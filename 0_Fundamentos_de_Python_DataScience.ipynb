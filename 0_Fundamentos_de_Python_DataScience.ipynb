{
  "nbformat": 4,
  "nbformat_minor": 0,
  "metadata": {
    "colab": {
      "name": "0-Fundamentos_de_Python_DataScience.ipynb",
      "provenance": [],
      "include_colab_link": true
    },
    "kernelspec": {
      "name": "python3",
      "display_name": "Python 3"
    }
  },
  "cells": [
    {
      "cell_type": "markdown",
      "metadata": {
        "id": "view-in-github",
        "colab_type": "text"
      },
      "source": [
        "<a href=\"https://colab.research.google.com/github/moraes-ederson/Curso_DominandoDS_Flai/blob/main/0_Fundamentos_de_Python_DataScience.ipynb\" target=\"_parent\"><img src=\"https://colab.research.google.com/assets/colab-badge.svg\" alt=\"Open In Colab\"/></a>"
      ]
    },
    {
      "cell_type": "markdown",
      "metadata": {
        "id": "9spOcMo4FPNI"
      },
      "source": [
        "# **Fundamentos de Python para Data Science**\n"
      ]
    },
    {
      "cell_type": "markdown",
      "metadata": {
        "id": "63jz0LpiQDx3"
      },
      "source": [
        "![Capa](https://desenvolvedorsa.com/blog_novo/wp-content/uploads/2019/07/opengraph-icon-200x2001-1.png) "
      ]
    },
    {
      "cell_type": "markdown",
      "metadata": {
        "id": "RgKi_rebQYm9"
      },
      "source": [
        "\n",
        "Essa é uma introdução bem rápida aos conceitos fundamentais de programação em Python. Se familiarizar com tais conceitos é um primeiro passo suficiente para fazer seus primeiros programas e também entender outros códigos feitos em Python. No entanto, não se engane, o universe de Python é gigante e existe muita coisa interessante para se conhecer ainda!\n",
        "\n",
        "Após terminar essa introdução, não deixe de se desafiar nos exercícios propostos! São importantíssimos para criar manejo e intimidade com a linguagem. "
      ]
    },
    {
      "cell_type": "markdown",
      "metadata": {
        "id": "HoQw4n_SMn9P"
      },
      "source": [
        "## **Conteúdo desse notebook:**\n",
        "\n",
        "1. [Atribuição de Variáveis](#atri)\n",
        "2. [Primeiras Funções](#prim)\n",
        "3. [Operadores Aritméticos](#oper)\n",
        "4. [Comparações e Booleanos](#comp)\n",
        "5. [Condicional IF-ELSE](#cond)\n",
        "6. [Definição de Funções](#defi) \n",
        "6. [Importação de Bibliotecas](#impo) \n",
        "6. [A Biblioteca Numpy](#nump) \n",
        "\n",
        "6. [Listas](#lists) \n",
        "6. [Métodos de Listas](#metl) Iteradores FOR e WHILE\n",
        "6. [Métodos de Strings](#mets) \n",
        "6. [Funções Importantes](#func) \n",
        "6. [Iteradores FOR e WHILE](#iter) \n",
        "6. [Projeto: Álbum de Figurinhas](#proj) \n",
        "\n",
        "7. [Exercícios](#exer) \n",
        "9. [Links Úteis](#links)\n",
        "10. [Anexo: Zen of Python](#anex)"
      ]
    },
    {
      "cell_type": "markdown",
      "metadata": {
        "id": "8kMiWTL0pvFF"
      },
      "source": [
        "## **Atribuição de Variáveis** <a name=\"atri\"></a>"
      ]
    },
    {
      "cell_type": "code",
      "metadata": {
        "id": "dwHX8egGBuTc",
        "colab": {
          "base_uri": "https://localhost:8080/",
          "height": 90
        },
        "outputId": "ed01ed77-adb5-4142-88ac-dcb29a53e006"
      },
      "source": [
        "meu_nome = 'Ricardo'\n",
        "meu_sobrenome = 'Rocha'\n",
        "meu_produto = \"Caixa d'agua\"\n",
        "minha_frase = '\"Vamos que vamos!\"'\n",
        "\n",
        "print(meu_nome)\n",
        "print(meu_sobrenome)\n",
        "print(meu_produto)\n",
        "print(minha_frase)"
      ],
      "execution_count": null,
      "outputs": [
        {
          "output_type": "stream",
          "text": [
            "Ricardo\n",
            "Rocha\n",
            "Caixa d'agua\n",
            "\"Vamos que vamos!\"\n"
          ],
          "name": "stdout"
        }
      ]
    },
    {
      "cell_type": "markdown",
      "metadata": {
        "id": "a_tw5S1Hq0Ep"
      },
      "source": [
        "Não é possível atribuir variáveis com nomes começando com números, nem com espaços no nome ou com aspas. "
      ]
    },
    {
      "cell_type": "markdown",
      "metadata": {
        "id": "nWqVaqeBrAb_"
      },
      "source": [
        "OBS.: O **hashtag #** na frente de uma linha torna ela um **comentário**, pois o interpretador ignora tudo que vem depois dela "
      ]
    },
    {
      "cell_type": "markdown",
      "metadata": {
        "id": "38emYI_xJqeO"
      },
      "source": [
        "## **Primeiras Funções** <a name=\"prim\"></a>"
      ]
    },
    {
      "cell_type": "markdown",
      "metadata": {
        "id": "7JyT6165pi6l"
      },
      "source": [
        "Conheça a função **len**, que retorna o tamanho de uma string (e de outros tipos de objetos também).\n",
        "\n",
        "A função **type**, que retorna o tipo do objeto na variável de entrada\n",
        "\n",
        "A função **round**, que arredonda um número de acordo com as casas decimas desejadas\n",
        "\n",
        "E a função **help**, que retorna a documentação da função inserida como entrada."
      ]
    },
    {
      "cell_type": "code",
      "metadata": {
        "id": "CNTROt8rb4Lg",
        "colab": {
          "base_uri": "https://localhost:8080/",
          "height": 35
        },
        "outputId": "7aedb501-b5ac-4956-ea3d-eb7879efe1d2"
      },
      "source": [
        "nome = 'Ricardo'\n",
        "len(nome)"
      ],
      "execution_count": null,
      "outputs": [
        {
          "output_type": "execute_result",
          "data": {
            "text/plain": [
              "7"
            ]
          },
          "metadata": {
            "tags": []
          },
          "execution_count": 162
        }
      ]
    },
    {
      "cell_type": "markdown",
      "metadata": {
        "id": "ZH4vZ7NtI5Jx"
      },
      "source": [
        "Não só no Python, mas em programação em geral, sempre precisamos controlar o tipo das variáveis que utilizamos. Veja o exemplo abaixo:"
      ]
    },
    {
      "cell_type": "code",
      "metadata": {
        "id": "DvKNUkrPIlDt",
        "colab": {
          "base_uri": "https://localhost:8080/",
          "height": 35
        },
        "outputId": "793aaf4a-23d5-43af-f82a-c37ea1050044"
      },
      "source": [
        "minha_idade = '33'\n",
        "type(minha_idade)\n"
      ],
      "execution_count": null,
      "outputs": [
        {
          "output_type": "execute_result",
          "data": {
            "text/plain": [
              "str"
            ]
          },
          "metadata": {
            "tags": []
          },
          "execution_count": 160
        }
      ]
    },
    {
      "cell_type": "markdown",
      "metadata": {
        "id": "fyCVd6Tov_ao"
      },
      "source": [
        "Usando a função **int** para converter a variável em formato string para o formato inteiro"
      ]
    },
    {
      "cell_type": "code",
      "metadata": {
        "id": "svsiydRLv8vT",
        "colab": {
          "base_uri": "https://localhost:8080/",
          "height": 35
        },
        "outputId": "8acee7fd-17cd-49d3-df49-23ef86642b69"
      },
      "source": [
        "\n",
        "minha_idade = int(minha_idade)\n",
        "type(minha_idade)"
      ],
      "execution_count": null,
      "outputs": [
        {
          "output_type": "execute_result",
          "data": {
            "text/plain": [
              "int"
            ]
          },
          "metadata": {
            "tags": []
          },
          "execution_count": 159
        }
      ]
    },
    {
      "cell_type": "markdown",
      "metadata": {
        "id": "PUH_pzLDJa4Q"
      },
      "source": [
        "## **Operadores Aritméticos** <a name=\"oper\"></a>"
      ]
    },
    {
      "cell_type": "markdown",
      "metadata": {
        "id": "bS7hxv-Codpz"
      },
      "source": [
        "Confira na tabela abaixo como funcionam os operadores aritméticos em Python. \n",
        "\n",
        "Em especial, veja que a sintaxe da exponenciação não é feita através do sinal '^'."
      ]
    },
    {
      "cell_type": "markdown",
      "metadata": {
        "id": "mHsbgk0UGIaL"
      },
      "source": [
        "| Operator     | Name           | Description                                            |\n",
        "|--------------|----------------|--------------------------------------------------------|\n",
        "| ``a + b``    | Adiçao       | Soma entre ``a`` e ``b``                                 |\n",
        "| ``a - b``    | Subtração    | Diferença entre ``a`` e ``b``                          |\n",
        "| ``a * b``    | Multiplicação | Produto entre ``a`` e ``b``                             |\n",
        "| ``a / b``    | Divisão  | Divisão usual entre ``a`` e ``b``                            |\n",
        "| ``a // b``   | Divisão inteira | A divisão entre ``a`` e ``b``, removendo as partes decimais |\n",
        "| ``a % b``    | Resto da divisão        | O resto da divisão inteira de ``a`` por ``b``     |\n",
        "| ``a ** b``   | Exponenciação | ``a`` elevado a ``b``                     |\n",
        "| ``-a``       | Negação       | O negativo de ``a``                                  |"
      ]
    },
    {
      "cell_type": "code",
      "metadata": {
        "id": "T9gTYGKo31B4"
      },
      "source": [
        "print(a + b)\n",
        "print(a - b)\n",
        "print(a * b)\n",
        "print(a / b)\n",
        "print(a // b)\n",
        "print(a % b)\n",
        "print(a ** b)\n",
        "print(-a)"
      ],
      "execution_count": null,
      "outputs": []
    },
    {
      "cell_type": "code",
      "metadata": {
        "id": "FLOeFbsZGcx2",
        "colab": {
          "base_uri": "https://localhost:8080/",
          "height": 90
        },
        "outputId": "35dabf11-ce8f-4f7a-c352-aedbddcaa52b"
      },
      "source": [
        "print(max(a, b))\n",
        "print(min(a, b))\n",
        "print(abs(-a))"
      ],
      "execution_count": null,
      "outputs": [
        {
          "output_type": "stream",
          "text": [
            "1.0\n",
            "1\n",
            "-2\n",
            "1\n"
          ],
          "name": "stdout"
        }
      ]
    },
    {
      "cell_type": "markdown",
      "metadata": {
        "id": "Lh6dGL01YdHZ"
      },
      "source": [
        "## **Comparações e Booleanos** <a name=\"comp\"></a>"
      ]
    },
    {
      "cell_type": "markdown",
      "metadata": {
        "id": "zJGYOSKzn62F"
      },
      "source": [
        "Quando comparamos objetos em Python é como se estivéssemos fazendo uma pergunta a ele. Duas variáveis são iguais? Uma é maior que a outra? \n",
        "\n",
        "E a resposta é um objeto do tipo **booleano**, que é indicado por **True** ou **False**, indicando, respectivamente, se a resposta é verdadeira ou falsa."
      ]
    },
    {
      "cell_type": "code",
      "metadata": {
        "id": "h13Wb-T0YoL8",
        "colab": {
          "base_uri": "https://localhost:8080/",
          "height": 35
        },
        "outputId": "8d504728-9ffe-44bc-9943-63d7c18df4fa"
      },
      "source": [
        "var1 = 35\n",
        "var2 = 36\n",
        "\n",
        "var1 == var2"
      ],
      "execution_count": null,
      "outputs": [
        {
          "output_type": "execute_result",
          "data": {
            "text/plain": [
              "False"
            ]
          },
          "metadata": {
            "tags": []
          },
          "execution_count": 136
        }
      ]
    },
    {
      "cell_type": "code",
      "metadata": {
        "id": "W_tNf7CldSvp",
        "colab": {
          "base_uri": "https://localhost:8080/",
          "height": 73
        },
        "outputId": "07c6be9d-fc00-4a02-c9c4-12a68097b444"
      },
      "source": [
        "print(type(33.2) == str)\n",
        "print(type(33.2) == int)\n",
        "print(type(33.2) == float)"
      ],
      "execution_count": null,
      "outputs": [
        {
          "output_type": "stream",
          "text": [
            "False\n",
            "False\n",
            "True\n"
          ],
          "name": "stdout"
        }
      ]
    },
    {
      "cell_type": "code",
      "metadata": {
        "id": "8BwQWdHmQCuY",
        "colab": {
          "base_uri": "https://localhost:8080/",
          "height": 36
        },
        "outputId": "119bbfcf-fb20-4d06-802a-ec1dc6e6aba6"
      },
      "source": [
        "True and True\n",
        "True or False\n",
        "not False"
      ],
      "execution_count": null,
      "outputs": [
        {
          "output_type": "execute_result",
          "data": {
            "text/plain": [
              "True"
            ]
          },
          "metadata": {
            "tags": []
          },
          "execution_count": 17
        }
      ]
    },
    {
      "cell_type": "markdown",
      "metadata": {
        "id": "SF6EtbmrZQO3"
      },
      "source": [
        "## **Condicional IF-ELSE** <a name=\"cond\"></a>"
      ]
    },
    {
      "cell_type": "markdown",
      "metadata": {
        "id": "t9WtbCPDAWkW"
      },
      "source": [
        "Veja abaixo como funciona a estrutura geral de condicionais no Python. \n",
        "\n",
        "Temos a versão IF ELSE, e a versão IF ELIF ELSE.\n",
        "\n",
        "Note que é possível utilizar o ELIF várias vezes se necessário.\n",
        "\n",
        "No espaço de condição, o Python espera um objeto booleano. Se for True, ele executa, se for False, segue adiante. \n",
        "\n",
        "Note também a estrutura de identação do Python. Aqui não usamos (), [] ou {} para estipular o que deve ser executado nas condicionais. Simplesmente colocamos o código que deve ser executado na linha seguinte, mas identado. Em geral, se utiliza o espaço de **1 tab**."
      ]
    },
    {
      "cell_type": "code",
      "metadata": {
        "id": "kuqS_I9GdobX"
      },
      "source": [
        "# sintaxe IF-ELSE geral\n",
        "if condição:\n",
        "    executa aqui\n",
        "else:\n",
        "    executa aqui\n",
        "\n",
        "# sintaxe IF-ELIF-ELSE geral\n",
        "if condição:\n",
        "    executa aqui\n",
        "elif outra_condição:\n",
        "    executa aqui\n",
        "else:\n",
        "    executa aqui\n",
        "\n",
        "#não executar essa célula!"
      ],
      "execution_count": null,
      "outputs": []
    },
    {
      "cell_type": "code",
      "metadata": {
        "id": "X7Fw4opvdznZ",
        "colab": {
          "base_uri": "https://localhost:8080/",
          "height": 35
        },
        "outputId": "83a5d3fb-5898-4627-de2c-56f8f85f723d"
      },
      "source": [
        "a, b, c = 1, -2 , 0\n",
        "\n",
        "delta = b**2 - 4*a*c\n",
        "\n",
        "if delta > 0:\n",
        "    x1 = (-b + delta**0.5)/(2*a)\n",
        "    x2 = (-b - delta**0.5)/(2*a)\n",
        "    print('As raízes são {} e {}'.format(x1, x2))\n",
        "elif delta == 0:\n",
        "    x = -b/(2*a)\n",
        "    print('A única raíz é {}'.format(x))\n",
        "else:\n",
        "    print('Não há soluções reais para essa equação')"
      ],
      "execution_count": null,
      "outputs": [
        {
          "output_type": "stream",
          "text": [
            "As raízes são 3.0 e 1.0\n"
          ],
          "name": "stdout"
        }
      ]
    },
    {
      "cell_type": "markdown",
      "metadata": {
        "id": "3K7wNqEIembT"
      },
      "source": [
        "## **Definição de Funções** <a name=\"defi\"></a>"
      ]
    },
    {
      "cell_type": "markdown",
      "metadata": {
        "id": "jEMYVdTLlf5t"
      },
      "source": [
        "Uma função é um recurso para não precisarmos repetir o mesmo código desnecessariamente. Assim como as funções da matemática, sua tarefa é transformar um input, uma entrada, uma coleção de variáveis, em uma saída, um output. \n",
        "\n",
        "No exemplo abaixo, utilizamos como variáveis o tipo de símbolo e o tamanho da linha que queremos fazer. Você entenderá melhor vendo o exemplo:\n",
        "\n",
        "Da mesma maneira que na estrutura de condicionais, o conteúdo de uma função fica nas linhas seguintes sendo indicados pela **indentação** do código"
      ]
    },
    {
      "cell_type": "code",
      "metadata": {
        "id": "VQ-INeRi6tTG"
      },
      "source": [
        "def Mensagem(simbolo = '*', tamanho = 51):\n",
        "    print(simbolo*tamanho)\n",
        "    print('Estamos só começando, o melhor ainda estar por vir!')\n",
        "    print(simbolo*tamanho)"
      ],
      "execution_count": null,
      "outputs": []
    },
    {
      "cell_type": "code",
      "metadata": {
        "id": "YLiKW1mVu3B2",
        "colab": {
          "base_uri": "https://localhost:8080/",
          "height": 72
        },
        "outputId": "a5f2236f-48c0-4e88-d196-c2d8df28772d"
      },
      "source": [
        "Mensagem('-', 51)  "
      ],
      "execution_count": null,
      "outputs": [
        {
          "output_type": "stream",
          "text": [
            "---------------------------------------------------\n",
            "Estamos só começando, o melhor ainda estar por vir!\n",
            "---------------------------------------------------\n"
          ],
          "name": "stdout"
        }
      ]
    },
    {
      "cell_type": "markdown",
      "metadata": {
        "id": "s8XyjoLsmZB3"
      },
      "source": [
        "Voltando no exemplo da fórmula de Bhaskara, fica bem conveniente quando colocamos no formato de função, para analisar as saídas de maneira mais prática. "
      ]
    },
    {
      "cell_type": "code",
      "metadata": {
        "id": "9s_3C-ZrgKPb"
      },
      "source": [
        "def Bhaskara(a, b, c):\n",
        "    # dando uma resposta adequada para quando o valor de a for igual a zero\n",
        "    if a == 0:\n",
        "        print('Quando a = 0 não se aplica Bhaskara')\n",
        "    else:\n",
        "        delta = b**2 - 4*a*c\n",
        "\n",
        "        if delta > 0:\n",
        "            x1 = (-b + delta**0.5)/(2*a)\n",
        "            x2 = (-b - delta**0.5)/(2*a)\n",
        "            print('As raízes são {} e {}'.format(round(x1, 2), round(x2, 2)))\n",
        "        elif delta == 0:\n",
        "            x = -b/(2*a)\n",
        "            print('A única raíz é {}'.format(x))\n",
        "        else:\n",
        "            print('Não há soluções reais para essa equação')"
      ],
      "execution_count": null,
      "outputs": []
    },
    {
      "cell_type": "code",
      "metadata": {
        "id": "zs9zyfICgddJ",
        "colab": {
          "base_uri": "https://localhost:8080/",
          "height": 35
        },
        "outputId": "17e12e19-8632-4ca0-a6ea-e18897d1f8ef"
      },
      "source": [
        "Bhaskara(3, 2, 0.9)"
      ],
      "execution_count": null,
      "outputs": [
        {
          "output_type": "stream",
          "text": [
            "Não há soluções reais para essa equação\n"
          ],
          "name": "stdout"
        }
      ]
    },
    {
      "cell_type": "markdown",
      "metadata": {
        "id": "9vmnCWv9mNwX"
      },
      "source": [
        "## **Importação de Bibliotecas** <a name=\"impo\"></a>"
      ]
    },
    {
      "cell_type": "code",
      "metadata": {
        "id": "JuvRAAl0mTD8",
        "colab": {
          "base_uri": "https://localhost:8080/",
          "height": 35
        },
        "outputId": "c737cdf9-c6c8-4ece-c97b-37564642cd32"
      },
      "source": [
        "from math import pi\n",
        "print(pi)"
      ],
      "execution_count": null,
      "outputs": [
        {
          "output_type": "stream",
          "text": [
            "3.141592653589793\n"
          ],
          "name": "stdout"
        }
      ]
    },
    {
      "cell_type": "code",
      "metadata": {
        "id": "HoE-Zyp5ma7S",
        "colab": {
          "base_uri": "https://localhost:8080/",
          "height": 35
        },
        "outputId": "d274206f-9a38-4e95-96ed-7361ad8ba436"
      },
      "source": [
        "import math\n",
        "print(math.pi)"
      ],
      "execution_count": null,
      "outputs": [
        {
          "output_type": "stream",
          "text": [
            "3.141592653589793\n"
          ],
          "name": "stdout"
        }
      ]
    },
    {
      "cell_type": "code",
      "metadata": {
        "id": "tCtUvjfY6Nbw",
        "colab": {
          "base_uri": "https://localhost:8080/",
          "height": 35
        },
        "outputId": "0522ab9f-37f4-4902-85fd-b6a17bc4976f"
      },
      "source": [
        "import math as m\n",
        "print(m.pi)"
      ],
      "execution_count": null,
      "outputs": [
        {
          "output_type": "stream",
          "text": [
            "3.141592653589793\n"
          ],
          "name": "stdout"
        }
      ]
    },
    {
      "cell_type": "markdown",
      "metadata": {
        "id": "d4qDl7aWXlnN"
      },
      "source": [
        "## **A Biblioteca Numpy** <a name=\"nump\"></a>"
      ]
    },
    {
      "cell_type": "markdown",
      "metadata": {
        "id": "wBb8VajVYDEb"
      },
      "source": [
        "Numpy é a biblioteca mais popular do python para se trabalhar com arrays. \n",
        "\n",
        "Arrays são conjuntos de valores, que podem ser n-dimensionais. \n",
        "\n",
        "Geralmente, um número apenas, um ponto, é um array de dimensão 0\n",
        "\n",
        "Uma lista de valores é um array de dimensão 1. \n",
        "\n",
        "Uma matriz de valores é uma array de dimensão 2. \n",
        "\n",
        "Um tensor de valores é um array de dimensão 3. \n"
      ]
    },
    {
      "cell_type": "code",
      "metadata": {
        "id": "nvdq1LlPZXKH"
      },
      "source": [
        "import numpy as np"
      ],
      "execution_count": null,
      "outputs": []
    },
    {
      "cell_type": "code",
      "metadata": {
        "id": "64NE6_M6ZYxh"
      },
      "source": [
        "a0 = np.array(1)\n",
        "a1 = np.array([1, 2])\n",
        "a2 = np.array([[1, 2], [3, 4]])\n",
        "a3 = np.array([[[1, 2], [3, 4]], [[5, 6], [7, 8]]])"
      ],
      "execution_count": null,
      "outputs": []
    },
    {
      "cell_type": "code",
      "metadata": {
        "id": "0YWoD5e6aVwu",
        "colab": {
          "base_uri": "https://localhost:8080/",
          "height": 258
        },
        "outputId": "93511906-d017-4028-8d90-196e784b2fbd"
      },
      "source": [
        "print('Array a0:\\n', a0)\n",
        "print('Array a1:\\n', a1)\n",
        "print('Array a2:\\n', a2)\n",
        "print('Array a3:\\n', a3)"
      ],
      "execution_count": null,
      "outputs": [
        {
          "output_type": "stream",
          "text": [
            "Array a0:\n",
            " 1\n",
            "Array a1:\n",
            " [1 2]\n",
            "Array a2:\n",
            " [[1 2]\n",
            " [3 4]]\n",
            "Array a3:\n",
            " [[[1 2]\n",
            "  [3 4]]\n",
            "\n",
            " [[5 6]\n",
            "  [7 8]]]\n"
          ],
          "name": "stdout"
        }
      ]
    },
    {
      "cell_type": "markdown",
      "metadata": {
        "id": "zYn8Dx86Zcpw"
      },
      "source": [
        "Use o atributo ndim para verificar a dimensão dos arrays numpy"
      ]
    },
    {
      "cell_type": "code",
      "metadata": {
        "id": "gGQQ1uQBZaLe",
        "colab": {
          "base_uri": "https://localhost:8080/",
          "height": 91
        },
        "outputId": "0231212e-1bed-4d56-be04-bb8a8a89ff44"
      },
      "source": [
        "print('Dimensão de a0:', a0.ndim)\n",
        "print('Dimensão de a1:', a1.ndim)\n",
        "print('Dimensão de a2:', a2.ndim)\n",
        "print('Dimensão de a3:', a3.ndim)"
      ],
      "execution_count": null,
      "outputs": [
        {
          "output_type": "stream",
          "text": [
            "Dimensão de a0: 0\n",
            "Dimensão de a1: 1\n",
            "Dimensão de a2: 2\n",
            "Dimensão de a3: 3\n"
          ],
          "name": "stdout"
        }
      ]
    },
    {
      "cell_type": "markdown",
      "metadata": {
        "id": "kXGd2r3ra0X9"
      },
      "source": [
        "Transforme uma lista em um array"
      ]
    },
    {
      "cell_type": "code",
      "metadata": {
        "id": "497CDTd9awol"
      },
      "source": [
        "lista = [1, 2, 3, 4]\n",
        "array = np.array(lista)"
      ],
      "execution_count": null,
      "outputs": []
    },
    {
      "cell_type": "markdown",
      "metadata": {
        "id": "u6PBFagAa7VP"
      },
      "source": [
        "Arrays são feitos para se trabalhar com álgebra linear. Veja a diferença quando multiplicamos cada elemento por um escalar"
      ]
    },
    {
      "cell_type": "code",
      "metadata": {
        "id": "KbhXL49ibF50",
        "colab": {
          "base_uri": "https://localhost:8080/",
          "height": 54
        },
        "outputId": "d50caf94-d885-4d84-a47a-766c9a4d9d35"
      },
      "source": [
        "print(2*lista)\n",
        "print(2*array)"
      ],
      "execution_count": null,
      "outputs": [
        {
          "output_type": "stream",
          "text": [
            "[1, 2, 3, 4, 1, 2, 3, 4]\n",
            "[2 4 6 8]\n"
          ],
          "name": "stdout"
        }
      ]
    },
    {
      "cell_type": "markdown",
      "metadata": {
        "id": "g7VxSD9DbJYl"
      },
      "source": [
        "Similarmente, podemos realizar as demais operações com arrays"
      ]
    },
    {
      "cell_type": "code",
      "metadata": {
        "id": "DRPNPtIibP3s",
        "colab": {
          "base_uri": "https://localhost:8080/",
          "height": 128
        },
        "outputId": "2fc14ccd-e3f2-4438-d001-b5a86bc77fcd"
      },
      "source": [
        "print(array + array)\n",
        "print(array * 2)\n",
        "print(array / 3)\n",
        "print(array ** 2)\n",
        "print(array // 2)\n",
        "print(array % 2)"
      ],
      "execution_count": null,
      "outputs": [
        {
          "output_type": "stream",
          "text": [
            "[2 4 6 8]\n",
            "[2 4 6 8]\n",
            "[0.33333333 0.66666667 1.         1.33333333]\n",
            "[ 1  4  9 16]\n",
            "[0 1 1 2]\n",
            "[1 0 1 0]\n"
          ],
          "name": "stdout"
        }
      ]
    },
    {
      "cell_type": "markdown",
      "metadata": {
        "id": "H-eQY_VJ9voY"
      },
      "source": [
        "## **Listas** <a name=\"lists\"></a>"
      ]
    },
    {
      "cell_type": "markdown",
      "metadata": {
        "id": "bgBgFBTo-8gx"
      },
      "source": [
        "Um objeto do tipo lista é um dos mais importantes do universo Python. Sua versatilidade permite a construção e organização simples de diversas funcionalidades. **Uma lista é definida por conchetes [ ]**. Vejamos alguns exemplos:"
      ]
    },
    {
      "cell_type": "code",
      "metadata": {
        "id": "oxQQgv2j_TGn"
      },
      "source": [
        "minha_lista = [1, 1, 2, 3, 5, 8, 13]"
      ],
      "execution_count": null,
      "outputs": []
    },
    {
      "cell_type": "code",
      "metadata": {
        "id": "sxt_3Q_h_JuO",
        "colab": {
          "base_uri": "https://localhost:8080/",
          "height": 35
        },
        "outputId": "c89f09ba-e51d-4f3a-9cfc-ed8bb460a313"
      },
      "source": [
        "print(minha_lista)"
      ],
      "execution_count": null,
      "outputs": [
        {
          "output_type": "stream",
          "text": [
            "[1, 1, 2, 3, 5, 8, 13]\n"
          ],
          "name": "stdout"
        }
      ]
    },
    {
      "cell_type": "code",
      "metadata": {
        "id": "twfQLsSOBFUi",
        "colab": {
          "base_uri": "https://localhost:8080/",
          "height": 35
        },
        "outputId": "e50d25e7-ea5e-47e8-e55c-8f5ba83e90ff"
      },
      "source": [
        "len(minha_lista)"
      ],
      "execution_count": null,
      "outputs": [
        {
          "output_type": "execute_result",
          "data": {
            "text/plain": [
              "7"
            ]
          },
          "metadata": {
            "tags": []
          },
          "execution_count": 57
        }
      ]
    },
    {
      "cell_type": "markdown",
      "metadata": {
        "id": "2s66TOcfAhh5"
      },
      "source": [
        "**Importante**: A indexação no Python, assim como em diversas linguagens de programação, começam com índice 0\n",
        "\n",
        "Isso quer dizer que o primeiro elemento está na entrada 0 da lista, o segundo elemento na entrada 1, e assim por diante.\n",
        "\n",
        "Nós acessamos os elementos de uma lista também utilizando **colchetes**"
      ]
    },
    {
      "cell_type": "code",
      "metadata": {
        "id": "IFrs9gJt_hoo",
        "colab": {
          "base_uri": "https://localhost:8080/",
          "height": 35
        },
        "outputId": "58bf7836-e73a-4246-cb5b-a943a10b1164"
      },
      "source": [
        "minha_lista[0]"
      ],
      "execution_count": null,
      "outputs": [
        {
          "output_type": "execute_result",
          "data": {
            "text/plain": [
              "1"
            ]
          },
          "metadata": {
            "tags": []
          },
          "execution_count": 52
        }
      ]
    },
    {
      "cell_type": "code",
      "metadata": {
        "id": "LLz1CsHF_rQx",
        "colab": {
          "base_uri": "https://localhost:8080/",
          "height": 35
        },
        "outputId": "c79c68fc-fd1b-40b9-beba-ff47b276b9f4"
      },
      "source": [
        "minha_lista[len(minha_lista) - 1]"
      ],
      "execution_count": null,
      "outputs": [
        {
          "output_type": "execute_result",
          "data": {
            "text/plain": [
              "13"
            ]
          },
          "metadata": {
            "tags": []
          },
          "execution_count": 55
        }
      ]
    },
    {
      "cell_type": "markdown",
      "metadata": {
        "id": "rCxiEy34_95J"
      },
      "source": [
        "Uma lista permite armazenar todos os tipos de objetos do Python, veja no exemplo abaixo:"
      ]
    },
    {
      "cell_type": "code",
      "metadata": {
        "id": "mPMB_H5-BSHQ",
        "colab": {
          "base_uri": "https://localhost:8080/",
          "height": 35
        },
        "outputId": "f7da50e4-8846-4ab9-a3df-20c73313b983"
      },
      "source": [
        "lista = ['Python', 1996, True, len, [1,2,'Ricardo']]\n",
        "print(lista)"
      ],
      "execution_count": null,
      "outputs": [
        {
          "output_type": "stream",
          "text": [
            "['Python', 1996, True, <built-in function len>, [1, 2, 'Ricardo']]\n"
          ],
          "name": "stdout"
        }
      ]
    },
    {
      "cell_type": "code",
      "metadata": {
        "id": "ub4FXtitBZW4",
        "colab": {
          "base_uri": "https://localhost:8080/",
          "height": 35
        },
        "outputId": "623eb9e9-d81d-4ae2-8ea3-3869cac9aae9"
      },
      "source": [
        "lista[0] + ' é muito massa' "
      ],
      "execution_count": null,
      "outputs": [
        {
          "output_type": "execute_result",
          "data": {
            "text/plain": [
              "'Python é muito massa'"
            ]
          },
          "metadata": {
            "tags": []
          },
          "execution_count": 70
        }
      ]
    },
    {
      "cell_type": "code",
      "metadata": {
        "id": "6vQfJXe_BckY",
        "colab": {
          "base_uri": "https://localhost:8080/",
          "height": 35
        },
        "outputId": "97d9e804-836a-4ba3-e00c-b24b99edbd22"
      },
      "source": [
        "lista[1] + 1337"
      ],
      "execution_count": null,
      "outputs": [
        {
          "output_type": "execute_result",
          "data": {
            "text/plain": [
              "3333"
            ]
          },
          "metadata": {
            "tags": []
          },
          "execution_count": 71
        }
      ]
    },
    {
      "cell_type": "code",
      "metadata": {
        "id": "_p8LnFNoBy_Z",
        "colab": {
          "base_uri": "https://localhost:8080/",
          "height": 35
        },
        "outputId": "c6f681c0-d2c6-4e56-bd37-92e70234d1a9"
      },
      "source": [
        "lista[2] and True"
      ],
      "execution_count": null,
      "outputs": [
        {
          "output_type": "execute_result",
          "data": {
            "text/plain": [
              "True"
            ]
          },
          "metadata": {
            "tags": []
          },
          "execution_count": 72
        }
      ]
    },
    {
      "cell_type": "code",
      "metadata": {
        "id": "xYbglI3QB49K",
        "colab": {
          "base_uri": "https://localhost:8080/",
          "height": 35
        },
        "outputId": "ce4b9179-6cb4-4fbb-f7c2-8c82656c67bb"
      },
      "source": [
        "lista[3](lista)"
      ],
      "execution_count": null,
      "outputs": [
        {
          "output_type": "execute_result",
          "data": {
            "text/plain": [
              "4"
            ]
          },
          "metadata": {
            "tags": []
          },
          "execution_count": 73
        }
      ]
    },
    {
      "cell_type": "markdown",
      "metadata": {
        "id": "iYaycgzoB8RQ"
      },
      "source": [
        "Podemos acessar caracteres de listas através de colchetes também. No python, strings são como listas de caracteres:"
      ]
    },
    {
      "cell_type": "code",
      "metadata": {
        "id": "Tc7JYUWuCHbo",
        "colab": {
          "base_uri": "https://localhost:8080/",
          "height": 35
        },
        "outputId": "79f88f58-8338-4873-cbed-99209f1e585d"
      },
      "source": [
        "'Python'[0]"
      ],
      "execution_count": null,
      "outputs": [
        {
          "output_type": "execute_result",
          "data": {
            "text/plain": [
              "'P'"
            ]
          },
          "metadata": {
            "tags": []
          },
          "execution_count": 74
        }
      ]
    },
    {
      "cell_type": "code",
      "metadata": {
        "id": "_P_pkjYZCHfG",
        "colab": {
          "base_uri": "https://localhost:8080/",
          "height": 35
        },
        "outputId": "b57638e3-2f40-48a1-dd87-a16579e31ca9"
      },
      "source": [
        "py = 'Python'\n",
        "py[0] + py[5]"
      ],
      "execution_count": null,
      "outputs": [
        {
          "output_type": "execute_result",
          "data": {
            "text/plain": [
              "'Pn'"
            ]
          },
          "metadata": {
            "tags": []
          },
          "execution_count": 77
        }
      ]
    },
    {
      "cell_type": "markdown",
      "metadata": {
        "id": "DK3LkMgqCOrR"
      },
      "source": [
        "E podemos acessar listas dentro de listas"
      ]
    },
    {
      "cell_type": "code",
      "metadata": {
        "id": "Ce3loc-iCwp_",
        "colab": {
          "base_uri": "https://localhost:8080/",
          "height": 35
        },
        "outputId": "6dd17226-c3c2-4962-ca3f-f2f83ccddd29"
      },
      "source": [
        "lista[4]"
      ],
      "execution_count": null,
      "outputs": [
        {
          "output_type": "execute_result",
          "data": {
            "text/plain": [
              "[1, 2, 3]"
            ]
          },
          "metadata": {
            "tags": []
          },
          "execution_count": 86
        }
      ]
    },
    {
      "cell_type": "code",
      "metadata": {
        "id": "01UJ8UcBC2bB",
        "colab": {
          "base_uri": "https://localhost:8080/",
          "height": 35
        },
        "outputId": "71193235-ba48-450d-bc07-a51a3377455d"
      },
      "source": [
        "lista[4][2]"
      ],
      "execution_count": null,
      "outputs": [
        {
          "output_type": "execute_result",
          "data": {
            "text/plain": [
              "'Ricardo'"
            ]
          },
          "metadata": {
            "tags": []
          },
          "execution_count": 93
        }
      ]
    },
    {
      "cell_type": "code",
      "metadata": {
        "id": "aFacnDGgDApB",
        "colab": {
          "base_uri": "https://localhost:8080/",
          "height": 35
        },
        "outputId": "9c56f0a4-22d6-4cd9-959e-f43961306413"
      },
      "source": [
        "lista[4][2][0]"
      ],
      "execution_count": null,
      "outputs": [
        {
          "output_type": "execute_result",
          "data": {
            "text/plain": [
              "'R'"
            ]
          },
          "metadata": {
            "tags": []
          },
          "execution_count": 94
        }
      ]
    },
    {
      "cell_type": "code",
      "metadata": {
        "id": "L8PlzPF1Cx-w",
        "colab": {
          "base_uri": "https://localhost:8080/",
          "height": 35
        },
        "outputId": "96036126-5eee-48aa-99fb-07cad14b0d69"
      },
      "source": [
        "lista[0]"
      ],
      "execution_count": null,
      "outputs": [
        {
          "output_type": "execute_result",
          "data": {
            "text/plain": [
              "'Python'"
            ]
          },
          "metadata": {
            "tags": []
          },
          "execution_count": 88
        }
      ]
    },
    {
      "cell_type": "code",
      "metadata": {
        "id": "7jAN0-DFC42g",
        "colab": {
          "base_uri": "https://localhost:8080/",
          "height": 35
        },
        "outputId": "c992f6df-4438-4cb2-b046-0ca0276ed930"
      },
      "source": [
        "lista[0][0]"
      ],
      "execution_count": null,
      "outputs": [
        {
          "output_type": "execute_result",
          "data": {
            "text/plain": [
              "'P'"
            ]
          },
          "metadata": {
            "tags": []
          },
          "execution_count": 89
        }
      ]
    },
    {
      "cell_type": "markdown",
      "metadata": {
        "id": "zMa7ivrxC7EL"
      },
      "source": [
        "Alguns comandos úteis para acessar elementos em listas:"
      ]
    },
    {
      "cell_type": "code",
      "metadata": {
        "id": "y7EWm9MaDd7R"
      },
      "source": [
        "frase = 'Python é excelente para análise de dados'"
      ],
      "execution_count": null,
      "outputs": []
    },
    {
      "cell_type": "code",
      "metadata": {
        "id": "0GFA9PY1Dloy",
        "colab": {
          "base_uri": "https://localhost:8080/",
          "height": 35
        },
        "outputId": "e4ec071c-d743-4b13-e47c-0587dfd8acf8"
      },
      "source": [
        "frase[:6]  #retorna todos os elementos até o indice 6 da lista (o indice 6 (sétimo elemento) não está incluido)"
      ],
      "execution_count": null,
      "outputs": [
        {
          "output_type": "execute_result",
          "data": {
            "text/plain": [
              "'Python'"
            ]
          },
          "metadata": {
            "tags": []
          },
          "execution_count": 100
        }
      ]
    },
    {
      "cell_type": "code",
      "metadata": {
        "id": "D5aR7aeGD1gT",
        "colab": {
          "base_uri": "https://localhost:8080/",
          "height": 35
        },
        "outputId": "cd62322d-8733-4cfd-aa28-78a6fb41ccf1"
      },
      "source": [
        "frase[6:]  #retorna todos os elementos após o indice 6 da lista"
      ],
      "execution_count": null,
      "outputs": [
        {
          "output_type": "execute_result",
          "data": {
            "text/plain": [
              "' é excelente para análise de dados'"
            ]
          },
          "metadata": {
            "tags": []
          },
          "execution_count": 101
        }
      ]
    },
    {
      "cell_type": "markdown",
      "metadata": {
        "id": "cpzQ0wxyESUY"
      },
      "source": [
        "No Python, o padrão é trabalhar com **intervalos semi-abertos [ , )**, como no exemplo abaixo. O índice 9 está incluso na seleção, mas não o 18. "
      ]
    },
    {
      "cell_type": "code",
      "metadata": {
        "id": "8g1SouLeD5hJ",
        "colab": {
          "base_uri": "https://localhost:8080/",
          "height": 35
        },
        "outputId": "b54e34ec-95da-4bb5-f53a-183614f26f45"
      },
      "source": [
        "frase[9:18] # retorna o elemento de indice 9 até o 18, mas não inclui o 18"
      ],
      "execution_count": null,
      "outputs": [
        {
          "output_type": "execute_result",
          "data": {
            "text/plain": [
              "'excelente'"
            ]
          },
          "metadata": {
            "tags": []
          },
          "execution_count": 105
        }
      ]
    },
    {
      "cell_type": "markdown",
      "metadata": {
        "id": "-PPDP_x3Elvp"
      },
      "source": [
        "Para inverter a ordem de uma lista, utilize"
      ]
    },
    {
      "cell_type": "code",
      "metadata": {
        "id": "R6Q_Pg2iEl1B",
        "colab": {
          "base_uri": "https://localhost:8080/",
          "height": 35
        },
        "outputId": "1b534e11-ab52-4d4d-f564-3febd93ba90e"
      },
      "source": [
        "frase[::-1]"
      ],
      "execution_count": null,
      "outputs": [
        {
          "output_type": "execute_result",
          "data": {
            "text/plain": [
              "'sodad ed esilána arap etnelecxe é nohtyP'"
            ]
          },
          "metadata": {
            "tags": []
          },
          "execution_count": 110
        }
      ]
    },
    {
      "cell_type": "markdown",
      "metadata": {
        "id": "BRWDbZLXFBy4"
      },
      "source": [
        "Para tomar elementos de 2 em 2, utilize"
      ]
    },
    {
      "cell_type": "code",
      "metadata": {
        "id": "a4VPNkkEFHSY",
        "colab": {
          "base_uri": "https://localhost:8080/",
          "height": 35
        },
        "outputId": "2658caa8-a85b-4940-d364-4cb6800e6e30"
      },
      "source": [
        "frase[::2]"
      ],
      "execution_count": null,
      "outputs": [
        {
          "output_type": "execute_result",
          "data": {
            "text/plain": [
              "'Pto  xeet aaaáied ao'"
            ]
          },
          "metadata": {
            "tags": []
          },
          "execution_count": 111
        }
      ]
    },
    {
      "cell_type": "markdown",
      "metadata": {
        "id": "zgfaeacMElyi"
      },
      "source": [
        "Combine os comandos da maneira que lhe for conveniente"
      ]
    },
    {
      "cell_type": "code",
      "metadata": {
        "id": "yXNjLt4AEiyo",
        "colab": {
          "base_uri": "https://localhost:8080/",
          "height": 35
        },
        "outputId": "be78d32b-f44f-4811-d27b-72a0872fe5e9"
      },
      "source": [
        "frase[::-1][::3]"
      ],
      "execution_count": null,
      "outputs": [
        {
          "output_type": "execute_result",
          "data": {
            "text/plain": [
              "'saeelar nee hP'"
            ]
          },
          "metadata": {
            "tags": []
          },
          "execution_count": 113
        }
      ]
    },
    {
      "cell_type": "markdown",
      "metadata": {
        "id": "gR0E1z2WEZtJ"
      },
      "source": [
        "## **Métodos de Listas** <a name=\"metl\"></a>"
      ]
    },
    {
      "cell_type": "markdown",
      "metadata": {
        "id": "OAxHMtUlFoXw"
      },
      "source": [
        "**Métodos são como funções que são aplicáveis a um certo tipo de objetos.** Nesse caso, veremos os métodos para os objetos do tipo lista. Métodos são inerentes ao Python pelo contexto de programação orientada a objetos, que veremos com mais detalhes adiante nesse curso"
      ]
    },
    {
      "cell_type": "code",
      "metadata": {
        "id": "u8c0s9IBFjxI"
      },
      "source": [
        "lista = ['A', 'B']"
      ],
      "execution_count": null,
      "outputs": []
    },
    {
      "cell_type": "code",
      "metadata": {
        "id": "bc-jGonLEZx0",
        "colab": {
          "base_uri": "https://localhost:8080/",
          "height": 35
        },
        "outputId": "4a2743c8-68de-4d30-eb41-43499b291c8d"
      },
      "source": [
        "lista.append('C')\n",
        "lista\n",
        " "
      ],
      "execution_count": null,
      "outputs": [
        {
          "output_type": "execute_result",
          "data": {
            "text/plain": [
              "['A', 'B', 'C']"
            ]
          },
          "metadata": {
            "tags": []
          },
          "execution_count": 145
        }
      ]
    },
    {
      "cell_type": "code",
      "metadata": {
        "id": "1oq_OgH8EDKg",
        "colab": {
          "base_uri": "https://localhost:8080/",
          "height": 35
        },
        "outputId": "3dbb5313-90a2-4317-f971-4e90e2c87169"
      },
      "source": [
        "lista.pop()"
      ],
      "execution_count": null,
      "outputs": [
        {
          "output_type": "execute_result",
          "data": {
            "text/plain": [
              "'C'"
            ]
          },
          "metadata": {
            "tags": []
          },
          "execution_count": 146
        }
      ]
    },
    {
      "cell_type": "code",
      "metadata": {
        "id": "rUYPbsndag0z",
        "colab": {
          "base_uri": "https://localhost:8080/",
          "height": 35
        },
        "outputId": "7f467a9d-dc25-4b90-916b-8b1794ac3846"
      },
      "source": [
        "lista.count('B')"
      ],
      "execution_count": null,
      "outputs": [
        {
          "output_type": "execute_result",
          "data": {
            "text/plain": [
              "1"
            ]
          },
          "metadata": {
            "tags": []
          },
          "execution_count": 150
        }
      ]
    },
    {
      "cell_type": "code",
      "metadata": {
        "id": "QtWTZze6aoQK",
        "colab": {
          "base_uri": "https://localhost:8080/",
          "height": 35
        },
        "outputId": "2c59e9a4-5afb-4f73-8f57-4518333cbbaa"
      },
      "source": [
        "lista.index('B')"
      ],
      "execution_count": null,
      "outputs": [
        {
          "output_type": "execute_result",
          "data": {
            "text/plain": [
              "1"
            ]
          },
          "metadata": {
            "tags": []
          },
          "execution_count": 151
        }
      ]
    },
    {
      "cell_type": "markdown",
      "metadata": {
        "id": "IvzSIyD-vQ0t"
      },
      "source": [
        "## **Métodos de Strings** <a name=\"mets\"></a>\n"
      ]
    },
    {
      "cell_type": "code",
      "metadata": {
        "id": "mZs_bHKnvqme"
      },
      "source": [
        "nome = 'Ricardo Rocha'"
      ],
      "execution_count": null,
      "outputs": []
    },
    {
      "cell_type": "code",
      "metadata": {
        "id": "2WnusPh8bHAQ",
        "colab": {
          "base_uri": "https://localhost:8080/",
          "height": 35
        },
        "outputId": "05e2dcc0-0a82-4b2b-f0b9-171a39d62259"
      },
      "source": [
        "nome.lower()"
      ],
      "execution_count": null,
      "outputs": [
        {
          "output_type": "execute_result",
          "data": {
            "text/plain": [
              "'ricardo rocha'"
            ]
          },
          "metadata": {
            "tags": []
          },
          "execution_count": 156
        }
      ]
    },
    {
      "cell_type": "code",
      "metadata": {
        "id": "clmmVdIrbY8I",
        "colab": {
          "base_uri": "https://localhost:8080/",
          "height": 35
        },
        "outputId": "88477507-ac0e-4a27-cafc-0679d72041ab"
      },
      "source": [
        "nome.upper()"
      ],
      "execution_count": null,
      "outputs": [
        {
          "output_type": "execute_result",
          "data": {
            "text/plain": [
              "'RICARDO ROCHA'"
            ]
          },
          "metadata": {
            "tags": []
          },
          "execution_count": 157
        }
      ]
    },
    {
      "cell_type": "code",
      "metadata": {
        "id": "NOL14vrtba4Y",
        "colab": {
          "base_uri": "https://localhost:8080/",
          "height": 35
        },
        "outputId": "415afb0f-7fe1-4869-f481-24b0bff112fc"
      },
      "source": [
        "nome.capitalize()"
      ],
      "execution_count": null,
      "outputs": [
        {
          "output_type": "execute_result",
          "data": {
            "text/plain": [
              "'Ricardo rocha'"
            ]
          },
          "metadata": {
            "tags": []
          },
          "execution_count": 158
        }
      ]
    },
    {
      "cell_type": "code",
      "metadata": {
        "id": "_oBa94mobetG",
        "colab": {
          "base_uri": "https://localhost:8080/",
          "height": 35
        },
        "outputId": "ec4a764b-f489-4030-b4ba-ffefe886cea0"
      },
      "source": [
        "nome.split(' ')"
      ],
      "execution_count": null,
      "outputs": [
        {
          "output_type": "execute_result",
          "data": {
            "text/plain": [
              "['Ricardo', 'Rocha']"
            ]
          },
          "metadata": {
            "tags": []
          },
          "execution_count": 159
        }
      ]
    },
    {
      "cell_type": "markdown",
      "metadata": {
        "id": "Rgc2tLUFwYCs"
      },
      "source": [
        "## **Funções Importantes** <a name=\"func\"></a>"
      ]
    },
    {
      "cell_type": "markdown",
      "metadata": {
        "id": "Usm30s_ZUPHX"
      },
      "source": [
        "O comando **input** serve para se comunicar com o usuário enquanto se executa um programa. Veja o exemplo abaixo"
      ]
    },
    {
      "cell_type": "code",
      "metadata": {
        "id": "xiBIg2DvUWCN",
        "colab": {
          "base_uri": "https://localhost:8080/",
          "height": 35
        },
        "outputId": "141f15fe-481b-4f69-bc1f-853dc318ceb4"
      },
      "source": [
        "x = input('Digite o seu nome: ')"
      ],
      "execution_count": null,
      "outputs": [
        {
          "output_type": "stream",
          "text": [
            "Digite o seu nome: Ricardo\n"
          ],
          "name": "stdout"
        }
      ]
    },
    {
      "cell_type": "code",
      "metadata": {
        "id": "Y8Hlz87UUb1n",
        "colab": {
          "base_uri": "https://localhost:8080/",
          "height": 35
        },
        "outputId": "279a1055-7066-43ad-a474-9b1b7d84a45a"
      },
      "source": [
        "print(x)"
      ],
      "execution_count": null,
      "outputs": [
        {
          "output_type": "stream",
          "text": [
            "Ricardo\n"
          ],
          "name": "stdout"
        }
      ]
    },
    {
      "cell_type": "code",
      "metadata": {
        "id": "vW4v9HdiUe6B",
        "colab": {
          "base_uri": "https://localhost:8080/",
          "height": 72
        },
        "outputId": "08843126-1de2-4d5c-fd95-407c486129c1"
      },
      "source": [
        "y = input('Digite a sua idade: ')\n",
        "print('\\nA idade declarada foi {}'.format(y))"
      ],
      "execution_count": null,
      "outputs": [
        {
          "output_type": "stream",
          "text": [
            "Digite a sua idade: 33\n",
            "\n",
            "A idade declarada foi 33\n"
          ],
          "name": "stdout"
        }
      ]
    },
    {
      "cell_type": "markdown",
      "metadata": {
        "id": "hIAv3lqpU1CE"
      },
      "source": [
        "Mas note que os inputs são sempre no format string. Se quisermos usá-lo numericamente, temos que converter as entradas adequadamanente. Em geral usamos a função **int** para inteiros ou **float** para números reais. Você pode usar a função float para números que são inteiros também."
      ]
    },
    {
      "cell_type": "code",
      "metadata": {
        "id": "0ZU8B0hwVQoK",
        "colab": {
          "base_uri": "https://localhost:8080/",
          "height": 72
        },
        "outputId": "483b7552-e9ee-47ad-fe82-e3a8df31f26c"
      },
      "source": [
        "y = int(input('Digite a sua idade '))\n",
        "\n",
        "print('\\nSe você já fez aniversário esse ano, seu ano de nascimento foi {}.'.format(2020 - y))"
      ],
      "execution_count": null,
      "outputs": [
        {
          "output_type": "stream",
          "text": [
            "Digite a sua idade 33\n",
            "\n",
            "Se você já fez aniversário esse ano, seu ano de nascimento foi 1987.\n"
          ],
          "name": "stdout"
        }
      ]
    },
    {
      "cell_type": "markdown",
      "metadata": {
        "id": "KJ82dttbW44T"
      },
      "source": [
        "\n",
        "\n",
        "---\n",
        "\n"
      ]
    },
    {
      "cell_type": "markdown",
      "metadata": {
        "id": "5ZBxaKUswYSg"
      },
      "source": [
        "A função **range** cria um objeto capaz de gerar listas de valores entre dois números. Ela não gera a lista em si, mas um gerador de lista pra quando ela for utilizada. **Ela trabalha com intervalos semi-abertos do tipo [ , )**. Veja os exemplos."
      ]
    },
    {
      "cell_type": "code",
      "metadata": {
        "id": "f4N5FABWW-6P",
        "colab": {
          "base_uri": "https://localhost:8080/",
          "height": 35
        },
        "outputId": "5432e8ed-36f1-48bb-fbc4-23bacd63b59f"
      },
      "source": [
        "range(4)"
      ],
      "execution_count": null,
      "outputs": [
        {
          "output_type": "execute_result",
          "data": {
            "text/plain": [
              "range(0, 4)"
            ]
          },
          "metadata": {
            "tags": []
          },
          "execution_count": 17
        }
      ]
    },
    {
      "cell_type": "markdown",
      "metadata": {
        "id": "umj3TALlXBJG"
      },
      "source": [
        "Para listar os valores da função range, utilize o comando **list**"
      ]
    },
    {
      "cell_type": "code",
      "metadata": {
        "id": "FzLHaZmOXLIm",
        "colab": {
          "base_uri": "https://localhost:8080/",
          "height": 35
        },
        "outputId": "4933f225-dfab-48ed-e2ff-2c7dbb8ba6dd"
      },
      "source": [
        "list(range(4))"
      ],
      "execution_count": null,
      "outputs": [
        {
          "output_type": "execute_result",
          "data": {
            "text/plain": [
              "[0, 1, 2, 3]"
            ]
          },
          "metadata": {
            "tags": []
          },
          "execution_count": 18
        }
      ]
    },
    {
      "cell_type": "markdown",
      "metadata": {
        "id": "SK-6cuaIXJbU"
      },
      "source": [
        "Use-a com dois parâmetros para definir o começo e o fim da lista. Note que o primeiro valor é incluido, mas o último não, pois o intervalo dela é semi-aberto"
      ]
    },
    {
      "cell_type": "code",
      "metadata": {
        "id": "fbgK2M_CXZSp",
        "colab": {
          "base_uri": "https://localhost:8080/",
          "height": 35
        },
        "outputId": "d08b8e19-0de4-4de4-e580-fbf441da1ff6"
      },
      "source": [
        "list(range(3, 10))"
      ],
      "execution_count": null,
      "outputs": [
        {
          "output_type": "execute_result",
          "data": {
            "text/plain": [
              "[3, 4, 5, 6, 7, 8, 9]"
            ]
          },
          "metadata": {
            "tags": []
          },
          "execution_count": 20
        }
      ]
    },
    {
      "cell_type": "markdown",
      "metadata": {
        "id": "R5VMnOFlXfBB"
      },
      "source": [
        "Você ainda pode usar um terceiro parâmetro, que é o passo da lista. Ele deve ser inteiro e representa o salto de um número para o outro."
      ]
    },
    {
      "cell_type": "code",
      "metadata": {
        "id": "YXI4nmWTXnYP",
        "colab": {
          "base_uri": "https://localhost:8080/",
          "height": 35
        },
        "outputId": "68a0934a-6bd0-44c4-ed23-e8964ff64cc5"
      },
      "source": [
        "list(range(2, 21, 2))"
      ],
      "execution_count": null,
      "outputs": [
        {
          "output_type": "execute_result",
          "data": {
            "text/plain": [
              "[2, 4, 6, 8, 10, 12, 14, 16, 18, 20]"
            ]
          },
          "metadata": {
            "tags": []
          },
          "execution_count": 23
        }
      ]
    },
    {
      "cell_type": "code",
      "metadata": {
        "id": "vmqGMlkRX5fA",
        "colab": {
          "base_uri": "https://localhost:8080/",
          "height": 35
        },
        "outputId": "0e3ac1c1-198e-4169-829b-bd6ea4d03d68"
      },
      "source": [
        "list(range(10, 101, 10))"
      ],
      "execution_count": null,
      "outputs": [
        {
          "output_type": "execute_result",
          "data": {
            "text/plain": [
              "[10, 20, 30, 40, 50, 60, 70, 80, 90, 100]"
            ]
          },
          "metadata": {
            "tags": []
          },
          "execution_count": 24
        }
      ]
    },
    {
      "cell_type": "markdown",
      "metadata": {
        "id": "kgAeaNFnaz6Z"
      },
      "source": [
        "A função **list** também pode ser utilizada para quebrar uma string em caracteres dentro de uma lista, veja:"
      ]
    },
    {
      "cell_type": "code",
      "metadata": {
        "id": "EsH_I9yya7vQ",
        "colab": {
          "base_uri": "https://localhost:8080/",
          "height": 35
        },
        "outputId": "5921f70b-b120-419f-9d5e-30c97edd56a9"
      },
      "source": [
        "list('Python')"
      ],
      "execution_count": null,
      "outputs": [
        {
          "output_type": "execute_result",
          "data": {
            "text/plain": [
              "['P', 'y', 't', 'h', 'o', 'n']"
            ]
          },
          "metadata": {
            "tags": []
          },
          "execution_count": 37
        }
      ]
    },
    {
      "cell_type": "markdown",
      "metadata": {
        "id": "810gugS8vlH-"
      },
      "source": [
        "## **Iteradores FOR e WHILE** <a name=\"iter\"></a>"
      ]
    },
    {
      "cell_type": "markdown",
      "metadata": {
        "id": "nuwTyZqyvrFX"
      },
      "source": [
        "Utilizamos a estrutura de repetição FOR sempre que desejamos repetir um certo pedaço de código, com alterações ou não, por um número pre-determinado de vezes.\n",
        "\n",
        "Veja os exemplos"
      ]
    },
    {
      "cell_type": "code",
      "metadata": {
        "id": "N9ZLbdPTeYa4"
      },
      "source": [
        "for variante in lista_de_variações:\n",
        "    codigo a ser repetido\n",
        "\n",
        "#esquema geral do FOR, não executar esse bloco"
      ],
      "execution_count": null,
      "outputs": []
    },
    {
      "cell_type": "code",
      "metadata": {
        "id": "oMlptGxbel3R",
        "colab": {
          "base_uri": "https://localhost:8080/",
          "height": 72
        },
        "outputId": "fa8bb0df-d383-43a0-ceb6-4cd73068755b"
      },
      "source": [
        "for i in ['banana', 'mamão', 'abacate']:\n",
        "    print('Eu gosto de {}'.format(i))"
      ],
      "execution_count": null,
      "outputs": [
        {
          "output_type": "stream",
          "text": [
            "Eu gosto de banana\n",
            "Eu gosto de mamão\n",
            "Eu gosto de abacate\n"
          ],
          "name": "stdout"
        }
      ]
    },
    {
      "cell_type": "code",
      "metadata": {
        "id": "S9ZcdJy1vrRH",
        "colab": {
          "base_uri": "https://localhost:8080/",
          "height": 199
        },
        "outputId": "faa31159-c022-4e97-d914-e2784c1fb836"
      },
      "source": [
        "for i in range(10):\n",
        "    print(i*'*')"
      ],
      "execution_count": null,
      "outputs": [
        {
          "output_type": "stream",
          "text": [
            "\n",
            "*\n",
            "**\n",
            "***\n",
            "****\n",
            "*****\n",
            "******\n",
            "*******\n",
            "********\n",
            "*********\n"
          ],
          "name": "stdout"
        }
      ]
    },
    {
      "cell_type": "markdown",
      "metadata": {
        "id": "-mhqfzfGfnbS"
      },
      "source": [
        "Problema: Se eu tomar dois números inteiros no intervalo [1, 10], qual a probabilidade aproximada da soma dos números ser maior que 10?"
      ]
    },
    {
      "cell_type": "code",
      "metadata": {
        "id": "H98ra85ke7bY",
        "colab": {
          "base_uri": "https://localhost:8080/",
          "height": 35
        },
        "outputId": "e70df48b-34c7-4ef9-f6ca-53082c9b7bd0"
      },
      "source": [
        "from random import randint\n",
        "lista = []\n",
        "replicas = 10000\n",
        "\n",
        "for i in range(replicas):\n",
        "    if randint(1,10) + randint (1,10) > 10:\n",
        "        lista.append(True)\n",
        "    else:\n",
        "        lista.append(False)\n",
        "\n",
        "prob = sum(lista)/replicas\n",
        "\n",
        "print('A probabilidade aproximada é {}%'.format(100*prob))"
      ],
      "execution_count": null,
      "outputs": [
        {
          "output_type": "stream",
          "text": [
            "A probabilidade aproximada é 54.52%\n"
          ],
          "name": "stdout"
        }
      ]
    },
    {
      "cell_type": "markdown",
      "metadata": {
        "id": "e63f82migunw"
      },
      "source": [
        "\n",
        "\n",
        "---\n",
        "\n"
      ]
    },
    {
      "cell_type": "markdown",
      "metadata": {
        "id": "aCsKAKnogvoL"
      },
      "source": [
        "O iterador WHILE usamos quando queremos repetir código sem saber de antemão quando este deve ser interrompido. Ele será finalizado quando alguma condição for satisfeita. \n",
        "\n",
        "Por isso, tome cuidado em não escrever um WHILE infinito. Você terá que cancelar a execução do código para pará-lo.\n",
        "\n",
        "Veja a estrutura geral"
      ]
    },
    {
      "cell_type": "code",
      "metadata": {
        "id": "XZq7UqmPhBQ_"
      },
      "source": [
        "while condicao_verdadeira:\n",
        "    codigo repetido\n",
        "    if condicao:\n",
        "        break\n",
        "        \n",
        "#esquema geral do FOR, não executar esse bloco"
      ],
      "execution_count": null,
      "outputs": []
    },
    {
      "cell_type": "code",
      "metadata": {
        "id": "PlNNJ5xAhgBG",
        "colab": {
          "base_uri": "https://localhost:8080/",
          "height": 217
        },
        "outputId": "ccb58d55-288a-4533-d169-977770dd1a28"
      },
      "source": [
        "i = 1\n",
        "while i <= 10:\n",
        "    print(i * '*') \n",
        "    i += 1"
      ],
      "execution_count": null,
      "outputs": [
        {
          "output_type": "stream",
          "text": [
            "*\n",
            "**\n",
            "***\n",
            "****\n",
            "*****\n",
            "******\n",
            "*******\n",
            "********\n",
            "*********\n",
            "**********\n",
            "*\n"
          ],
          "name": "stdout"
        }
      ]
    },
    {
      "cell_type": "markdown",
      "metadata": {
        "id": "FZwNhK1bidv-"
      },
      "source": [
        "Código equivalente utilizando o comando break para interromper o loop"
      ]
    },
    {
      "cell_type": "code",
      "metadata": {
        "id": "n5sqpDODiNIB",
        "colab": {
          "base_uri": "https://localhost:8080/",
          "height": 181
        },
        "outputId": "c63468b9-6742-40cc-a844-ea7071949fc2"
      },
      "source": [
        "i = 1\n",
        "while True:\n",
        "    print(i * '*') \n",
        "    i += 1\n",
        "    if i == 10:\n",
        "        break\n"
      ],
      "execution_count": null,
      "outputs": [
        {
          "output_type": "stream",
          "text": [
            "*\n",
            "**\n",
            "***\n",
            "****\n",
            "*****\n",
            "******\n",
            "*******\n",
            "********\n",
            "*********\n"
          ],
          "name": "stdout"
        }
      ]
    },
    {
      "cell_type": "markdown",
      "metadata": {
        "id": "y_vENC2cim9V"
      },
      "source": [
        "Exemplo de um **while** infinito"
      ]
    },
    {
      "cell_type": "code",
      "metadata": {
        "id": "8OSTl1SQiqso"
      },
      "source": [
        "while True:\n",
        "    print('Python é legal demais!')"
      ],
      "execution_count": null,
      "outputs": []
    },
    {
      "cell_type": "markdown",
      "metadata": {
        "id": "ZAOdZjiQiyJ8"
      },
      "source": [
        "O **while** também aceita o comando **else** no após o seu fim. Algo para executar após o break acontecer"
      ]
    },
    {
      "cell_type": "code",
      "metadata": {
        "id": "B9vxNRKOi9zH",
        "colab": {
          "base_uri": "https://localhost:8080/",
          "height": 217
        },
        "outputId": "b515dc9e-8416-4b66-fec4-d946b464e8f2"
      },
      "source": [
        "i = 1\n",
        "while i <= 10:\n",
        "    print(i * '*') \n",
        "    i += 1\n",
        "else:\n",
        "    print('*')"
      ],
      "execution_count": null,
      "outputs": [
        {
          "output_type": "stream",
          "text": [
            "*\n",
            "**\n",
            "***\n",
            "****\n",
            "*****\n",
            "******\n",
            "*******\n",
            "********\n",
            "*********\n",
            "**********\n",
            "*\n"
          ],
          "name": "stdout"
        }
      ]
    },
    {
      "cell_type": "markdown",
      "metadata": {
        "id": "PufIjCGaXmAU"
      },
      "source": [
        "## ***Projeto: simulação de um álbum de figurinhas*** <a name=\"proj\"></a>"
      ]
    },
    {
      "cell_type": "markdown",
      "metadata": {
        "id": "iTybxsEjYEko"
      },
      "source": [
        "### EXEMPLO: **Álbum Premier League 2019-2020**\n",
        "1. Total de cromos: **636**\n",
        "2. Preço do livro ilustrado capa brochura: **R\\$ 8,90**\n",
        "3. Envelope com 5 cromos: **R\\$ 2,50**\n",
        "\n",
        "### SUPOSIÇÕES\n",
        "1. Todas as figurinhas tem igual probabilidade de serem sorteradas\n",
        "2. Um pacotinho é comprado por vez  \n",
        "\n",
        "### ALGORITMO\n",
        "1. Comprar um pacotinho de figurinhas (5 figurinhas cada, que podem ser repetidas);\n",
        "2. Colar no álbum e verificar se o álbum está completo;\n",
        "3. Caso esteja incompleto, comprar mais um pacotinho, caso contrário, terminar.\n",
        "\n",
        "### PERGUNTAS\n",
        "1. Qual o valor médio investido para completar o álbum nessas condições?\n",
        "2. Quantos pacotes são necessários comprar, em média, para completar o álbum?\n",
        "3. Qual é a distribuição empírica do valor investido para completar o álbum?"
      ]
    },
    {
      "cell_type": "code",
      "metadata": {
        "id": "h2l9BcKaV_eX"
      },
      "source": [
        "n_album = 636\n",
        "preco_pacote = 2.50\n",
        "preco_album = 8.90\n",
        "simulacoes = 1000"
      ],
      "execution_count": null,
      "outputs": []
    },
    {
      "cell_type": "code",
      "metadata": {
        "id": "xB0munEeV_n_"
      },
      "source": [
        "import numpy as np\n",
        "\n",
        "# representação do álbum\n",
        "album = np.zeros(n_album) \n",
        "\n",
        "# representação do pacote de figurinhas\n",
        "pacotinho = np.random.choice(range(n_album), 5)\n",
        "pacotinho\n",
        "\n",
        "# 'colando' as figurinhas obtidas no álbum\n",
        "for i in pacotinho:\n",
        "    album[i] += 1"
      ],
      "execution_count": null,
      "outputs": []
    },
    {
      "cell_type": "code",
      "metadata": {
        "id": "Jvyn7lBTYEtO",
        "colab": {
          "base_uri": "https://localhost:8080/",
          "height": 36
        },
        "outputId": "eb687ecd-c44c-4653-f0cf-4ea17ca4e9b1"
      },
      "source": [
        "# comprando figurinhas até completar o álbum\n",
        "def SimulaAlbum():\n",
        "    album = np.zeros(n_album) \n",
        "    pacotes = 0\n",
        "    while not np.all(album > 0):\n",
        "        pacotinho = np.random.choice(range(n_album), 5)\n",
        "        pacotes += 1\n",
        "\n",
        "        for i in pacotinho:\n",
        "            album[i] += 1\n",
        " \n",
        "\n",
        "    valor_gasto = preco_album + preco_pacote * pacotes \n",
        "\n",
        "    return valor_gasto, pacotes\n",
        "\n",
        "SimulaAlbum()"
      ],
      "execution_count": null,
      "outputs": [
        {
          "output_type": "execute_result",
          "data": {
            "text/plain": [
              "(2703.9, 1078)"
            ]
          },
          "metadata": {
            "tags": []
          },
          "execution_count": 10
        }
      ]
    },
    {
      "cell_type": "code",
      "metadata": {
        "id": "q1khZHjQoJhg",
        "colab": {
          "base_uri": "https://localhost:8080/",
          "height": 390
        },
        "outputId": "8a19a98d-6132-432d-e612-2424cab971dc"
      },
      "source": [
        "valores = []\n",
        "for i in range(simulacoes):\n",
        "    valores.append(SimulaAlbum()[0])\n",
        "    if (i+1) % 50 == 0:\n",
        "        print('Simulação: ', i+1, '/', simulacoes)"
      ],
      "execution_count": null,
      "outputs": [
        {
          "output_type": "stream",
          "text": [
            "Simulação:  50 / 1000\n",
            "Simulação:  100 / 1000\n",
            "Simulação:  150 / 1000\n",
            "Simulação:  200 / 1000\n",
            "Simulação:  250 / 1000\n",
            "Simulação:  300 / 1000\n",
            "Simulação:  350 / 1000\n",
            "Simulação:  400 / 1000\n",
            "Simulação:  450 / 1000\n",
            "Simulação:  500 / 1000\n",
            "Simulação:  550 / 1000\n",
            "Simulação:  600 / 1000\n",
            "Simulação:  650 / 1000\n",
            "Simulação:  700 / 1000\n",
            "Simulação:  750 / 1000\n",
            "Simulação:  800 / 1000\n",
            "Simulação:  850 / 1000\n",
            "Simulação:  900 / 1000\n",
            "Simulação:  950 / 1000\n",
            "Simulação:  1000 / 1000\n"
          ],
          "name": "stdout"
        }
      ]
    },
    {
      "cell_type": "markdown",
      "metadata": {
        "id": "PM_3RPS5q_Z9"
      },
      "source": [
        "As respostas das perguntas 1 e 2, respectivamente, são:"
      ]
    },
    {
      "cell_type": "code",
      "metadata": {
        "id": "aWgOBRkHqoKk",
        "colab": {
          "base_uri": "https://localhost:8080/",
          "height": 54
        },
        "outputId": "75cb6afb-762f-4abf-e88c-051942db3bff"
      },
      "source": [
        "print('O valor médio gasto foi:', round(np.mean(valores), 2))\n",
        "print('O numero de pacotes médio foi:', round((np.mean(valores) - preco_album)/preco_pacote, 2))"
      ],
      "execution_count": null,
      "outputs": [
        {
          "output_type": "stream",
          "text": [
            "O valor médio gasto foi: 2245.0\n",
            "O numero de pacotes médio foi: 894.44\n"
          ],
          "name": "stdout"
        }
      ]
    },
    {
      "cell_type": "markdown",
      "metadata": {
        "id": "eFFhtwKkrF__"
      },
      "source": [
        "Podemos visualizar a distribuição empírica do valor gasto através do **histograma** dos valores simulados"
      ]
    },
    {
      "cell_type": "code",
      "metadata": {
        "id": "-jMyRhC-rNim",
        "colab": {
          "base_uri": "https://localhost:8080/",
          "height": 283
        },
        "outputId": "5bc7a3a8-b107-4ff2-c7fb-bcbb674f94c1"
      },
      "source": [
        "import matplotlib.pyplot as plt\n",
        "plt.hist(valores, bins = 20, density = True, edgecolor = 'black')\n",
        "plt.title('Distribuição Empírica do Valor Gasto para Completar o Álbum')\n",
        "plt.show()"
      ],
      "execution_count": null,
      "outputs": [
        {
          "output_type": "display_data",
          "data": {
            "image/png": "[encoded data removed]",
            "text/plain": [
              "<Figure size 432x288 with 1 Axes>"
            ]
          },
          "metadata": {
            "tags": [],
            "needs_background": "light"
          }
        }
      ]
    },
    {
      "cell_type": "markdown",
      "metadata": {
        "id": "2rBE-DdbJ3Am"
      },
      "source": [
        "# **Exercícios: Python para Data Science**  <a name=\"exer\"></a>\n",
        "Os exercícios abaixo foram pensados para que iniciantes desenvolvam manejo e intimidade programando em python, utilizando os recursos fundamentais da linguagem.\n",
        "\n",
        "Os dois primeiros exercícios são mais simples. O exercício 3 já é um pouco mais elaborado e pode ser resolvido de várias formas. E o último exercício é apenas um complemento do projeto desenvolvido em aula sobre o álbum de figurinhas. Foram feitas mais perguntas para serem respondidas com o experimento. "
      ]
    },
    {
      "cell_type": "markdown",
      "metadata": {
        "id": "r1X1E_zEge7K"
      },
      "source": [
        "## **Exercício 1** \n",
        "Considere um balde cuja base possui raio  $r_1$ e altura igual ao diâmetro da base. Considere também uma esfera de raio $r_2$ cheia de água. Faça um programa que verifique se o volume da esfera cabe no balde, dados os valores de $r_1$ e $r_2$. \n"
      ]
    },
    {
      "cell_type": "markdown",
      "metadata": {
        "id": "ZRfHvmZ548aq"
      },
      "source": [
        "\n",
        "## **Exercício 2** \n",
        "Crie uma função que simule o jogo do *jokempô*, isto é, dada a entrada de dois jogadores, retorne a indicação de qual deles venceu. "
      ]
    },
    {
      "cell_type": "markdown",
      "metadata": {
        "id": "XW7xW90KucKA"
      },
      "source": [
        "## **Exercício 3**  \n",
        "\n",
        "Faça um programa que simule uma **slot machine**. Uma slot machine é uma máquina muito comum em cassinos. A pessoa puxa uma alavanca e aparecem na tela 3 símbolos aleatoriamente, de uma lista com diversos deles. Se os símbolos forem iguais, então a pessoa ganha. A pessoa entrar com um tanto escolhido de fichas, e joga até que acabe. Quando o programa terminar, uma mensagem resumindo os totais que ela ganhou deve ser exibida."
      ]
    },
    {
      "cell_type": "markdown",
      "metadata": {
        "id": "HsJzoJHmPBDR"
      },
      "source": [
        "## **Exercício 4**\n",
        "\n",
        "Considere o contexto do projeto do álbum de figurinhas e responda as perguntas adicionais: \n",
        "1. Quantas vezes saiu a figurinha mais repetida, em média?\n",
        "2. Em média, quantas figurinhas não se repetem ao completar o álbum?\n",
        "3. Qual a probabilidade de se gastar mais que R\\$3000,00 para completar o álbum?\n",
        "4. Qual a probabilidade de se gastar menos que R\\$1500,00 para completar o álbum?\n",
        "5. Qual a probabilidade de se gastar mais do que a média para completar o álbum?\n",
        "6. Qual é o intervalo de confiança de 95% para o gasto ao se completar o álbum?\n",
        "7. Qual o valor médio gasto caso se esteja completando o álbum com mais um amigo?\n",
        "8. Quanto se economiza ao utilizar o cenário da questão 7?\n",
        "9. Qual o valor médio gasto caso se esteja completando o álbum com mais dois amigos?\n",
        "10. Quanto se economiza ao utilizar o cenário da questão 9?"
      ]
    },
    {
      "cell_type": "markdown",
      "metadata": {
        "id": "nSJC-C50lrdi"
      },
      "source": [
        " ## **Links Úteis** <a name=\"links\"></a>"
      ]
    },
    {
      "cell_type": "markdown",
      "metadata": {
        "id": "qvCE4Gnglshy"
      },
      "source": [
        "1. [Documentação do Python](https://docs.python.org/3/)\n",
        "2. [Download do Anaconda](https://anaconda.org/)\n",
        "3. [Curso do Gustavo Guanabara no YouTube (Canal Curso em Vídeo)](https://www.youtube.com/watch?v=S9uPNppGsGo&list=PLvE-ZAFRgX8hnECDn1v9HNTI71veL3oW0)\n",
        "4. [Curso de Python gratuito do Kaggle (inglês)](https://www.kaggle.com/learn/python)\n",
        "5. [Conceitos de Python em 40min por Derek Banas (inglês)](https://www.youtube.com/watch?v=N4mEzFDjqtA) \n"
      ]
    },
    {
      "cell_type": "markdown",
      "metadata": {
        "id": "UE-KpVQlpZYZ"
      },
      "source": [
        "## **Anexo** <a name=\"anex\"></a>\n"
      ]
    },
    {
      "cell_type": "markdown",
      "metadata": {
        "id": "2Qt56rwNP2rW"
      },
      "source": [
        "\n",
        "### **The Zen of Python, por Tim Peters**\n",
        "\n",
        "É um conjunto de regras pela qual o Python é idealizado.\n",
        "\n",
        "1. Bonito é melhor que feio.\n",
        "2. Explícito é melhor que implícito.\n",
        "3.  Simples é melhor que complexo.\n",
        "4. Complexo é melhor que complicado.\n",
        "5. Plano é melhor que aglomerado.\n",
        "6. Esparso é melhor que denso.\n",
        "7. Legibilidade faz diferença.\n",
        "8. Casos especiais não são especiais o bastante para quebrar as regras.\n",
        "9. Embora a praticidade vença a pureza.\n",
        "10. Erros nunca devem passar silenciosamente.\n",
        "11. A menos que sejam explicitamente silenciados.\n",
        "12. Diante da ambigüidade, recuse a tentação de adivinhar.\n",
        "13. Deve haver um -- e preferencialmente só um -- modo óbvio para fazer algo.\n",
        "14. Embora esse modo possa não ser óbvio à primeira vista a menos que você seja holandês.\n",
        "15. Agora é melhor que nunca.\n",
        "16. Embora nunca freqüentemente seja melhor que *exatamente* agora.\n",
        "17. Se a implementação é difícil de explicar, é uma má idéia.\n",
        "18. Se a implementação é fácil de explicar, pode ser uma boa idéia.\n",
        "19. Namespaces são uma grande idéia -- vamos fazer mais dessas! "
      ]
    }
  ]
}