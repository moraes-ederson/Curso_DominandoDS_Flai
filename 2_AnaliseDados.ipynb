{
  "nbformat": 4,
  "nbformat_minor": 0,
  "metadata": {
    "colab": {
      "name": "2-AnaliseDados.ipynb",
      "provenance": [],
      "mount_file_id": "1osg04vNYCtmM-vAkM4-kmdHRK6KxFbtY",
      "authorship_tag": "ABX9TyOxRTDW8OEOaD0qY940rmE5",
      "include_colab_link": true
    },
    "kernelspec": {
      "name": "python3",
      "display_name": "Python 3"
    }
  },
  "cells": [
    {
      "cell_type": "markdown",
      "metadata": {
        "id": "view-in-github",
        "colab_type": "text"
      },
      "source": [
        "<a href=\"https://colab.research.google.com/github/moraes-ederson/Curso_DominandoDS_Flai/blob/main/2_AnaliseDados.ipynb\" target=\"_parent\"><img src=\"https://colab.research.google.com/assets/colab-badge.svg\" alt=\"Open In Colab\"/></a>"
      ]
    },
    {
      "cell_type": "markdown",
      "metadata": {
        "id": "ccN_Qkrqfwiz"
      },
      "source": [
        "# Continuando em Pandas"
      ]
    },
    {
      "cell_type": "code",
      "metadata": {
        "id": "rSeHmh9AiTyN"
      },
      "source": [
        "import pandas as pd"
      ],
      "execution_count": null,
      "outputs": []
    },
    {
      "cell_type": "code",
      "metadata": {
        "id": "-r13y0diiWAy"
      },
      "source": [
        "caminho = '/content/datahackers-survey-2019-anonymous-responses.csv'\n",
        "dados = pd.read_csv(caminho)"
      ],
      "execution_count": null,
      "outputs": []
    },
    {
      "cell_type": "code",
      "metadata": {
        "colab": {
          "base_uri": "https://localhost:8080/"
        },
        "id": "_YnJOYDOi846",
        "outputId": "82132761-f792-43fc-caae-821b17b8909c"
      },
      "source": [
        "dados.shape"
      ],
      "execution_count": null,
      "outputs": [
        {
          "output_type": "execute_result",
          "data": {
            "text/plain": [
              "(1765, 170)"
            ]
          },
          "metadata": {
            "tags": []
          },
          "execution_count": 3
        }
      ]
    },
    {
      "cell_type": "code",
      "metadata": {
        "id": "s52GQmLE-BU2"
      },
      "source": [
        "pd.set_option(\"display.max_columns\", 200)"
      ],
      "execution_count": null,
      "outputs": []
    },
    {
      "cell_type": "code",
      "metadata": {
        "colab": {
          "base_uri": "https://localhost:8080/",
          "height": 377
        },
        "id": "oee6cm1RjHj7",
        "outputId": "27b1e194-10d0-4a4d-d857-238b1b3aef09"
      },
      "source": [
        "dados.head()"
      ],
      "execution_count": null,
      "outputs": [
        {
          "output_type": "execute_result",
          "data": {
            "text/html": [
              "<div>\n",
              "<style scoped>\n",
              "    .dataframe tbody tr th:only-of-type {\n",
              "        vertical-align: middle;\n",
              "    }\n",
              "\n",
              "    .dataframe tbody tr th {\n",
              "        vertical-align: top;\n",
              "    }\n",
              "\n",
              "    .dataframe thead th {\n",
              "        text-align: right;\n",
              "    }\n",
              "</style>\n",
              "<table border=\"1\" class=\"dataframe\">\n",
              "  <thead>\n",
              "    <tr style=\"text-align: right;\">\n",
              "      <th></th>\n",
              "      <th>('P0', 'id')</th>\n",
              "      <th>('P1', 'age')</th>\n",
              "      <th>('P2', 'gender')</th>\n",
              "      <th>('P3', 'living_in_brasil')</th>\n",
              "      <th>('P5', 'living_state')</th>\n",
              "      <th>('P6', 'born_or_graduated')</th>\n",
              "      <th>('P8', 'degreee_level')</th>\n",
              "      <th>('P10', 'job_situation')</th>\n",
              "      <th>('P12', 'workers_number')</th>\n",
              "      <th>('P13', 'manager')</th>\n",
              "      <th>('P16', 'salary_range')</th>\n",
              "      <th>('P17', 'time_experience_data_science')</th>\n",
              "      <th>('P18', 'time_experience_before')</th>\n",
              "      <th>('P19', 'is_data_science_professional')</th>\n",
              "      <th>('P20', 'linear_regression')</th>\n",
              "      <th>('P20', 'logistic_regression')</th>\n",
              "      <th>('P20', 'glms')</th>\n",
              "      <th>('P20', 'decision_tree')</th>\n",
              "      <th>('P20', 'random_forest')</th>\n",
              "      <th>('P20', 'neural_networks')</th>\n",
              "      <th>('P20', 'bayesian_inference')</th>\n",
              "      <th>('P20', 'ensemble')</th>\n",
              "      <th>('P20', 'svms')</th>\n",
              "      <th>('P20', 'cnns')</th>\n",
              "      <th>('P20', 'rnns')</th>\n",
              "      <th>('P20', 'hmms')</th>\n",
              "      <th>('P20', 'gans')</th>\n",
              "      <th>('P20', 'markov_chains')</th>\n",
              "      <th>('P20', 'nlp')</th>\n",
              "      <th>('P20', 'gradient_boosted_machines')</th>\n",
              "      <th>('P20', 'cluster_analysis')</th>\n",
              "      <th>('P20', 'survival_analysis')</th>\n",
              "      <th>('P20', 'longitudinal_data_analysis')</th>\n",
              "      <th>('P20', 'joint analysis')</th>\n",
              "      <th>('P20', 'no_listed_methods')</th>\n",
              "      <th>('P21', 'sql_')</th>\n",
              "      <th>('P21', 'r')</th>\n",
              "      <th>('P21', 'python')</th>\n",
              "      <th>('P21', 'c_c++_c#')</th>\n",
              "      <th>('P21', 'dotnet')</th>\n",
              "      <th>('P21', 'java')</th>\n",
              "      <th>('P21', 'julia')</th>\n",
              "      <th>('P21', 'sas_stata')</th>\n",
              "      <th>('P21', 'visual_basic_vba')</th>\n",
              "      <th>('P21', 'scala')</th>\n",
              "      <th>('P21', 'matlab')</th>\n",
              "      <th>('P21', 'php')</th>\n",
              "      <th>('P21', 'no_listed_languages')</th>\n",
              "      <th>('P22', 'most_used_proggraming_languages')</th>\n",
              "      <th>('P23', 'sql')</th>\n",
              "      <th>('P23', 'nosql')</th>\n",
              "      <th>('P23', 'images')</th>\n",
              "      <th>('P23', 'nlp')</th>\n",
              "      <th>('P23', 'videos')</th>\n",
              "      <th>('P23', 'sheets')</th>\n",
              "      <th>('P23', 'other')</th>\n",
              "      <th>('P24', 'sql')</th>\n",
              "      <th>('P24', 'nosql')</th>\n",
              "      <th>('P24', 'imagens')</th>\n",
              "      <th>('P24', 'nlp')</th>\n",
              "      <th>('P24', 'vídeos')</th>\n",
              "      <th>('P24', 'planilhas')</th>\n",
              "      <th>('P24', 'other')</th>\n",
              "      <th>('P25', 'aws')</th>\n",
              "      <th>('P25', 'gcp')</th>\n",
              "      <th>('P25', 'azure')</th>\n",
              "      <th>('P25', 'ibm')</th>\n",
              "      <th>('P25', 'on_premise_servers')</th>\n",
              "      <th>('P25', 'cloud_própria')</th>\n",
              "      <th>('P25', 'other')</th>\n",
              "      <th>('P26', 'mysql')</th>\n",
              "      <th>('P26', 'oracle')</th>\n",
              "      <th>('P26', 'sql_server')</th>\n",
              "      <th>('P26', 'aurora')</th>\n",
              "      <th>('P26', 'dynamodb')</th>\n",
              "      <th>('P26', 'coachdb')</th>\n",
              "      <th>('P26', 'cassandra')</th>\n",
              "      <th>('P26', 'mongodb')</th>\n",
              "      <th>('P26', 'mariadb')</th>\n",
              "      <th>('P26', 'datomic')</th>\n",
              "      <th>('P26', 's3')</th>\n",
              "      <th>('P26', 'postgresql')</th>\n",
              "      <th>('P26', 'elaticsearch')</th>\n",
              "      <th>('P26', 'db2')</th>\n",
              "      <th>('P26', 'ms_access')</th>\n",
              "      <th>('P26', 'sqlite')</th>\n",
              "      <th>('P26', 'sybase')</th>\n",
              "      <th>('P26', 'firebase')</th>\n",
              "      <th>('P26', 'vertica')</th>\n",
              "      <th>('P26', 'redis')</th>\n",
              "      <th>('P26', 'neo4j')</th>\n",
              "      <th>('P26', 'google_bigtable')</th>\n",
              "      <th>('P26', 'hbase')</th>\n",
              "      <th>('P26', 'other')</th>\n",
              "      <th>('P27', 'microsoft_powerbi')</th>\n",
              "      <th>('P27', 'qlik_view_qlik_sense')</th>\n",
              "      <th>('P27', 'tableau')</th>\n",
              "      <th>('P27', 'metabase')</th>\n",
              "      <th>('P27', 'superset')</th>\n",
              "      <th>('P27', 'redash')</th>\n",
              "      <th>('P27', 'microstrategy')</th>\n",
              "      <th>('P27', 'ibm_analytics_cognos')</th>\n",
              "      <th>('P27', 'sap_business_objects')</th>\n",
              "      <th>('P27', 'oracle_business_intelligence')</th>\n",
              "      <th>('P27', 'birst')</th>\n",
              "      <th>('P27', 'looker')</th>\n",
              "      <th>('P27', 'google_data_studio')</th>\n",
              "      <th>('P27', 'only_excel_gsheets')</th>\n",
              "      <th>('P27', 'no_bi_tool_at_work')</th>\n",
              "      <th>('P27', 'other')</th>\n",
              "      <th>('P28', 'sql_&amp;_stored_procedures')</th>\n",
              "      <th>('P28', 'apache_airflow')</th>\n",
              "      <th>('P28', 'luigi')</th>\n",
              "      <th>('P28', 'aws_glue')</th>\n",
              "      <th>('P28', 'talend')</th>\n",
              "      <th>('P28', 'pentaho')</th>\n",
              "      <th>('P28', 'alteryx')</th>\n",
              "      <th>('P28', 'oracle_data_integrator')</th>\n",
              "      <th>('P28', 'ibm_data_stage')</th>\n",
              "      <th>('P28', 'sap_bw_etl')</th>\n",
              "      <th>('P28', 'siss_sql_server_integration_services')</th>\n",
              "      <th>('P28', 'other')</th>\n",
              "      <th>('P29', 'have_data_warehouse')</th>\n",
              "      <th>('P30', 'google_bigquery')</th>\n",
              "      <th>('P30', 'aws_redshift')</th>\n",
              "      <th>('P30', 'snowflake')</th>\n",
              "      <th>('P30', 'oracle')</th>\n",
              "      <th>('P30', 'postgres_mysql')</th>\n",
              "      <th>('P30', 'ibm')</th>\n",
              "      <th>('P30', 'teradata')</th>\n",
              "      <th>('P30', 'microsoft_azure')</th>\n",
              "      <th>('P30', 'do_not_know')</th>\n",
              "      <th>('P30', 'other')</th>\n",
              "      <th>('P31', 'data_hackers_blog')</th>\n",
              "      <th>('P31', 'data_hackers_podcast')</th>\n",
              "      <th>('P31', 'weekly_newsletter')</th>\n",
              "      <th>('P31', 'slack_channel')</th>\n",
              "      <th>('P31', 'data_hackers_bootcamp')</th>\n",
              "      <th>('P31', 'do_not_know_data_hackers')</th>\n",
              "      <th>('P32', 'prefered_data_hackers_initiative')</th>\n",
              "      <th>('P33', 'telegram_groups')</th>\n",
              "      <th>('P33', 'whatsapp_groups')</th>\n",
              "      <th>('P33', 'youtube_channels')</th>\n",
              "      <th>('P33', 'other_brasilian_blogs')</th>\n",
              "      <th>('P33', 'other_slack_channels')</th>\n",
              "      <th>('P33', 'twitter')</th>\n",
              "      <th>('P33', 'abroad_blogs')</th>\n",
              "      <th>('P33', 'abroad_podcasts')</th>\n",
              "      <th>('P33', 'meetups_and_events')</th>\n",
              "      <th>('P33', 'only_data_hackers')</th>\n",
              "      <th>('P33', 'other')</th>\n",
              "      <th>('P34', 'udacity')</th>\n",
              "      <th>('P34', 'coursera')</th>\n",
              "      <th>('P34', 'udemy')</th>\n",
              "      <th>('P34', 'height')</th>\n",
              "      <th>('P34', 'edx')</th>\n",
              "      <th>('P34', 'data_camp')</th>\n",
              "      <th>('P34', 'data_quest')</th>\n",
              "      <th>('P34', 'kaggle_learn')</th>\n",
              "      <th>('P34', 'online_courses')</th>\n",
              "      <th>('P34', 'other')</th>\n",
              "      <th>('P35', 'data_science_plataforms_preference')</th>\n",
              "      <th>('P35', 'other')</th>\n",
              "      <th>('P36', 'draw_participation')</th>\n",
              "      <th>('D1', 'living_macroregion')</th>\n",
              "      <th>('D2', 'origin_macroregion')</th>\n",
              "      <th>('D3', 'anonymized_degree_area')</th>\n",
              "      <th>('D4', 'anonymized_market_sector')</th>\n",
              "      <th>('D5', 'anonymized_manager_level')</th>\n",
              "      <th>('D6', 'anonymized_role')</th>\n",
              "    </tr>\n",
              "  </thead>\n",
              "  <tbody>\n",
              "    <tr>\n",
              "      <th>0</th>\n",
              "      <td>v9otv8j9wdvjrv9otvwnn9owhzq54ktv</td>\n",
              "      <td>37.0</td>\n",
              "      <td>Masculino</td>\n",
              "      <td>1</td>\n",
              "      <td>Minas Gerais (MG)</td>\n",
              "      <td>1.0</td>\n",
              "      <td>Estudante de Graduação</td>\n",
              "      <td>Empregado (CTL)</td>\n",
              "      <td>de 1 a 5</td>\n",
              "      <td>0.0</td>\n",
              "      <td>de R$ 1.001/mês a R$ 2.000/mês</td>\n",
              "      <td>Não tenho experiência na área de dados</td>\n",
              "      <td>Não tive experiência na área de TI/Engenharia ...</td>\n",
              "      <td>0</td>\n",
              "      <td>0</td>\n",
              "      <td>0</td>\n",
              "      <td>0</td>\n",
              "      <td>0</td>\n",
              "      <td>0</td>\n",
              "      <td>0</td>\n",
              "      <td>0</td>\n",
              "      <td>0</td>\n",
              "      <td>0</td>\n",
              "      <td>0</td>\n",
              "      <td>0</td>\n",
              "      <td>0</td>\n",
              "      <td>0</td>\n",
              "      <td>0</td>\n",
              "      <td>0</td>\n",
              "      <td>0</td>\n",
              "      <td>0</td>\n",
              "      <td>0</td>\n",
              "      <td>0</td>\n",
              "      <td>0</td>\n",
              "      <td>0</td>\n",
              "      <td>0</td>\n",
              "      <td>0</td>\n",
              "      <td>0</td>\n",
              "      <td>0</td>\n",
              "      <td>0</td>\n",
              "      <td>0</td>\n",
              "      <td>0</td>\n",
              "      <td>0</td>\n",
              "      <td>0</td>\n",
              "      <td>0</td>\n",
              "      <td>0</td>\n",
              "      <td>0</td>\n",
              "      <td>0</td>\n",
              "      <td>NaN</td>\n",
              "      <td>0</td>\n",
              "      <td>0</td>\n",
              "      <td>0</td>\n",
              "      <td>0</td>\n",
              "      <td>0</td>\n",
              "      <td>0</td>\n",
              "      <td>0</td>\n",
              "      <td>0</td>\n",
              "      <td>0</td>\n",
              "      <td>0</td>\n",
              "      <td>0</td>\n",
              "      <td>0</td>\n",
              "      <td>0</td>\n",
              "      <td>0</td>\n",
              "      <td>0</td>\n",
              "      <td>0</td>\n",
              "      <td>0</td>\n",
              "      <td>0</td>\n",
              "      <td>0</td>\n",
              "      <td>0</td>\n",
              "      <td>0</td>\n",
              "      <td>0</td>\n",
              "      <td>0</td>\n",
              "      <td>0</td>\n",
              "      <td>0</td>\n",
              "      <td>0</td>\n",
              "      <td>0</td>\n",
              "      <td>0</td>\n",
              "      <td>0</td>\n",
              "      <td>0</td>\n",
              "      <td>0</td>\n",
              "      <td>0</td>\n",
              "      <td>0</td>\n",
              "      <td>0</td>\n",
              "      <td>0</td>\n",
              "      <td>0</td>\n",
              "      <td>0</td>\n",
              "      <td>0</td>\n",
              "      <td>0</td>\n",
              "      <td>0</td>\n",
              "      <td>0</td>\n",
              "      <td>0</td>\n",
              "      <td>0</td>\n",
              "      <td>0</td>\n",
              "      <td>0</td>\n",
              "      <td>0</td>\n",
              "      <td>0</td>\n",
              "      <td>0</td>\n",
              "      <td>0</td>\n",
              "      <td>0</td>\n",
              "      <td>0</td>\n",
              "      <td>0</td>\n",
              "      <td>0</td>\n",
              "      <td>0</td>\n",
              "      <td>0</td>\n",
              "      <td>0</td>\n",
              "      <td>0</td>\n",
              "      <td>0</td>\n",
              "      <td>0</td>\n",
              "      <td>0</td>\n",
              "      <td>0</td>\n",
              "      <td>0</td>\n",
              "      <td>0</td>\n",
              "      <td>0</td>\n",
              "      <td>0</td>\n",
              "      <td>0</td>\n",
              "      <td>0</td>\n",
              "      <td>0</td>\n",
              "      <td>0</td>\n",
              "      <td>0</td>\n",
              "      <td>0</td>\n",
              "      <td>0</td>\n",
              "      <td>0</td>\n",
              "      <td>NaN</td>\n",
              "      <td>0</td>\n",
              "      <td>0</td>\n",
              "      <td>0</td>\n",
              "      <td>0</td>\n",
              "      <td>0</td>\n",
              "      <td>0</td>\n",
              "      <td>0</td>\n",
              "      <td>0</td>\n",
              "      <td>0</td>\n",
              "      <td>0</td>\n",
              "      <td>0</td>\n",
              "      <td>0</td>\n",
              "      <td>0</td>\n",
              "      <td>0</td>\n",
              "      <td>0</td>\n",
              "      <td>1</td>\n",
              "      <td>Ainda não conhecia o Data Hackers</td>\n",
              "      <td>0</td>\n",
              "      <td>0</td>\n",
              "      <td>1</td>\n",
              "      <td>0</td>\n",
              "      <td>0</td>\n",
              "      <td>0</td>\n",
              "      <td>0</td>\n",
              "      <td>0</td>\n",
              "      <td>0</td>\n",
              "      <td>0</td>\n",
              "      <td>0</td>\n",
              "      <td>0</td>\n",
              "      <td>0</td>\n",
              "      <td>0</td>\n",
              "      <td>0</td>\n",
              "      <td>0</td>\n",
              "      <td>0</td>\n",
              "      <td>0</td>\n",
              "      <td>0</td>\n",
              "      <td>1</td>\n",
              "      <td>0</td>\n",
              "      <td>Nunca fiz cursos online</td>\n",
              "      <td>NaN</td>\n",
              "      <td>1.0</td>\n",
              "      <td>Região Sudeste</td>\n",
              "      <td>NaN</td>\n",
              "      <td>Computação / Engenharia de Software / Sistemas...</td>\n",
              "      <td>Outras</td>\n",
              "      <td>NaN</td>\n",
              "      <td>Outras</td>\n",
              "    </tr>\n",
              "    <tr>\n",
              "      <th>1</th>\n",
              "      <td>875ul998t0hqcv0871uptwf3oswcfv35</td>\n",
              "      <td>24.0</td>\n",
              "      <td>Feminino</td>\n",
              "      <td>1</td>\n",
              "      <td>São Paulo (SP)</td>\n",
              "      <td>1.0</td>\n",
              "      <td>Estudante de Graduação</td>\n",
              "      <td>Empregado (CTL)</td>\n",
              "      <td>Acima de 3000</td>\n",
              "      <td>0.0</td>\n",
              "      <td>de R$ 2.001/mês a R$ 3000/mês</td>\n",
              "      <td>Menos de 1 ano</td>\n",
              "      <td>Não tive experiência na área de TI/Engenharia ...</td>\n",
              "      <td>1</td>\n",
              "      <td>0</td>\n",
              "      <td>0</td>\n",
              "      <td>0</td>\n",
              "      <td>0</td>\n",
              "      <td>0</td>\n",
              "      <td>0</td>\n",
              "      <td>0</td>\n",
              "      <td>0</td>\n",
              "      <td>0</td>\n",
              "      <td>0</td>\n",
              "      <td>0</td>\n",
              "      <td>0</td>\n",
              "      <td>0</td>\n",
              "      <td>0</td>\n",
              "      <td>0</td>\n",
              "      <td>0</td>\n",
              "      <td>0</td>\n",
              "      <td>0</td>\n",
              "      <td>0</td>\n",
              "      <td>0</td>\n",
              "      <td>1</td>\n",
              "      <td>1</td>\n",
              "      <td>0</td>\n",
              "      <td>1</td>\n",
              "      <td>0</td>\n",
              "      <td>0</td>\n",
              "      <td>0</td>\n",
              "      <td>0</td>\n",
              "      <td>0</td>\n",
              "      <td>0</td>\n",
              "      <td>0</td>\n",
              "      <td>0</td>\n",
              "      <td>0</td>\n",
              "      <td>0</td>\n",
              "      <td>Python</td>\n",
              "      <td>1</td>\n",
              "      <td>0</td>\n",
              "      <td>0</td>\n",
              "      <td>0</td>\n",
              "      <td>0</td>\n",
              "      <td>0</td>\n",
              "      <td>0</td>\n",
              "      <td>1</td>\n",
              "      <td>0</td>\n",
              "      <td>0</td>\n",
              "      <td>0</td>\n",
              "      <td>0</td>\n",
              "      <td>0</td>\n",
              "      <td>0</td>\n",
              "      <td>1</td>\n",
              "      <td>0</td>\n",
              "      <td>0</td>\n",
              "      <td>0</td>\n",
              "      <td>0</td>\n",
              "      <td>0</td>\n",
              "      <td>0</td>\n",
              "      <td>0</td>\n",
              "      <td>1</td>\n",
              "      <td>0</td>\n",
              "      <td>0</td>\n",
              "      <td>0</td>\n",
              "      <td>0</td>\n",
              "      <td>0</td>\n",
              "      <td>0</td>\n",
              "      <td>0</td>\n",
              "      <td>0</td>\n",
              "      <td>1</td>\n",
              "      <td>0</td>\n",
              "      <td>0</td>\n",
              "      <td>0</td>\n",
              "      <td>0</td>\n",
              "      <td>0</td>\n",
              "      <td>0</td>\n",
              "      <td>0</td>\n",
              "      <td>0</td>\n",
              "      <td>0</td>\n",
              "      <td>0</td>\n",
              "      <td>0</td>\n",
              "      <td>0</td>\n",
              "      <td>0</td>\n",
              "      <td>1</td>\n",
              "      <td>0</td>\n",
              "      <td>0</td>\n",
              "      <td>0</td>\n",
              "      <td>0</td>\n",
              "      <td>0</td>\n",
              "      <td>0</td>\n",
              "      <td>0</td>\n",
              "      <td>0</td>\n",
              "      <td>0</td>\n",
              "      <td>0</td>\n",
              "      <td>0</td>\n",
              "      <td>0</td>\n",
              "      <td>0</td>\n",
              "      <td>0</td>\n",
              "      <td>0</td>\n",
              "      <td>1</td>\n",
              "      <td>0</td>\n",
              "      <td>0</td>\n",
              "      <td>0</td>\n",
              "      <td>0</td>\n",
              "      <td>0</td>\n",
              "      <td>0</td>\n",
              "      <td>0</td>\n",
              "      <td>0</td>\n",
              "      <td>0</td>\n",
              "      <td>0</td>\n",
              "      <td>0</td>\n",
              "      <td>0.0</td>\n",
              "      <td>0</td>\n",
              "      <td>0</td>\n",
              "      <td>0</td>\n",
              "      <td>0</td>\n",
              "      <td>0</td>\n",
              "      <td>0</td>\n",
              "      <td>0</td>\n",
              "      <td>0</td>\n",
              "      <td>0</td>\n",
              "      <td>0</td>\n",
              "      <td>0</td>\n",
              "      <td>0</td>\n",
              "      <td>0</td>\n",
              "      <td>0</td>\n",
              "      <td>0</td>\n",
              "      <td>1</td>\n",
              "      <td>Ainda não conhecia o Data Hackers</td>\n",
              "      <td>0</td>\n",
              "      <td>0</td>\n",
              "      <td>1</td>\n",
              "      <td>0</td>\n",
              "      <td>0</td>\n",
              "      <td>0</td>\n",
              "      <td>0</td>\n",
              "      <td>0</td>\n",
              "      <td>0</td>\n",
              "      <td>0</td>\n",
              "      <td>0</td>\n",
              "      <td>0</td>\n",
              "      <td>0</td>\n",
              "      <td>1</td>\n",
              "      <td>0</td>\n",
              "      <td>0</td>\n",
              "      <td>0</td>\n",
              "      <td>0</td>\n",
              "      <td>0</td>\n",
              "      <td>0</td>\n",
              "      <td>1</td>\n",
              "      <td>NaN</td>\n",
              "      <td>Data Science Academy</td>\n",
              "      <td>0.0</td>\n",
              "      <td>Região Sudeste</td>\n",
              "      <td>NaN</td>\n",
              "      <td>Computação / Engenharia de Software / Sistemas...</td>\n",
              "      <td>Educação</td>\n",
              "      <td>NaN</td>\n",
              "      <td>Data Analyst/Analista de Dados</td>\n",
              "    </tr>\n",
              "    <tr>\n",
              "      <th>2</th>\n",
              "      <td>puscuk079vw1pusbb900pzw2xvpxtgdk</td>\n",
              "      <td>26.0</td>\n",
              "      <td>Masculino</td>\n",
              "      <td>1</td>\n",
              "      <td>São Paulo (SP)</td>\n",
              "      <td>1.0</td>\n",
              "      <td>Graduação/Bacharelado</td>\n",
              "      <td>Empregado (CTL)</td>\n",
              "      <td>Acima de 3000</td>\n",
              "      <td>0.0</td>\n",
              "      <td>de R$ 4.001/mês a R$ 6.000/mês</td>\n",
              "      <td>de 1 a 2 anos</td>\n",
              "      <td>de 6 a 10 anos</td>\n",
              "      <td>1</td>\n",
              "      <td>0</td>\n",
              "      <td>0</td>\n",
              "      <td>0</td>\n",
              "      <td>0</td>\n",
              "      <td>1</td>\n",
              "      <td>1</td>\n",
              "      <td>0</td>\n",
              "      <td>1</td>\n",
              "      <td>1</td>\n",
              "      <td>0</td>\n",
              "      <td>0</td>\n",
              "      <td>0</td>\n",
              "      <td>0</td>\n",
              "      <td>0</td>\n",
              "      <td>0</td>\n",
              "      <td>0</td>\n",
              "      <td>1</td>\n",
              "      <td>0</td>\n",
              "      <td>0</td>\n",
              "      <td>0</td>\n",
              "      <td>0</td>\n",
              "      <td>0</td>\n",
              "      <td>0</td>\n",
              "      <td>1</td>\n",
              "      <td>0</td>\n",
              "      <td>0</td>\n",
              "      <td>0</td>\n",
              "      <td>0</td>\n",
              "      <td>0</td>\n",
              "      <td>0</td>\n",
              "      <td>0</td>\n",
              "      <td>0</td>\n",
              "      <td>0</td>\n",
              "      <td>0</td>\n",
              "      <td>Python</td>\n",
              "      <td>0</td>\n",
              "      <td>0</td>\n",
              "      <td>0</td>\n",
              "      <td>0</td>\n",
              "      <td>0</td>\n",
              "      <td>1</td>\n",
              "      <td>0</td>\n",
              "      <td>0</td>\n",
              "      <td>0</td>\n",
              "      <td>0</td>\n",
              "      <td>0</td>\n",
              "      <td>0</td>\n",
              "      <td>1</td>\n",
              "      <td>0</td>\n",
              "      <td>0</td>\n",
              "      <td>0</td>\n",
              "      <td>0</td>\n",
              "      <td>0</td>\n",
              "      <td>0</td>\n",
              "      <td>1</td>\n",
              "      <td>0</td>\n",
              "      <td>0</td>\n",
              "      <td>0</td>\n",
              "      <td>0</td>\n",
              "      <td>0</td>\n",
              "      <td>0</td>\n",
              "      <td>0</td>\n",
              "      <td>0</td>\n",
              "      <td>0</td>\n",
              "      <td>0</td>\n",
              "      <td>0</td>\n",
              "      <td>0</td>\n",
              "      <td>0</td>\n",
              "      <td>0</td>\n",
              "      <td>0</td>\n",
              "      <td>0</td>\n",
              "      <td>0</td>\n",
              "      <td>0</td>\n",
              "      <td>0</td>\n",
              "      <td>0</td>\n",
              "      <td>0</td>\n",
              "      <td>0</td>\n",
              "      <td>0</td>\n",
              "      <td>0</td>\n",
              "      <td>1</td>\n",
              "      <td>0</td>\n",
              "      <td>0</td>\n",
              "      <td>1</td>\n",
              "      <td>0</td>\n",
              "      <td>0</td>\n",
              "      <td>0</td>\n",
              "      <td>0</td>\n",
              "      <td>0</td>\n",
              "      <td>0</td>\n",
              "      <td>0</td>\n",
              "      <td>0</td>\n",
              "      <td>0</td>\n",
              "      <td>0</td>\n",
              "      <td>0</td>\n",
              "      <td>0</td>\n",
              "      <td>0</td>\n",
              "      <td>0</td>\n",
              "      <td>0</td>\n",
              "      <td>0</td>\n",
              "      <td>0</td>\n",
              "      <td>0</td>\n",
              "      <td>0</td>\n",
              "      <td>0</td>\n",
              "      <td>0</td>\n",
              "      <td>0</td>\n",
              "      <td>0</td>\n",
              "      <td>0</td>\n",
              "      <td>1</td>\n",
              "      <td>0.0</td>\n",
              "      <td>0</td>\n",
              "      <td>0</td>\n",
              "      <td>0</td>\n",
              "      <td>0</td>\n",
              "      <td>0</td>\n",
              "      <td>0</td>\n",
              "      <td>0</td>\n",
              "      <td>0</td>\n",
              "      <td>0</td>\n",
              "      <td>0</td>\n",
              "      <td>0</td>\n",
              "      <td>1</td>\n",
              "      <td>1</td>\n",
              "      <td>0</td>\n",
              "      <td>0</td>\n",
              "      <td>0</td>\n",
              "      <td>Newsletter Semanal</td>\n",
              "      <td>0</td>\n",
              "      <td>0</td>\n",
              "      <td>0</td>\n",
              "      <td>1</td>\n",
              "      <td>0</td>\n",
              "      <td>0</td>\n",
              "      <td>0</td>\n",
              "      <td>0</td>\n",
              "      <td>0</td>\n",
              "      <td>0</td>\n",
              "      <td>0</td>\n",
              "      <td>0</td>\n",
              "      <td>1</td>\n",
              "      <td>1</td>\n",
              "      <td>0</td>\n",
              "      <td>0</td>\n",
              "      <td>0</td>\n",
              "      <td>0</td>\n",
              "      <td>1</td>\n",
              "      <td>0</td>\n",
              "      <td>0</td>\n",
              "      <td>Udemy</td>\n",
              "      <td>NaN</td>\n",
              "      <td>1.0</td>\n",
              "      <td>Região Sudeste</td>\n",
              "      <td>NaN</td>\n",
              "      <td>Outras Engenharias</td>\n",
              "      <td>Indústria (Manufatura)</td>\n",
              "      <td>NaN</td>\n",
              "      <td>Outras</td>\n",
              "    </tr>\n",
              "    <tr>\n",
              "      <th>3</th>\n",
              "      <td>rmel8ewqpbffp2mnfbzermel8eqincov</td>\n",
              "      <td>21.0</td>\n",
              "      <td>Masculino</td>\n",
              "      <td>1</td>\n",
              "      <td>São Paulo (SP)</td>\n",
              "      <td>0.0</td>\n",
              "      <td>Estudante de Graduação</td>\n",
              "      <td>Estagiário</td>\n",
              "      <td>de 11 a 50</td>\n",
              "      <td>0.0</td>\n",
              "      <td>de R$ 1.001/mês a R$ 2.000/mês</td>\n",
              "      <td>Menos de 1 ano</td>\n",
              "      <td>de 2 a 3 anos</td>\n",
              "      <td>1</td>\n",
              "      <td>0</td>\n",
              "      <td>0</td>\n",
              "      <td>0</td>\n",
              "      <td>0</td>\n",
              "      <td>1</td>\n",
              "      <td>0</td>\n",
              "      <td>0</td>\n",
              "      <td>0</td>\n",
              "      <td>0</td>\n",
              "      <td>0</td>\n",
              "      <td>0</td>\n",
              "      <td>0</td>\n",
              "      <td>0</td>\n",
              "      <td>0</td>\n",
              "      <td>0</td>\n",
              "      <td>0</td>\n",
              "      <td>0</td>\n",
              "      <td>0</td>\n",
              "      <td>0</td>\n",
              "      <td>0</td>\n",
              "      <td>0</td>\n",
              "      <td>1</td>\n",
              "      <td>0</td>\n",
              "      <td>1</td>\n",
              "      <td>0</td>\n",
              "      <td>0</td>\n",
              "      <td>0</td>\n",
              "      <td>0</td>\n",
              "      <td>0</td>\n",
              "      <td>0</td>\n",
              "      <td>0</td>\n",
              "      <td>0</td>\n",
              "      <td>0</td>\n",
              "      <td>0</td>\n",
              "      <td>SQL</td>\n",
              "      <td>1</td>\n",
              "      <td>0</td>\n",
              "      <td>0</td>\n",
              "      <td>0</td>\n",
              "      <td>0</td>\n",
              "      <td>0</td>\n",
              "      <td>0</td>\n",
              "      <td>1</td>\n",
              "      <td>0</td>\n",
              "      <td>0</td>\n",
              "      <td>0</td>\n",
              "      <td>0</td>\n",
              "      <td>0</td>\n",
              "      <td>0</td>\n",
              "      <td>1</td>\n",
              "      <td>0</td>\n",
              "      <td>0</td>\n",
              "      <td>0</td>\n",
              "      <td>0</td>\n",
              "      <td>0</td>\n",
              "      <td>0</td>\n",
              "      <td>0</td>\n",
              "      <td>0</td>\n",
              "      <td>0</td>\n",
              "      <td>0</td>\n",
              "      <td>0</td>\n",
              "      <td>0</td>\n",
              "      <td>0</td>\n",
              "      <td>0</td>\n",
              "      <td>0</td>\n",
              "      <td>0</td>\n",
              "      <td>0</td>\n",
              "      <td>0</td>\n",
              "      <td>0</td>\n",
              "      <td>0</td>\n",
              "      <td>0</td>\n",
              "      <td>0</td>\n",
              "      <td>0</td>\n",
              "      <td>0</td>\n",
              "      <td>0</td>\n",
              "      <td>0</td>\n",
              "      <td>0</td>\n",
              "      <td>0</td>\n",
              "      <td>0</td>\n",
              "      <td>1</td>\n",
              "      <td>0</td>\n",
              "      <td>0</td>\n",
              "      <td>0</td>\n",
              "      <td>0</td>\n",
              "      <td>0</td>\n",
              "      <td>0</td>\n",
              "      <td>0</td>\n",
              "      <td>0</td>\n",
              "      <td>0</td>\n",
              "      <td>0</td>\n",
              "      <td>0</td>\n",
              "      <td>0</td>\n",
              "      <td>0</td>\n",
              "      <td>0</td>\n",
              "      <td>0</td>\n",
              "      <td>1</td>\n",
              "      <td>0</td>\n",
              "      <td>0</td>\n",
              "      <td>0</td>\n",
              "      <td>0</td>\n",
              "      <td>0</td>\n",
              "      <td>1</td>\n",
              "      <td>0</td>\n",
              "      <td>0</td>\n",
              "      <td>0</td>\n",
              "      <td>0</td>\n",
              "      <td>0</td>\n",
              "      <td>0</td>\n",
              "      <td>1.0</td>\n",
              "      <td>0</td>\n",
              "      <td>1</td>\n",
              "      <td>0</td>\n",
              "      <td>0</td>\n",
              "      <td>0</td>\n",
              "      <td>0</td>\n",
              "      <td>0</td>\n",
              "      <td>0</td>\n",
              "      <td>0</td>\n",
              "      <td>0</td>\n",
              "      <td>0</td>\n",
              "      <td>0</td>\n",
              "      <td>0</td>\n",
              "      <td>0</td>\n",
              "      <td>0</td>\n",
              "      <td>1</td>\n",
              "      <td>Ainda não conhecia o Data Hackers</td>\n",
              "      <td>0</td>\n",
              "      <td>1</td>\n",
              "      <td>0</td>\n",
              "      <td>0</td>\n",
              "      <td>0</td>\n",
              "      <td>0</td>\n",
              "      <td>0</td>\n",
              "      <td>1</td>\n",
              "      <td>0</td>\n",
              "      <td>0</td>\n",
              "      <td>0</td>\n",
              "      <td>0</td>\n",
              "      <td>1</td>\n",
              "      <td>1</td>\n",
              "      <td>1</td>\n",
              "      <td>0</td>\n",
              "      <td>0</td>\n",
              "      <td>0</td>\n",
              "      <td>0</td>\n",
              "      <td>0</td>\n",
              "      <td>0</td>\n",
              "      <td>Alura</td>\n",
              "      <td>NaN</td>\n",
              "      <td>1.0</td>\n",
              "      <td>Região Sudeste</td>\n",
              "      <td>Região Sudeste</td>\n",
              "      <td>Computação / Engenharia de Software / Sistemas...</td>\n",
              "      <td>Tecnologia/Fábrica de Software</td>\n",
              "      <td>NaN</td>\n",
              "      <td>Business Intelligence/Analista de BI</td>\n",
              "    </tr>\n",
              "    <tr>\n",
              "      <th>4</th>\n",
              "      <td>pj9mgud4d6mdct1l7vq0pj9mgu78h6ju</td>\n",
              "      <td>27.0</td>\n",
              "      <td>Masculino</td>\n",
              "      <td>1</td>\n",
              "      <td>NaN</td>\n",
              "      <td>1.0</td>\n",
              "      <td>Graduação/Bacharelado</td>\n",
              "      <td>Freelancer</td>\n",
              "      <td>de 6 a 10</td>\n",
              "      <td>1.0</td>\n",
              "      <td>de R$ 6.001/mês a R$ 8.000/mês</td>\n",
              "      <td>de 4 a 5 anos</td>\n",
              "      <td>de 4 a 5 anos</td>\n",
              "      <td>1</td>\n",
              "      <td>1</td>\n",
              "      <td>0</td>\n",
              "      <td>0</td>\n",
              "      <td>1</td>\n",
              "      <td>1</td>\n",
              "      <td>0</td>\n",
              "      <td>0</td>\n",
              "      <td>1</td>\n",
              "      <td>1</td>\n",
              "      <td>0</td>\n",
              "      <td>1</td>\n",
              "      <td>0</td>\n",
              "      <td>0</td>\n",
              "      <td>0</td>\n",
              "      <td>1</td>\n",
              "      <td>0</td>\n",
              "      <td>0</td>\n",
              "      <td>0</td>\n",
              "      <td>0</td>\n",
              "      <td>0</td>\n",
              "      <td>0</td>\n",
              "      <td>1</td>\n",
              "      <td>0</td>\n",
              "      <td>1</td>\n",
              "      <td>1</td>\n",
              "      <td>0</td>\n",
              "      <td>0</td>\n",
              "      <td>0</td>\n",
              "      <td>0</td>\n",
              "      <td>0</td>\n",
              "      <td>0</td>\n",
              "      <td>0</td>\n",
              "      <td>0</td>\n",
              "      <td>0</td>\n",
              "      <td>Python</td>\n",
              "      <td>1</td>\n",
              "      <td>1</td>\n",
              "      <td>0</td>\n",
              "      <td>1</td>\n",
              "      <td>0</td>\n",
              "      <td>1</td>\n",
              "      <td>0</td>\n",
              "      <td>0</td>\n",
              "      <td>0</td>\n",
              "      <td>0</td>\n",
              "      <td>1</td>\n",
              "      <td>0</td>\n",
              "      <td>0</td>\n",
              "      <td>0</td>\n",
              "      <td>0</td>\n",
              "      <td>0</td>\n",
              "      <td>0</td>\n",
              "      <td>0</td>\n",
              "      <td>0</td>\n",
              "      <td>0</td>\n",
              "      <td>1</td>\n",
              "      <td>1</td>\n",
              "      <td>0</td>\n",
              "      <td>0</td>\n",
              "      <td>0</td>\n",
              "      <td>0</td>\n",
              "      <td>0</td>\n",
              "      <td>0</td>\n",
              "      <td>1</td>\n",
              "      <td>1</td>\n",
              "      <td>0</td>\n",
              "      <td>0</td>\n",
              "      <td>1</td>\n",
              "      <td>1</td>\n",
              "      <td>0</td>\n",
              "      <td>0</td>\n",
              "      <td>1</td>\n",
              "      <td>0</td>\n",
              "      <td>0</td>\n",
              "      <td>0</td>\n",
              "      <td>0</td>\n",
              "      <td>0</td>\n",
              "      <td>0</td>\n",
              "      <td>0</td>\n",
              "      <td>0</td>\n",
              "      <td>0</td>\n",
              "      <td>0</td>\n",
              "      <td>0</td>\n",
              "      <td>0</td>\n",
              "      <td>0</td>\n",
              "      <td>0</td>\n",
              "      <td>0</td>\n",
              "      <td>0</td>\n",
              "      <td>0</td>\n",
              "      <td>0</td>\n",
              "      <td>0</td>\n",
              "      <td>0</td>\n",
              "      <td>0</td>\n",
              "      <td>0</td>\n",
              "      <td>1</td>\n",
              "      <td>0</td>\n",
              "      <td>0</td>\n",
              "      <td>0</td>\n",
              "      <td>0</td>\n",
              "      <td>0</td>\n",
              "      <td>0</td>\n",
              "      <td>0</td>\n",
              "      <td>0</td>\n",
              "      <td>0</td>\n",
              "      <td>0</td>\n",
              "      <td>0</td>\n",
              "      <td>0</td>\n",
              "      <td>1</td>\n",
              "      <td>0.0</td>\n",
              "      <td>0</td>\n",
              "      <td>0</td>\n",
              "      <td>0</td>\n",
              "      <td>0</td>\n",
              "      <td>0</td>\n",
              "      <td>0</td>\n",
              "      <td>0</td>\n",
              "      <td>0</td>\n",
              "      <td>0</td>\n",
              "      <td>0</td>\n",
              "      <td>1</td>\n",
              "      <td>0</td>\n",
              "      <td>0</td>\n",
              "      <td>0</td>\n",
              "      <td>0</td>\n",
              "      <td>0</td>\n",
              "      <td>Blog/Medium do Data Hackers</td>\n",
              "      <td>0</td>\n",
              "      <td>0</td>\n",
              "      <td>0</td>\n",
              "      <td>0</td>\n",
              "      <td>0</td>\n",
              "      <td>0</td>\n",
              "      <td>0</td>\n",
              "      <td>0</td>\n",
              "      <td>0</td>\n",
              "      <td>0</td>\n",
              "      <td>1</td>\n",
              "      <td>1</td>\n",
              "      <td>1</td>\n",
              "      <td>1</td>\n",
              "      <td>0</td>\n",
              "      <td>0</td>\n",
              "      <td>0</td>\n",
              "      <td>0</td>\n",
              "      <td>0</td>\n",
              "      <td>0</td>\n",
              "      <td>0</td>\n",
              "      <td>Udemy</td>\n",
              "      <td>NaN</td>\n",
              "      <td>1.0</td>\n",
              "      <td>NaN</td>\n",
              "      <td>NaN</td>\n",
              "      <td>Computação / Engenharia de Software / Sistemas...</td>\n",
              "      <td>Internet/Ecommerce</td>\n",
              "      <td>C-level (CDO, CIO, CTO)</td>\n",
              "      <td>NaN</td>\n",
              "    </tr>\n",
              "  </tbody>\n",
              "</table>\n",
              "</div>"
            ],
            "text/plain": [
              "                       ('P0', 'id')  ('P1', 'age') ('P2', 'gender')  \\\n",
              "0  v9otv8j9wdvjrv9otvwnn9owhzq54ktv           37.0        Masculino   \n",
              "1  875ul998t0hqcv0871uptwf3oswcfv35           24.0         Feminino   \n",
              "2  puscuk079vw1pusbb900pzw2xvpxtgdk           26.0        Masculino   \n",
              "3  rmel8ewqpbffp2mnfbzermel8eqincov           21.0        Masculino   \n",
              "4  pj9mgud4d6mdct1l7vq0pj9mgu78h6ju           27.0        Masculino   \n",
              "\n",
              "   ('P3', 'living_in_brasil') ('P5', 'living_state')  \\\n",
              "0                           1      Minas Gerais (MG)   \n",
              "1                           1         São Paulo (SP)   \n",
              "2                           1         São Paulo (SP)   \n",
              "3                           1         São Paulo (SP)   \n",
              "4                           1                    NaN   \n",
              "\n",
              "   ('P6', 'born_or_graduated') ('P8', 'degreee_level')  \\\n",
              "0                          1.0  Estudante de Graduação   \n",
              "1                          1.0  Estudante de Graduação   \n",
              "2                          1.0   Graduação/Bacharelado   \n",
              "3                          0.0  Estudante de Graduação   \n",
              "4                          1.0   Graduação/Bacharelado   \n",
              "\n",
              "  ('P10', 'job_situation') ('P12', 'workers_number')  ('P13', 'manager')  \\\n",
              "0          Empregado (CTL)                  de 1 a 5                 0.0   \n",
              "1          Empregado (CTL)             Acima de 3000                 0.0   \n",
              "2          Empregado (CTL)             Acima de 3000                 0.0   \n",
              "3               Estagiário                de 11 a 50                 0.0   \n",
              "4               Freelancer                 de 6 a 10                 1.0   \n",
              "\n",
              "          ('P16', 'salary_range') ('P17', 'time_experience_data_science')  \\\n",
              "0  de R$ 1.001/mês a R$ 2.000/mês  Não tenho experiência na área de dados   \n",
              "1   de R$ 2.001/mês a R$ 3000/mês                          Menos de 1 ano   \n",
              "2  de R$ 4.001/mês a R$ 6.000/mês                           de 1 a 2 anos   \n",
              "3  de R$ 1.001/mês a R$ 2.000/mês                          Menos de 1 ano   \n",
              "4  de R$ 6.001/mês a R$ 8.000/mês                           de 4 a 5 anos   \n",
              "\n",
              "                   ('P18', 'time_experience_before')  \\\n",
              "0  Não tive experiência na área de TI/Engenharia ...   \n",
              "1  Não tive experiência na área de TI/Engenharia ...   \n",
              "2                                     de 6 a 10 anos   \n",
              "3                                      de 2 a 3 anos   \n",
              "4                                      de 4 a 5 anos   \n",
              "\n",
              "   ('P19', 'is_data_science_professional')  ('P20', 'linear_regression')  \\\n",
              "0                                        0                             0   \n",
              "1                                        1                             0   \n",
              "2                                        1                             0   \n",
              "3                                        1                             0   \n",
              "4                                        1                             1   \n",
              "\n",
              "   ('P20', 'logistic_regression')  ('P20', 'glms')  ('P20', 'decision_tree')  \\\n",
              "0                               0                0                         0   \n",
              "1                               0                0                         0   \n",
              "2                               0                0                         0   \n",
              "3                               0                0                         0   \n",
              "4                               0                0                         1   \n",
              "\n",
              "   ('P20', 'random_forest')  ('P20', 'neural_networks')  \\\n",
              "0                         0                           0   \n",
              "1                         0                           0   \n",
              "2                         1                           1   \n",
              "3                         1                           0   \n",
              "4                         1                           0   \n",
              "\n",
              "   ('P20', 'bayesian_inference')  ('P20', 'ensemble')  ('P20', 'svms')  \\\n",
              "0                              0                    0                0   \n",
              "1                              0                    0                0   \n",
              "2                              0                    1                1   \n",
              "3                              0                    0                0   \n",
              "4                              0                    1                1   \n",
              "\n",
              "   ('P20', 'cnns')  ('P20', 'rnns')  ('P20', 'hmms')  ('P20', 'gans')  \\\n",
              "0                0                0                0                0   \n",
              "1                0                0                0                0   \n",
              "2                0                0                0                0   \n",
              "3                0                0                0                0   \n",
              "4                0                1                0                0   \n",
              "\n",
              "   ('P20', 'markov_chains')  ('P20', 'nlp')  \\\n",
              "0                         0               0   \n",
              "1                         0               0   \n",
              "2                         0               0   \n",
              "3                         0               0   \n",
              "4                         0               1   \n",
              "\n",
              "   ('P20', 'gradient_boosted_machines')  ('P20', 'cluster_analysis')  \\\n",
              "0                                     0                            0   \n",
              "1                                     0                            0   \n",
              "2                                     0                            1   \n",
              "3                                     0                            0   \n",
              "4                                     0                            0   \n",
              "\n",
              "   ('P20', 'survival_analysis')  ('P20', 'longitudinal_data_analysis')  \\\n",
              "0                             0                                      0   \n",
              "1                             0                                      0   \n",
              "2                             0                                      0   \n",
              "3                             0                                      0   \n",
              "4                             0                                      0   \n",
              "\n",
              "   ('P20', 'joint analysis')  ('P20', 'no_listed_methods')  ('P21', 'sql_')  \\\n",
              "0                          0                             0                0   \n",
              "1                          0                             1                1   \n",
              "2                          0                             0                0   \n",
              "3                          0                             0                1   \n",
              "4                          0                             0                1   \n",
              "\n",
              "   ('P21', 'r')  ('P21', 'python')  ('P21', 'c_c++_c#')  ('P21', 'dotnet')  \\\n",
              "0             0                  0                    0                  0   \n",
              "1             0                  1                    0                  0   \n",
              "2             0                  1                    0                  0   \n",
              "3             0                  1                    0                  0   \n",
              "4             0                  1                    1                  0   \n",
              "\n",
              "   ('P21', 'java')  ('P21', 'julia')  ('P21', 'sas_stata')  \\\n",
              "0                0                 0                     0   \n",
              "1                0                 0                     0   \n",
              "2                0                 0                     0   \n",
              "3                0                 0                     0   \n",
              "4                0                 0                     0   \n",
              "\n",
              "   ('P21', 'visual_basic_vba')  ('P21', 'scala')  ('P21', 'matlab')  \\\n",
              "0                            0                 0                  0   \n",
              "1                            0                 0                  0   \n",
              "2                            0                 0                  0   \n",
              "3                            0                 0                  0   \n",
              "4                            0                 0                  0   \n",
              "\n",
              "   ('P21', 'php')  ('P21', 'no_listed_languages')  \\\n",
              "0               0                               0   \n",
              "1               0                               0   \n",
              "2               0                               0   \n",
              "3               0                               0   \n",
              "4               0                               0   \n",
              "\n",
              "  ('P22', 'most_used_proggraming_languages')  ('P23', 'sql')  \\\n",
              "0                                        NaN               0   \n",
              "1                                     Python               1   \n",
              "2                                     Python               0   \n",
              "3                                        SQL               1   \n",
              "4                                     Python               1   \n",
              "\n",
              "   ('P23', 'nosql')  ('P23', 'images')  ('P23', 'nlp')  ('P23', 'videos')  \\\n",
              "0                 0                  0               0                  0   \n",
              "1                 0                  0               0                  0   \n",
              "2                 0                  0               0                  0   \n",
              "3                 0                  0               0                  0   \n",
              "4                 1                  0               1                  0   \n",
              "\n",
              "   ('P23', 'sheets')  ('P23', 'other')  ('P24', 'sql')  ('P24', 'nosql')  \\\n",
              "0                  0                 0               0                 0   \n",
              "1                  0                 0               1                 0   \n",
              "2                  1                 0               0                 0   \n",
              "3                  0                 0               1                 0   \n",
              "4                  1                 0               0                 0   \n",
              "\n",
              "   ('P24', 'imagens')  ('P24', 'nlp')  ('P24', 'vídeos')  \\\n",
              "0                   0               0                  0   \n",
              "1                   0               0                  0   \n",
              "2                   0               0                  0   \n",
              "3                   0               0                  0   \n",
              "4                   0               1                  0   \n",
              "\n",
              "   ('P24', 'planilhas')  ('P24', 'other')  ('P25', 'aws')  ('P25', 'gcp')  \\\n",
              "0                     0                 0               0               0   \n",
              "1                     0                 0               1               0   \n",
              "2                     1                 0               0               0   \n",
              "3                     0                 0               1               0   \n",
              "4                     0                 0               0               0   \n",
              "\n",
              "   ('P25', 'azure')  ('P25', 'ibm')  ('P25', 'on_premise_servers')  \\\n",
              "0                 0               0                              0   \n",
              "1                 0               0                              0   \n",
              "2                 0               0                              0   \n",
              "3                 0               0                              0   \n",
              "4                 0               0                              0   \n",
              "\n",
              "   ('P25', 'cloud_própria')  ('P25', 'other')  ('P26', 'mysql')  \\\n",
              "0                         0                 0                 0   \n",
              "1                         0                 0                 0   \n",
              "2                         1                 0                 0   \n",
              "3                         0                 0                 0   \n",
              "4                         0                 1                 1   \n",
              "\n",
              "   ('P26', 'oracle')  ('P26', 'sql_server')  ('P26', 'aurora')  \\\n",
              "0                  0                      0                  0   \n",
              "1                  1                      0                  0   \n",
              "2                  0                      0                  0   \n",
              "3                  0                      0                  0   \n",
              "4                  0                      0                  0   \n",
              "\n",
              "   ('P26', 'dynamodb')  ('P26', 'coachdb')  ('P26', 'cassandra')  \\\n",
              "0                    0                   0                     0   \n",
              "1                    0                   0                     0   \n",
              "2                    0                   0                     0   \n",
              "3                    0                   0                     0   \n",
              "4                    0                   0                     0   \n",
              "\n",
              "   ('P26', 'mongodb')  ('P26', 'mariadb')  ('P26', 'datomic')  ('P26', 's3')  \\\n",
              "0                   0                   0                   0              0   \n",
              "1                   0                   0                   0              1   \n",
              "2                   0                   0                   0              0   \n",
              "3                   0                   0                   0              0   \n",
              "4                   1                   1                   0              0   \n",
              "\n",
              "   ('P26', 'postgresql')  ('P26', 'elaticsearch')  ('P26', 'db2')  \\\n",
              "0                      0                        0               0   \n",
              "1                      0                        0               0   \n",
              "2                      0                        0               0   \n",
              "3                      0                        0               0   \n",
              "4                      1                        1               0   \n",
              "\n",
              "   ('P26', 'ms_access')  ('P26', 'sqlite')  ('P26', 'sybase')  \\\n",
              "0                     0                  0                  0   \n",
              "1                     0                  0                  0   \n",
              "2                     0                  0                  0   \n",
              "3                     0                  0                  0   \n",
              "4                     0                  1                  0   \n",
              "\n",
              "   ('P26', 'firebase')  ('P26', 'vertica')  ('P26', 'redis')  \\\n",
              "0                    0                   0                 0   \n",
              "1                    0                   0                 0   \n",
              "2                    0                   0                 0   \n",
              "3                    0                   0                 0   \n",
              "4                    0                   0                 0   \n",
              "\n",
              "   ('P26', 'neo4j')  ('P26', 'google_bigtable')  ('P26', 'hbase')  \\\n",
              "0                 0                           0                 0   \n",
              "1                 0                           0                 0   \n",
              "2                 0                           0                 0   \n",
              "3                 0                           0                 0   \n",
              "4                 0                           0                 0   \n",
              "\n",
              "   ('P26', 'other')  ('P27', 'microsoft_powerbi')  \\\n",
              "0                 0                             0   \n",
              "1                 0                             1   \n",
              "2                 1                             0   \n",
              "3                 1                             0   \n",
              "4                 0                             0   \n",
              "\n",
              "   ('P27', 'qlik_view_qlik_sense')  ('P27', 'tableau')  ('P27', 'metabase')  \\\n",
              "0                                0                   0                    0   \n",
              "1                                0                   0                    0   \n",
              "2                                0                   1                    0   \n",
              "3                                0                   0                    0   \n",
              "4                                0                   0                    0   \n",
              "\n",
              "   ('P27', 'superset')  ('P27', 'redash')  ('P27', 'microstrategy')  \\\n",
              "0                    0                  0                         0   \n",
              "1                    0                  0                         0   \n",
              "2                    0                  0                         0   \n",
              "3                    0                  0                         0   \n",
              "4                    0                  0                         0   \n",
              "\n",
              "   ('P27', 'ibm_analytics_cognos')  ('P27', 'sap_business_objects')  \\\n",
              "0                                0                                0   \n",
              "1                                0                                0   \n",
              "2                                0                                0   \n",
              "3                                0                                0   \n",
              "4                                0                                0   \n",
              "\n",
              "   ('P27', 'oracle_business_intelligence')  ('P27', 'birst')  \\\n",
              "0                                        0                 0   \n",
              "1                                        0                 0   \n",
              "2                                        0                 0   \n",
              "3                                        0                 0   \n",
              "4                                        0                 0   \n",
              "\n",
              "   ('P27', 'looker')  ('P27', 'google_data_studio')  \\\n",
              "0                  0                              0   \n",
              "1                  0                              0   \n",
              "2                  0                              0   \n",
              "3                  0                              0   \n",
              "4                  0                              0   \n",
              "\n",
              "   ('P27', 'only_excel_gsheets')  ('P27', 'no_bi_tool_at_work')  \\\n",
              "0                              0                              0   \n",
              "1                              0                              0   \n",
              "2                              0                              0   \n",
              "3                              0                              0   \n",
              "4                              0                              1   \n",
              "\n",
              "   ('P27', 'other')  ('P28', 'sql_&_stored_procedures')  \\\n",
              "0                 0                                   0   \n",
              "1                 0                                   1   \n",
              "2                 0                                   0   \n",
              "3                 1                                   0   \n",
              "4                 0                                   0   \n",
              "\n",
              "   ('P28', 'apache_airflow')  ('P28', 'luigi')  ('P28', 'aws_glue')  \\\n",
              "0                          0                 0                    0   \n",
              "1                          0                 0                    0   \n",
              "2                          0                 0                    0   \n",
              "3                          0                 0                    0   \n",
              "4                          0                 0                    0   \n",
              "\n",
              "   ('P28', 'talend')  ('P28', 'pentaho')  ('P28', 'alteryx')  \\\n",
              "0                  0                   0                   0   \n",
              "1                  0                   0                   0   \n",
              "2                  0                   0                   0   \n",
              "3                  0                   1                   0   \n",
              "4                  0                   0                   0   \n",
              "\n",
              "   ('P28', 'oracle_data_integrator')  ('P28', 'ibm_data_stage')  \\\n",
              "0                                  0                          0   \n",
              "1                                  0                          0   \n",
              "2                                  0                          0   \n",
              "3                                  0                          0   \n",
              "4                                  0                          0   \n",
              "\n",
              "   ('P28', 'sap_bw_etl')  ('P28', 'siss_sql_server_integration_services')  \\\n",
              "0                      0                                                0   \n",
              "1                      0                                                0   \n",
              "2                      0                                                0   \n",
              "3                      0                                                0   \n",
              "4                      0                                                0   \n",
              "\n",
              "   ('P28', 'other')  ('P29', 'have_data_warehouse')  \\\n",
              "0                 0                             NaN   \n",
              "1                 0                             0.0   \n",
              "2                 1                             0.0   \n",
              "3                 0                             1.0   \n",
              "4                 1                             0.0   \n",
              "\n",
              "   ('P30', 'google_bigquery')  ('P30', 'aws_redshift')  ('P30', 'snowflake')  \\\n",
              "0                           0                        0                     0   \n",
              "1                           0                        0                     0   \n",
              "2                           0                        0                     0   \n",
              "3                           0                        1                     0   \n",
              "4                           0                        0                     0   \n",
              "\n",
              "   ('P30', 'oracle')  ('P30', 'postgres_mysql')  ('P30', 'ibm')  \\\n",
              "0                  0                          0               0   \n",
              "1                  0                          0               0   \n",
              "2                  0                          0               0   \n",
              "3                  0                          0               0   \n",
              "4                  0                          0               0   \n",
              "\n",
              "   ('P30', 'teradata')  ('P30', 'microsoft_azure')  ('P30', 'do_not_know')  \\\n",
              "0                    0                           0                       0   \n",
              "1                    0                           0                       0   \n",
              "2                    0                           0                       0   \n",
              "3                    0                           0                       0   \n",
              "4                    0                           0                       0   \n",
              "\n",
              "   ('P30', 'other')  ('P31', 'data_hackers_blog')  \\\n",
              "0                 0                             0   \n",
              "1                 0                             0   \n",
              "2                 0                             0   \n",
              "3                 0                             0   \n",
              "4                 0                             1   \n",
              "\n",
              "   ('P31', 'data_hackers_podcast')  ('P31', 'weekly_newsletter')  \\\n",
              "0                                0                             0   \n",
              "1                                0                             0   \n",
              "2                                1                             1   \n",
              "3                                0                             0   \n",
              "4                                0                             0   \n",
              "\n",
              "   ('P31', 'slack_channel')  ('P31', 'data_hackers_bootcamp')  \\\n",
              "0                         0                                 0   \n",
              "1                         0                                 0   \n",
              "2                         0                                 0   \n",
              "3                         0                                 0   \n",
              "4                         0                                 0   \n",
              "\n",
              "   ('P31', 'do_not_know_data_hackers')  \\\n",
              "0                                    1   \n",
              "1                                    1   \n",
              "2                                    0   \n",
              "3                                    1   \n",
              "4                                    0   \n",
              "\n",
              "  ('P32', 'prefered_data_hackers_initiative')  ('P33', 'telegram_groups')  \\\n",
              "0           Ainda não conhecia o Data Hackers                           0   \n",
              "1           Ainda não conhecia o Data Hackers                           0   \n",
              "2                          Newsletter Semanal                           0   \n",
              "3           Ainda não conhecia o Data Hackers                           0   \n",
              "4                 Blog/Medium do Data Hackers                           0   \n",
              "\n",
              "   ('P33', 'whatsapp_groups')  ('P33', 'youtube_channels')  \\\n",
              "0                           0                            1   \n",
              "1                           0                            1   \n",
              "2                           0                            0   \n",
              "3                           1                            0   \n",
              "4                           0                            0   \n",
              "\n",
              "   ('P33', 'other_brasilian_blogs')  ('P33', 'other_slack_channels')  \\\n",
              "0                                 0                                0   \n",
              "1                                 0                                0   \n",
              "2                                 1                                0   \n",
              "3                                 0                                0   \n",
              "4                                 0                                0   \n",
              "\n",
              "   ('P33', 'twitter')  ('P33', 'abroad_blogs')  ('P33', 'abroad_podcasts')  \\\n",
              "0                   0                        0                           0   \n",
              "1                   0                        0                           0   \n",
              "2                   0                        0                           0   \n",
              "3                   0                        0                           1   \n",
              "4                   0                        0                           0   \n",
              "\n",
              "   ('P33', 'meetups_and_events')  ('P33', 'only_data_hackers')  \\\n",
              "0                              0                             0   \n",
              "1                              0                             0   \n",
              "2                              0                             0   \n",
              "3                              0                             0   \n",
              "4                              0                             0   \n",
              "\n",
              "   ('P33', 'other')  ('P34', 'udacity')  ('P34', 'coursera')  \\\n",
              "0                 0                   0                    0   \n",
              "1                 0                   0                    0   \n",
              "2                 0                   0                    1   \n",
              "3                 0                   0                    1   \n",
              "4                 1                   1                    1   \n",
              "\n",
              "   ('P34', 'udemy')  ('P34', 'height')  ('P34', 'edx')  ('P34', 'data_camp')  \\\n",
              "0                 0                  0               0                     0   \n",
              "1                 1                  0               0                     0   \n",
              "2                 1                  0               0                     0   \n",
              "3                 1                  1               0                     0   \n",
              "4                 1                  0               0                     0   \n",
              "\n",
              "   ('P34', 'data_quest')  ('P34', 'kaggle_learn')  ('P34', 'online_courses')  \\\n",
              "0                      0                        0                          1   \n",
              "1                      0                        0                          0   \n",
              "2                      0                        1                          0   \n",
              "3                      0                        0                          0   \n",
              "4                      0                        0                          0   \n",
              "\n",
              "   ('P34', 'other') ('P35', 'data_science_plataforms_preference')  \\\n",
              "0                 0                       Nunca fiz cursos online   \n",
              "1                 1                                           NaN   \n",
              "2                 0                                         Udemy   \n",
              "3                 0                                         Alura   \n",
              "4                 0                                         Udemy   \n",
              "\n",
              "       ('P35', 'other')  ('P36', 'draw_participation')  \\\n",
              "0                   NaN                            1.0   \n",
              "1  Data Science Academy                            0.0   \n",
              "2                   NaN                            1.0   \n",
              "3                   NaN                            1.0   \n",
              "4                   NaN                            1.0   \n",
              "\n",
              "  ('D1', 'living_macroregion') ('D2', 'origin_macroregion')  \\\n",
              "0               Região Sudeste                          NaN   \n",
              "1               Região Sudeste                          NaN   \n",
              "2               Região Sudeste                          NaN   \n",
              "3               Região Sudeste               Região Sudeste   \n",
              "4                          NaN                          NaN   \n",
              "\n",
              "                    ('D3', 'anonymized_degree_area')  \\\n",
              "0  Computação / Engenharia de Software / Sistemas...   \n",
              "1  Computação / Engenharia de Software / Sistemas...   \n",
              "2                                 Outras Engenharias   \n",
              "3  Computação / Engenharia de Software / Sistemas...   \n",
              "4  Computação / Engenharia de Software / Sistemas...   \n",
              "\n",
              "  ('D4', 'anonymized_market_sector') ('D5', 'anonymized_manager_level')  \\\n",
              "0                             Outras                                NaN   \n",
              "1                           Educação                                NaN   \n",
              "2             Indústria (Manufatura)                                NaN   \n",
              "3     Tecnologia/Fábrica de Software                                NaN   \n",
              "4                 Internet/Ecommerce            C-level (CDO, CIO, CTO)   \n",
              "\n",
              "              ('D6', 'anonymized_role')  \n",
              "0                                Outras  \n",
              "1        Data Analyst/Analista de Dados  \n",
              "2                                Outras  \n",
              "3  Business Intelligence/Analista de BI  \n",
              "4                                   NaN  "
            ]
          },
          "metadata": {
            "tags": []
          },
          "execution_count": 7
        }
      ]
    },
    {
      "cell_type": "code",
      "metadata": {
        "colab": {
          "base_uri": "https://localhost:8080/"
        },
        "id": "BSJu0qoDi-xi",
        "outputId": "014573f7-ff40-44cf-d380-09ab4261f509"
      },
      "source": [
        "dados.info()"
      ],
      "execution_count": null,
      "outputs": [
        {
          "output_type": "stream",
          "text": [
            "<class 'pandas.core.frame.DataFrame'>\n",
            "RangeIndex: 1765 entries, 0 to 1764\n",
            "Columns: 170 entries, ('P0', 'id') to ('D6', 'anonymized_role')\n",
            "dtypes: float64(5), int64(146), object(19)\n",
            "memory usage: 2.3+ MB\n"
          ],
          "name": "stdout"
        }
      ]
    },
    {
      "cell_type": "code",
      "metadata": {
        "colab": {
          "base_uri": "https://localhost:8080/"
        },
        "id": "vER-z35ijBq4",
        "outputId": "74ea92a8-5b60-4d41-e975-c3c3eb34a517"
      },
      "source": [
        "dados.isnull().sum()"
      ],
      "execution_count": null,
      "outputs": [
        {
          "output_type": "execute_result",
          "data": {
            "text/plain": [
              "('P0', 'id')                             0\n",
              "('P1', 'age')                           24\n",
              "('P2', 'gender')                         3\n",
              "('P3', 'living_in_brasil')               0\n",
              "('P5', 'living_state')                 337\n",
              "                                      ... \n",
              "('D2', 'origin_macroregion')          1440\n",
              "('D3', 'anonymized_degree_area')        35\n",
              "('D4', 'anonymized_market_sector')     243\n",
              "('D5', 'anonymized_manager_level')    1460\n",
              "('D6', 'anonymized_role')              514\n",
              "Length: 170, dtype: int64"
            ]
          },
          "metadata": {
            "tags": []
          },
          "execution_count": 8
        }
      ]
    },
    {
      "cell_type": "code",
      "metadata": {
        "colab": {
          "base_uri": "https://localhost:8080/"
        },
        "id": "wmad39wBjKXg",
        "outputId": "0dae140a-ea4c-43c9-9033-fc1737cab211"
      },
      "source": [
        "dados.isnull().sum() != 0"
      ],
      "execution_count": null,
      "outputs": [
        {
          "output_type": "execute_result",
          "data": {
            "text/plain": [
              "('P0', 'id')                          False\n",
              "('P1', 'age')                          True\n",
              "('P2', 'gender')                       True\n",
              "('P3', 'living_in_brasil')            False\n",
              "('P5', 'living_state')                 True\n",
              "                                      ...  \n",
              "('D2', 'origin_macroregion')           True\n",
              "('D3', 'anonymized_degree_area')       True\n",
              "('D4', 'anonymized_market_sector')     True\n",
              "('D5', 'anonymized_manager_level')     True\n",
              "('D6', 'anonymized_role')              True\n",
              "Length: 170, dtype: bool"
            ]
          },
          "metadata": {
            "tags": []
          },
          "execution_count": 10
        }
      ]
    },
    {
      "cell_type": "code",
      "metadata": {
        "colab": {
          "base_uri": "https://localhost:8080/"
        },
        "id": "lSlzej5Vjiy6",
        "outputId": "97f7cc6b-bd02-4e2b-ca24-96793700e34f"
      },
      "source": [
        "dados.isnull().sum() [ dados.isnull().sum() != 0 ]"
      ],
      "execution_count": null,
      "outputs": [
        {
          "output_type": "execute_result",
          "data": {
            "text/plain": [
              "('P1', 'age')                                      24\n",
              "('P2', 'gender')                                    3\n",
              "('P5', 'living_state')                            337\n",
              "('P6', 'born_or_graduated')                        34\n",
              "('P12', 'workers_number')                         238\n",
              "('P13', 'manager')                                238\n",
              "('P16', 'salary_range')                           238\n",
              "('P22', 'most_used_proggraming_languages')        859\n",
              "('P29', 'have_data_warehouse')                    972\n",
              "('P35', 'data_science_plataforms_preference')     140\n",
              "('P35', 'other')                                 1625\n",
              "('P36', 'draw_participation')                       4\n",
              "('D1', 'living_macroregion')                      337\n",
              "('D2', 'origin_macroregion')                     1440\n",
              "('D3', 'anonymized_degree_area')                   35\n",
              "('D4', 'anonymized_market_sector')                243\n",
              "('D5', 'anonymized_manager_level')               1460\n",
              "('D6', 'anonymized_role')                         514\n",
              "dtype: int64"
            ]
          },
          "metadata": {
            "tags": []
          },
          "execution_count": 11
        }
      ]
    },
    {
      "cell_type": "code",
      "metadata": {
        "colab": {
          "base_uri": "https://localhost:8080/"
        },
        "id": "IsblOJRxj_oS",
        "outputId": "1881651f-f3dc-4766-8a7d-bdb94f617555"
      },
      "source": [
        "# checando dados faltantes\n",
        "(dados.isnull().sum() [ dados.isnull().sum() != 0 ] / dados.shape[0]).sort_values()"
      ],
      "execution_count": null,
      "outputs": [
        {
          "output_type": "execute_result",
          "data": {
            "text/plain": [
              "('P2', 'gender')                                 0.001700\n",
              "('P36', 'draw_participation')                    0.002266\n",
              "('P1', 'age')                                    0.013598\n",
              "('P6', 'born_or_graduated')                      0.019263\n",
              "('D3', 'anonymized_degree_area')                 0.019830\n",
              "('P35', 'data_science_plataforms_preference')    0.079320\n",
              "('P12', 'workers_number')                        0.134844\n",
              "('P13', 'manager')                               0.134844\n",
              "('P16', 'salary_range')                          0.134844\n",
              "('D4', 'anonymized_market_sector')               0.137677\n",
              "('P5', 'living_state')                           0.190935\n",
              "('D1', 'living_macroregion')                     0.190935\n",
              "('D6', 'anonymized_role')                        0.291218\n",
              "('P22', 'most_used_proggraming_languages')       0.486686\n",
              "('P29', 'have_data_warehouse')                   0.550708\n",
              "('D2', 'origin_macroregion')                     0.815864\n",
              "('D5', 'anonymized_manager_level')               0.827195\n",
              "('P35', 'other')                                 0.920680\n",
              "dtype: float64"
            ]
          },
          "metadata": {
            "tags": []
          },
          "execution_count": 12
        }
      ]
    },
    {
      "cell_type": "code",
      "metadata": {
        "colab": {
          "base_uri": "https://localhost:8080/"
        },
        "id": "5f0NEBr8iRbB",
        "outputId": "950c298d-c1d7-42df-9aab-83d148b74533"
      },
      "source": [
        "dados[\"('D6', 'anonymized_role')\"]"
      ],
      "execution_count": null,
      "outputs": [
        {
          "output_type": "execute_result",
          "data": {
            "text/plain": [
              "0                                      Outras\n",
              "1              Data Analyst/Analista de Dados\n",
              "2                                      Outras\n",
              "3        Business Intelligence/Analista de BI\n",
              "4                                         NaN\n",
              "                        ...                  \n",
              "1760                                      NaN\n",
              "1761    Business Analyst/Analista de Negócios\n",
              "1762        Data Engineer/Engenheiro de Dados\n",
              "1763        Data Engineer/Engenheiro de Dados\n",
              "1764                              Estatístico\n",
              "Name: ('D6', 'anonymized_role'), Length: 1765, dtype: object"
            ]
          },
          "metadata": {
            "tags": []
          },
          "execution_count": 14
        }
      ]
    },
    {
      "cell_type": "code",
      "metadata": {
        "colab": {
          "base_uri": "https://localhost:8080/"
        },
        "id": "shv0L-a-kGzS",
        "outputId": "6cd4adaf-88fa-4b8d-ad28-ddf9f1d42b1a"
      },
      "source": [
        "dados[\"('D6', 'anonymized_role')\"].value_counts()"
      ],
      "execution_count": null,
      "outputs": [
        {
          "output_type": "execute_result",
          "data": {
            "text/plain": [
              "Desenvolvedor ou Engenheiro de Software    225\n",
              "Outras                                     220\n",
              "Data Scientist/Cientista de Dados          167\n",
              "Data Analyst/Analista de Dados             163\n",
              "Business Intelligence/Analista de BI       150\n",
              "Data Engineer/Engenheiro de Dados          130\n",
              "Business Analyst/Analista de Negócios       72\n",
              "Analista de Inteligência de Mercado         29\n",
              "Engenheiro                                  26\n",
              "Analista de Marketing                       19\n",
              "Engenheiro de Machine Learning              15\n",
              "DBA/Administrador de Banco de Dados         14\n",
              "Estatístico                                 11\n",
              "Economista                                  10\n",
              "Name: ('D6', 'anonymized_role'), dtype: int64"
            ]
          },
          "metadata": {
            "tags": []
          },
          "execution_count": 11
        }
      ]
    },
    {
      "cell_type": "code",
      "metadata": {
        "colab": {
          "base_uri": "https://localhost:8080/"
        },
        "id": "3unKN78NkzKP",
        "outputId": "3fce8357-0528-4931-cd78-328e22a40982"
      },
      "source": [
        "dados[\"('P16', 'salary_range')\"].value_counts()"
      ],
      "execution_count": null,
      "outputs": [
        {
          "output_type": "execute_result",
          "data": {
            "text/plain": [
              "de R$ 4.001/mês a R$ 6.000/mês      308\n",
              "de R$ 8.001/mês a R$ 12.000/mês     237\n",
              "de R$ 6.001/mês a R$ 8.000/mês      229\n",
              "de R$ 3.001/mês a R$ 4.000/mês      219\n",
              "de R$ 1.001/mês a R$ 2.000/mês      181\n",
              "de R$ 2.001/mês a R$ 3000/mês       150\n",
              "de R$ 12.001/mês a R$ 16.000/mês     82\n",
              "Menos de R$ 1.000/mês                48\n",
              "de R$ 16.001/mês a R$ 20.000/mês     45\n",
              "de R$ 20.001/mês a R$ 25.000/mês     15\n",
              "Acima de R$ 25.001/mês               13\n",
              "Name: ('P16', 'salary_range'), dtype: int64"
            ]
          },
          "metadata": {
            "tags": []
          },
          "execution_count": 12
        }
      ]
    },
    {
      "cell_type": "code",
      "metadata": {
        "colab": {
          "base_uri": "https://localhost:8080/",
          "height": 283
        },
        "id": "PUsJ1AT6oXOl",
        "outputId": "51b2450e-8e68-4337-fd8d-3a2e98c01d04"
      },
      "source": [
        "dados[\"('P1', 'age')\"].plot(kind = 'hist', edgecolor = 'darkblue')"
      ],
      "execution_count": null,
      "outputs": [
        {
          "output_type": "execute_result",
          "data": {
            "text/plain": [
              "<matplotlib.axes._subplots.AxesSubplot at 0x7f3cbc41fc10>"
            ]
          },
          "metadata": {
            "tags": []
          },
          "execution_count": 13
        },
        {
          "output_type": "display_data",
          "data": {
            "image/png": "[encoded data removed]",
            "text/plain": [
              "<Figure size 432x288 with 1 Axes>"
            ]
          },
          "metadata": {
            "tags": [],
            "needs_background": "light"
          }
        }
      ]
    },
    {
      "cell_type": "code",
      "metadata": {
        "colab": {
          "base_uri": "https://localhost:8080/"
        },
        "id": "K27eERZFopP5",
        "outputId": "6e703449-c731-4bdb-c8d8-43b5376017c1"
      },
      "source": [
        "dados[\"('P1', 'age')\"].describe()"
      ],
      "execution_count": null,
      "outputs": [
        {
          "output_type": "execute_result",
          "data": {
            "text/plain": [
              "count    1741.000000\n",
              "mean       29.800689\n",
              "std         6.595795\n",
              "min        18.000000\n",
              "25%        25.000000\n",
              "50%        29.000000\n",
              "75%        34.000000\n",
              "max        50.000000\n",
              "Name: ('P1', 'age'), dtype: float64"
            ]
          },
          "metadata": {
            "tags": []
          },
          "execution_count": 14
        }
      ]
    },
    {
      "cell_type": "code",
      "metadata": {
        "colab": {
          "base_uri": "https://localhost:8080/"
        },
        "id": "Zaarnv1Co7iq",
        "outputId": "b12e3aa9-25ab-493a-f1c3-3b811b106573"
      },
      "source": [
        "dados[\"('P17', 'time_experience_data_science')\"].value_counts()"
      ],
      "execution_count": null,
      "outputs": [
        {
          "output_type": "execute_result",
          "data": {
            "text/plain": [
              "Menos de 1 ano                            445\n",
              "de 1 a 2 anos                             343\n",
              "de 2 a 3 anos                             244\n",
              "Não tenho experiência na área de dados    221\n",
              "de 4 a 5 anos                             186\n",
              "de 6 a 10 anos                            179\n",
              "Mais de 10 anos                           147\n",
              "Name: ('P17', 'time_experience_data_science'), dtype: int64"
            ]
          },
          "metadata": {
            "tags": []
          },
          "execution_count": 15
        }
      ]
    },
    {
      "cell_type": "code",
      "metadata": {
        "colab": {
          "base_uri": "https://localhost:8080/",
          "height": 282
        },
        "id": "PHoNXGdHpI6U",
        "outputId": "c31e7eb5-f785-4372-9c00-b6ddfc48ec0a"
      },
      "source": [
        "dados[\"('P17', 'time_experience_data_science')\"].value_counts().plot(kind = 'barh')"
      ],
      "execution_count": null,
      "outputs": [
        {
          "output_type": "execute_result",
          "data": {
            "text/plain": [
              "<matplotlib.axes._subplots.AxesSubplot at 0x7f3cbc367290>"
            ]
          },
          "metadata": {
            "tags": []
          },
          "execution_count": 16
        },
        {
          "output_type": "display_data",
          "data": {
            "image/png": "[encoded data removed]",
            "text/plain": [
              "<Figure size 432x288 with 1 Axes>"
            ]
          },
          "metadata": {
            "tags": [],
            "needs_background": "light"
          }
        }
      ]
    },
    {
      "cell_type": "code",
      "metadata": {
        "id": "qEde5jJGpjjy"
      },
      "source": [
        "# Agrupando profissões com dicionário\n",
        "profmap = {'Desenvolvedor ou Engenheiro de Software': 'Desenvolvedor/Engenheiro de Software', \n",
        "                                            'Outras': 'Outras',\n",
        "                 'Data Scientist/Cientista de Dados': 'Cientista de Dados',\n",
        "                    'Data Analyst/Analista de Dados': 'Analista de Dados',\n",
        "              'Business Intelligence/Analista de BI': 'Analista de BI',\n",
        "                 'Data Engineer/Engenheiro de Dados': 'Engenheiro de Dados',\n",
        "             'Business Analyst/Analista de Negócios': 'Analista de BI',\n",
        "               'Analista de Inteligência de Mercado': 'Analista de BI',\n",
        "                                        'Engenheiro': 'Outras',\n",
        "                             'Analista de Marketing': 'Outras',\n",
        "                    'Engenheiro de Machine Learning': 'Cientista de Dados',\n",
        "               'DBA/Administrador de Banco de Dados': 'Engenheiro de Dados',\n",
        "                                       'Estatístico': 'Cientista de Dados',\n",
        "                                        'Economista': 'Outras'}"
      ],
      "execution_count": null,
      "outputs": []
    },
    {
      "cell_type": "code",
      "metadata": {
        "colab": {
          "base_uri": "https://localhost:8080/"
        },
        "id": "4P5UZIgrv0rd",
        "outputId": "84e990d8-962c-4d73-947f-5fa8de07e53c"
      },
      "source": [
        "profmap"
      ],
      "execution_count": null,
      "outputs": [
        {
          "output_type": "execute_result",
          "data": {
            "text/plain": [
              "{'Analista de Inteligência de Mercado': 'Analista de BI',\n",
              " 'Analista de Marketing': 'Outras',\n",
              " 'Business Analyst/Analista de Negócios': 'Analista de BI',\n",
              " 'Business Intelligence/Analista de BI': 'Analista de BI',\n",
              " 'DBA/Administrador de Banco de Dados': 'Engenheiro de Dados',\n",
              " 'Data Analyst/Analista de Dados': 'Analista de Dados',\n",
              " 'Data Engineer/Engenheiro de Dados': 'Engenheiro de Dados',\n",
              " 'Data Scientist/Cientista de Dados': 'Cientista de Dados',\n",
              " 'Desenvolvedor ou Engenheiro de Software': 'Desenvolvedor/Engenheiro de Software',\n",
              " 'Economista': 'Outras',\n",
              " 'Engenheiro': 'Outras',\n",
              " 'Engenheiro de Machine Learning': 'Cientista de Dados',\n",
              " 'Estatístico': 'Cientista de Dados',\n",
              " 'Outras': 'Outras'}"
            ]
          },
          "metadata": {
            "tags": []
          },
          "execution_count": 22
        }
      ]
    },
    {
      "cell_type": "code",
      "metadata": {
        "id": "sEs_qUJGqejf"
      },
      "source": [
        "# Criando a coluna \"profissao\" utilizando a variável \"D6\" como ref para função map.\n",
        "dados['profissao'] = dados[\"('D6', 'anonymized_role')\"].map(profmap)"
      ],
      "execution_count": null,
      "outputs": []
    },
    {
      "cell_type": "code",
      "metadata": {
        "colab": {
          "base_uri": "https://localhost:8080/"
        },
        "id": "CqiuTpttvEsw",
        "outputId": "6a5f4920-2172-4c0e-8504-b1a531673eaf"
      },
      "source": [
        "dados['profissao']"
      ],
      "execution_count": null,
      "outputs": [
        {
          "output_type": "execute_result",
          "data": {
            "text/plain": [
              "0                    Outras\n",
              "1         Analista de Dados\n",
              "2                    Outras\n",
              "3            Analista de BI\n",
              "4                       NaN\n",
              "               ...         \n",
              "1760                    NaN\n",
              "1761         Analista de BI\n",
              "1762    Engenheiro de Dados\n",
              "1763    Engenheiro de Dados\n",
              "1764     Cientista de Dados\n",
              "Name: profissao, Length: 1765, dtype: object"
            ]
          },
          "metadata": {
            "tags": []
          },
          "execution_count": 23
        }
      ]
    },
    {
      "cell_type": "code",
      "metadata": {
        "id": "s7fmFfYjv_Zt"
      },
      "source": [
        "# Criando tamanho da empresa\n",
        "tammap = {'de 1 a 5': 'Pequena',\n",
        "          'de 6 a 10': 'Pequena',\n",
        "          'de 11 a 50': 'Pequena',\n",
        "          'de 51 a 100': 'Pequena',\n",
        "          'de 101 a 500': 'Média',\n",
        "          'de 501 a 1000': 'Média',\n",
        "          'de 1001 a 3000': 'Grande',\n",
        "          'de 3001 a 5000': 'Grande'}"
      ],
      "execution_count": null,
      "outputs": []
    },
    {
      "cell_type": "code",
      "metadata": {
        "id": "a6lMlLIxyw9o"
      },
      "source": [
        "# Recategorizando experiência\n",
        "temp_xp_ds = {'Menos de 1 ano': 'Até 1 ano',\n",
        "              'Não tenho experiência na área de dados': 'Até 1 ano',\n",
        "              'de 1 a 2 anos': 'de 1 a 3 anos',\n",
        "              'de 2 a 3 anos': 'de 1 a 3 anos',\n",
        "              'de 4 a 5 anos': 'de 3 a 5 anos',\n",
        "              'de 6 a 10 anos': 'Maior que 5 anos',\n",
        "              'Mais de 10 anos': 'Maior que 5 anos'}"
      ],
      "execution_count": null,
      "outputs": []
    },
    {
      "cell_type": "code",
      "metadata": {
        "id": "b9g6EE0C10iA"
      },
      "source": [
        "# Discretizando Salário\n",
        "salamap = {'Menos de R$ 1.000/mês': 1000,\n",
        "           'de R$ 1.001/mês a R$ 2.000/mês': 1500,\n",
        "           'de R$ 2.001/mês a R$ 3.000/mês': 2500,\n",
        "           'de R$ 3.001/mês a R$ 4.000/mês': 3500,\n",
        "           'de R$ 4.001/mês a R$ 6.000/mês': 5000,\n",
        "           'de R$ 6.001/mês a R$ 8.000/mês': 7000,\n",
        "           'de R$ 8.001/mês a R$ 12.000/mês': 10000,\n",
        "           'de R$ 12.001/mês a R$ 16.000/mês': 14000,\n",
        "           'de R$ 16.001/mês a R$ 20.000/mês': 18000,\n",
        "           'de R$ 20.001/mês a R$ 25.000/mês': 22500,\n",
        "           'acima de R$ 25.001/mês': 25000}"
      ],
      "execution_count": null,
      "outputs": []
    },
    {
      "cell_type": "code",
      "metadata": {
        "id": "fnWIHOvG3-ze"
      },
      "source": [
        "# Discretizando Idade\n",
        "cortes = [0, 24, 30, 40, 100]\n",
        "nomes = ['[18,24]', '[25,30]', '[31,40]', '[41,50]']"
      ],
      "execution_count": null,
      "outputs": []
    },
    {
      "cell_type": "markdown",
      "metadata": {
        "id": "M6lPVlS56Cjz"
      },
      "source": [
        "# Criando um novo dataset com as informações de maior interesse\n",
        "Essa não é uma boa prática, mas é viável devido ao conjunto de dados ser pequeno.\n",
        "O ideal seria renomear as variáveis."
      ]
    },
    {
      "cell_type": "code",
      "metadata": {
        "colab": {
          "base_uri": "https://localhost:8080/"
        },
        "id": "lf-BF5_X1dY_",
        "outputId": "0b1c2154-f769-4b02-d711-098e2de08305"
      },
      "source": [
        "dados['idade'] = pd.cut(dados[\"('P1', 'age')\"], bins = cortes, labels = nomes)\n",
        "dados['idade']"
      ],
      "execution_count": null,
      "outputs": [
        {
          "output_type": "execute_result",
          "data": {
            "text/plain": [
              "0       [31,40]\n",
              "1       [18,24]\n",
              "2       [25,30]\n",
              "3       [18,24]\n",
              "4       [25,30]\n",
              "         ...   \n",
              "1760    [18,24]\n",
              "1761    [31,40]\n",
              "1762    [31,40]\n",
              "1763    [25,30]\n",
              "1764    [18,24]\n",
              "Name: idade, Length: 1765, dtype: category\n",
              "Categories (4, object): ['[18,24]' < '[25,30]' < '[31,40]' < '[41,50]']"
            ]
          },
          "metadata": {
            "tags": []
          },
          "execution_count": 33
        }
      ]
    },
    {
      "cell_type": "code",
      "metadata": {
        "id": "C8eLRFdi55cq"
      },
      "source": [
        "dados['salario'] = dados[\"('P16', 'salary_range')\"].map(salamap)\n",
        "dados['tamanho_da_empresa'] = dados[\"('P12', 'workers_number')\"].map(tammap)\n",
        "dados['gestor'] = dados[\"('P13', 'manager')\"].map({0: 'não', 1: 'sim'})\n",
        "dados['se_considera_ds'] = dados[\"('P19', 'is_data_science_professional')\"].map({0: 'não', 1: 'sim'})\n",
        "dados['sexo'] = dados[\"('P2', 'gender')\"]\n",
        "dados['experiencia_ds'] = dados[\"('P17', 'time_experience_data_science')\"].map(temp_xp_ds)\n",
        "dados['tipo_de_trabalho'] = dados[\"('P10', 'job_situation')\"]\n",
        "dados['area_de_formacao'] = dados[\"('D3', 'anonymized_degree_area')\"]\n",
        "dados['setor_de_mercado'] = dados[\"('D4', 'anonymized_market_sector')\"]\n",
        "dados['plataforma_favorita'] = dados[\"('P35\\', \\'data_science_plataforms_preference\\')\"]"
      ],
      "execution_count": null,
      "outputs": []
    },
    {
      "cell_type": "markdown",
      "metadata": {
        "id": "0hqVV6cZ7e5-"
      },
      "source": [
        "Criando um conjunto de dados conveniente através de alguns filtros"
      ]
    },
    {
      "cell_type": "code",
      "metadata": {
        "id": "VGGrM9h87oTj"
      },
      "source": [
        "# Profissões de dados\n",
        "lista = ['Cientista de Dados', 'Analista de Dados', 'Analista de BI', 'Engenheiro de Dados']"
      ],
      "execution_count": null,
      "outputs": []
    },
    {
      "cell_type": "code",
      "metadata": {
        "id": "_RRnmI7Z7rYx"
      },
      "source": [
        "pds = dados[dados['profissao'].isin(lista)]"
      ],
      "execution_count": null,
      "outputs": []
    },
    {
      "cell_type": "code",
      "metadata": {
        "id": "gzrz5MeU71hD"
      },
      "source": [
        "cds = dados[dados['profissao'] == 'Cientista de Dados']\n",
        "ads = dados[dados['profissao'] == 'Analista de Dados']\n",
        "abi = dados[dados['profissao'] == 'Analista de BI']\n",
        "eds = dados[dados['profissao'] == 'Engenheiro de Dados']"
      ],
      "execution_count": null,
      "outputs": []
    },
    {
      "cell_type": "code",
      "metadata": {
        "colab": {
          "base_uri": "https://localhost:8080/"
        },
        "id": "Fus5d_Qi75AA",
        "outputId": "38945929-b4b5-425b-c3f4-e94c4ff33d85"
      },
      "source": [
        "cds.shape"
      ],
      "execution_count": null,
      "outputs": [
        {
          "output_type": "execute_result",
          "data": {
            "text/plain": [
              "(193, 183)"
            ]
          },
          "metadata": {
            "tags": []
          },
          "execution_count": 53
        }
      ]
    },
    {
      "cell_type": "code",
      "metadata": {
        "colab": {
          "base_uri": "https://localhost:8080/"
        },
        "id": "rdvnjL1cOULM",
        "outputId": "1d87d640-1b13-4132-efc2-f450bedffd7e"
      },
      "source": [
        "cds['salario'].describe()"
      ],
      "execution_count": null,
      "outputs": [
        {
          "output_type": "execute_result",
          "data": {
            "text/plain": [
              "count      176.000000\n",
              "mean      6994.318182\n",
              "std       4369.697157\n",
              "min       1000.000000\n",
              "25%       3500.000000\n",
              "50%       5000.000000\n",
              "75%      10000.000000\n",
              "max      22500.000000\n",
              "Name: salario, dtype: float64"
            ]
          },
          "metadata": {
            "tags": []
          },
          "execution_count": 55
        }
      ]
    },
    {
      "cell_type": "code",
      "metadata": {
        "colab": {
          "base_uri": "https://localhost:8080/"
        },
        "id": "Z4ORgzVBPcVY",
        "outputId": "d3cbe19c-fa68-411e-a525-e77f5dcb6286"
      },
      "source": [
        "cds['salario'].groupby(cds['experiencia_ds']).mean()"
      ],
      "execution_count": null,
      "outputs": [
        {
          "output_type": "execute_result",
          "data": {
            "text/plain": [
              "experiencia_ds\n",
              "Até 1 ano            3842.857143\n",
              "Maior que 5 anos    11590.909091\n",
              "de 1 a 3 anos        6186.170213\n",
              "de 3 a 5 anos       10400.000000\n",
              "Name: salario, dtype: float64"
            ]
          },
          "metadata": {
            "tags": []
          },
          "execution_count": 56
        }
      ]
    },
    {
      "cell_type": "code",
      "metadata": {
        "colab": {
          "base_uri": "https://localhost:8080/"
        },
        "id": "vHpBR7l7QqQo",
        "outputId": "b33aff0f-d8f7-457a-f016-c33ca014c6b0"
      },
      "source": [
        "cds['salario'].groupby(cds['experiencia_ds']).count()"
      ],
      "execution_count": null,
      "outputs": [
        {
          "output_type": "execute_result",
          "data": {
            "text/plain": [
              "experiencia_ds\n",
              "Até 1 ano           35\n",
              "Maior que 5 anos    22\n",
              "de 1 a 3 anos       94\n",
              "de 3 a 5 anos       25\n",
              "Name: salario, dtype: int64"
            ]
          },
          "metadata": {
            "tags": []
          },
          "execution_count": 57
        }
      ]
    },
    {
      "cell_type": "code",
      "metadata": {
        "colab": {
          "base_uri": "https://localhost:8080/",
          "height": 204
        },
        "id": "Z4BAdpT_Qsrf",
        "outputId": "d8eb8cec-010f-4066-8f45-32fc1a8bc738"
      },
      "source": [
        "cds['salario'].groupby(cds['experiencia_ds']).describe()[['count', 'mean']].round(2)"
      ],
      "execution_count": null,
      "outputs": [
        {
          "output_type": "execute_result",
          "data": {
            "text/html": [
              "<div>\n",
              "<style scoped>\n",
              "    .dataframe tbody tr th:only-of-type {\n",
              "        vertical-align: middle;\n",
              "    }\n",
              "\n",
              "    .dataframe tbody tr th {\n",
              "        vertical-align: top;\n",
              "    }\n",
              "\n",
              "    .dataframe thead th {\n",
              "        text-align: right;\n",
              "    }\n",
              "</style>\n",
              "<table border=\"1\" class=\"dataframe\">\n",
              "  <thead>\n",
              "    <tr style=\"text-align: right;\">\n",
              "      <th></th>\n",
              "      <th>count</th>\n",
              "      <th>mean</th>\n",
              "    </tr>\n",
              "    <tr>\n",
              "      <th>experiencia_ds</th>\n",
              "      <th></th>\n",
              "      <th></th>\n",
              "    </tr>\n",
              "  </thead>\n",
              "  <tbody>\n",
              "    <tr>\n",
              "      <th>Até 1 ano</th>\n",
              "      <td>35.0</td>\n",
              "      <td>3842.86</td>\n",
              "    </tr>\n",
              "    <tr>\n",
              "      <th>Maior que 5 anos</th>\n",
              "      <td>22.0</td>\n",
              "      <td>11590.91</td>\n",
              "    </tr>\n",
              "    <tr>\n",
              "      <th>de 1 a 3 anos</th>\n",
              "      <td>94.0</td>\n",
              "      <td>6186.17</td>\n",
              "    </tr>\n",
              "    <tr>\n",
              "      <th>de 3 a 5 anos</th>\n",
              "      <td>25.0</td>\n",
              "      <td>10400.00</td>\n",
              "    </tr>\n",
              "  </tbody>\n",
              "</table>\n",
              "</div>"
            ],
            "text/plain": [
              "                  count      mean\n",
              "experiencia_ds                   \n",
              "Até 1 ano          35.0   3842.86\n",
              "Maior que 5 anos   22.0  11590.91\n",
              "de 1 a 3 anos      94.0   6186.17\n",
              "de 3 a 5 anos      25.0  10400.00"
            ]
          },
          "metadata": {
            "tags": []
          },
          "execution_count": 60
        }
      ]
    },
    {
      "cell_type": "code",
      "metadata": {
        "colab": {
          "base_uri": "https://localhost:8080/",
          "height": 142
        },
        "id": "rprOm01YRTyu",
        "outputId": "f9a3382f-3f19-4d47-8bb2-443fd4c338b3"
      },
      "source": [
        "cds['salario'].groupby(cds['sexo']).describe()[['count', 'mean']].round(2)"
      ],
      "execution_count": null,
      "outputs": [
        {
          "output_type": "execute_result",
          "data": {
            "text/html": [
              "<div>\n",
              "<style scoped>\n",
              "    .dataframe tbody tr th:only-of-type {\n",
              "        vertical-align: middle;\n",
              "    }\n",
              "\n",
              "    .dataframe tbody tr th {\n",
              "        vertical-align: top;\n",
              "    }\n",
              "\n",
              "    .dataframe thead th {\n",
              "        text-align: right;\n",
              "    }\n",
              "</style>\n",
              "<table border=\"1\" class=\"dataframe\">\n",
              "  <thead>\n",
              "    <tr style=\"text-align: right;\">\n",
              "      <th></th>\n",
              "      <th>count</th>\n",
              "      <th>mean</th>\n",
              "    </tr>\n",
              "    <tr>\n",
              "      <th>sexo</th>\n",
              "      <th></th>\n",
              "      <th></th>\n",
              "    </tr>\n",
              "  </thead>\n",
              "  <tbody>\n",
              "    <tr>\n",
              "      <th>Feminino</th>\n",
              "      <td>28.0</td>\n",
              "      <td>6125.00</td>\n",
              "    </tr>\n",
              "    <tr>\n",
              "      <th>Masculino</th>\n",
              "      <td>147.0</td>\n",
              "      <td>7200.68</td>\n",
              "    </tr>\n",
              "  </tbody>\n",
              "</table>\n",
              "</div>"
            ],
            "text/plain": [
              "           count     mean\n",
              "sexo                     \n",
              "Feminino    28.0  6125.00\n",
              "Masculino  147.0  7200.68"
            ]
          },
          "metadata": {
            "tags": []
          },
          "execution_count": 61
        }
      ]
    },
    {
      "cell_type": "code",
      "metadata": {
        "colab": {
          "base_uri": "https://localhost:8080/"
        },
        "id": "NDgwz-22Sq-f",
        "outputId": "9060bf79-4e32-4aa4-ca47-91fc8801b96a"
      },
      "source": [
        "cds.groupby(['sexo', 'tamanho_da_empresa']).mean()['salario'].round(2)"
      ],
      "execution_count": null,
      "outputs": [
        {
          "output_type": "execute_result",
          "data": {
            "text/plain": [
              "sexo       tamanho_da_empresa\n",
              "Feminino   Grande                9666.67\n",
              "           Média                 5733.33\n",
              "           Pequena               4000.00\n",
              "Masculino  Grande                6625.00\n",
              "           Média                 8141.51\n",
              "           Pequena               5409.09\n",
              "Name: salario, dtype: float64"
            ]
          },
          "metadata": {
            "tags": []
          },
          "execution_count": 62
        }
      ]
    },
    {
      "cell_type": "code",
      "metadata": {
        "colab": {
          "base_uri": "https://localhost:8080/",
          "height": 142
        },
        "id": "WId4W0xXTL0h",
        "outputId": "7945cb52-1816-4478-8481-ea35c5d22507"
      },
      "source": [
        "cds.groupby(['sexo', 'tamanho_da_empresa']).count()['salario'].round(2).unstack()"
      ],
      "execution_count": null,
      "outputs": [
        {
          "output_type": "execute_result",
          "data": {
            "text/html": [
              "<div>\n",
              "<style scoped>\n",
              "    .dataframe tbody tr th:only-of-type {\n",
              "        vertical-align: middle;\n",
              "    }\n",
              "\n",
              "    .dataframe tbody tr th {\n",
              "        vertical-align: top;\n",
              "    }\n",
              "\n",
              "    .dataframe thead th {\n",
              "        text-align: right;\n",
              "    }\n",
              "</style>\n",
              "<table border=\"1\" class=\"dataframe\">\n",
              "  <thead>\n",
              "    <tr style=\"text-align: right;\">\n",
              "      <th>tamanho_da_empresa</th>\n",
              "      <th>Grande</th>\n",
              "      <th>Média</th>\n",
              "      <th>Pequena</th>\n",
              "    </tr>\n",
              "    <tr>\n",
              "      <th>sexo</th>\n",
              "      <th></th>\n",
              "      <th></th>\n",
              "      <th></th>\n",
              "    </tr>\n",
              "  </thead>\n",
              "  <tbody>\n",
              "    <tr>\n",
              "      <th>Feminino</th>\n",
              "      <td>3</td>\n",
              "      <td>15</td>\n",
              "      <td>6</td>\n",
              "    </tr>\n",
              "    <tr>\n",
              "      <th>Masculino</th>\n",
              "      <td>12</td>\n",
              "      <td>53</td>\n",
              "      <td>44</td>\n",
              "    </tr>\n",
              "  </tbody>\n",
              "</table>\n",
              "</div>"
            ],
            "text/plain": [
              "tamanho_da_empresa  Grande  Média  Pequena\n",
              "sexo                                      \n",
              "Feminino                 3     15        6\n",
              "Masculino               12     53       44"
            ]
          },
          "metadata": {
            "tags": []
          },
          "execution_count": 64
        }
      ]
    },
    {
      "cell_type": "markdown",
      "metadata": {
        "id": "X9JTwklrTOcV"
      },
      "source": [
        "### Pergunta_20 (P20) = Quais dos métodos listados abaixo você costuma utilizar no trabalho?"
      ]
    },
    {
      "cell_type": "code",
      "metadata": {
        "colab": {
          "base_uri": "https://localhost:8080/",
          "height": 473
        },
        "id": "vPMyYlyqWHCZ",
        "outputId": "b3f1ba3b-b1ab-4ef1-dba5-5063261cf859"
      },
      "source": [
        "# Olhando apenas para Cientista de Dados\n",
        "cds.filter(regex = 'P20')"
      ],
      "execution_count": null,
      "outputs": [
        {
          "output_type": "execute_result",
          "data": {
            "text/html": [
              "<div>\n",
              "<style scoped>\n",
              "    .dataframe tbody tr th:only-of-type {\n",
              "        vertical-align: middle;\n",
              "    }\n",
              "\n",
              "    .dataframe tbody tr th {\n",
              "        vertical-align: top;\n",
              "    }\n",
              "\n",
              "    .dataframe thead th {\n",
              "        text-align: right;\n",
              "    }\n",
              "</style>\n",
              "<table border=\"1\" class=\"dataframe\">\n",
              "  <thead>\n",
              "    <tr style=\"text-align: right;\">\n",
              "      <th></th>\n",
              "      <th>('P20', 'linear_regression')</th>\n",
              "      <th>('P20', 'logistic_regression')</th>\n",
              "      <th>('P20', 'glms')</th>\n",
              "      <th>('P20', 'decision_tree')</th>\n",
              "      <th>('P20', 'random_forest')</th>\n",
              "      <th>('P20', 'neural_networks')</th>\n",
              "      <th>('P20', 'bayesian_inference')</th>\n",
              "      <th>('P20', 'ensemble')</th>\n",
              "      <th>('P20', 'svms')</th>\n",
              "      <th>('P20', 'cnns')</th>\n",
              "      <th>('P20', 'rnns')</th>\n",
              "      <th>('P20', 'hmms')</th>\n",
              "      <th>('P20', 'gans')</th>\n",
              "      <th>('P20', 'markov_chains')</th>\n",
              "      <th>('P20', 'nlp')</th>\n",
              "      <th>('P20', 'gradient_boosted_machines')</th>\n",
              "      <th>('P20', 'cluster_analysis')</th>\n",
              "      <th>('P20', 'survival_analysis')</th>\n",
              "      <th>('P20', 'longitudinal_data_analysis')</th>\n",
              "      <th>('P20', 'joint analysis')</th>\n",
              "      <th>('P20', 'no_listed_methods')</th>\n",
              "    </tr>\n",
              "  </thead>\n",
              "  <tbody>\n",
              "    <tr>\n",
              "      <th>9</th>\n",
              "      <td>1</td>\n",
              "      <td>1</td>\n",
              "      <td>0</td>\n",
              "      <td>1</td>\n",
              "      <td>0</td>\n",
              "      <td>0</td>\n",
              "      <td>1</td>\n",
              "      <td>0</td>\n",
              "      <td>0</td>\n",
              "      <td>0</td>\n",
              "      <td>0</td>\n",
              "      <td>0</td>\n",
              "      <td>0</td>\n",
              "      <td>0</td>\n",
              "      <td>0</td>\n",
              "      <td>0</td>\n",
              "      <td>0</td>\n",
              "      <td>0</td>\n",
              "      <td>0</td>\n",
              "      <td>0</td>\n",
              "      <td>0</td>\n",
              "    </tr>\n",
              "    <tr>\n",
              "      <th>14</th>\n",
              "      <td>0</td>\n",
              "      <td>0</td>\n",
              "      <td>0</td>\n",
              "      <td>0</td>\n",
              "      <td>0</td>\n",
              "      <td>1</td>\n",
              "      <td>0</td>\n",
              "      <td>0</td>\n",
              "      <td>0</td>\n",
              "      <td>0</td>\n",
              "      <td>0</td>\n",
              "      <td>0</td>\n",
              "      <td>0</td>\n",
              "      <td>0</td>\n",
              "      <td>0</td>\n",
              "      <td>0</td>\n",
              "      <td>0</td>\n",
              "      <td>0</td>\n",
              "      <td>0</td>\n",
              "      <td>0</td>\n",
              "      <td>0</td>\n",
              "    </tr>\n",
              "    <tr>\n",
              "      <th>20</th>\n",
              "      <td>1</td>\n",
              "      <td>1</td>\n",
              "      <td>1</td>\n",
              "      <td>1</td>\n",
              "      <td>0</td>\n",
              "      <td>1</td>\n",
              "      <td>1</td>\n",
              "      <td>0</td>\n",
              "      <td>1</td>\n",
              "      <td>0</td>\n",
              "      <td>0</td>\n",
              "      <td>0</td>\n",
              "      <td>0</td>\n",
              "      <td>0</td>\n",
              "      <td>0</td>\n",
              "      <td>1</td>\n",
              "      <td>1</td>\n",
              "      <td>0</td>\n",
              "      <td>0</td>\n",
              "      <td>0</td>\n",
              "      <td>0</td>\n",
              "    </tr>\n",
              "    <tr>\n",
              "      <th>36</th>\n",
              "      <td>1</td>\n",
              "      <td>1</td>\n",
              "      <td>1</td>\n",
              "      <td>0</td>\n",
              "      <td>1</td>\n",
              "      <td>0</td>\n",
              "      <td>0</td>\n",
              "      <td>1</td>\n",
              "      <td>1</td>\n",
              "      <td>0</td>\n",
              "      <td>0</td>\n",
              "      <td>0</td>\n",
              "      <td>1</td>\n",
              "      <td>0</td>\n",
              "      <td>0</td>\n",
              "      <td>1</td>\n",
              "      <td>1</td>\n",
              "      <td>0</td>\n",
              "      <td>0</td>\n",
              "      <td>0</td>\n",
              "      <td>0</td>\n",
              "    </tr>\n",
              "    <tr>\n",
              "      <th>45</th>\n",
              "      <td>1</td>\n",
              "      <td>1</td>\n",
              "      <td>1</td>\n",
              "      <td>1</td>\n",
              "      <td>1</td>\n",
              "      <td>1</td>\n",
              "      <td>0</td>\n",
              "      <td>1</td>\n",
              "      <td>1</td>\n",
              "      <td>0</td>\n",
              "      <td>0</td>\n",
              "      <td>0</td>\n",
              "      <td>0</td>\n",
              "      <td>0</td>\n",
              "      <td>0</td>\n",
              "      <td>1</td>\n",
              "      <td>1</td>\n",
              "      <td>0</td>\n",
              "      <td>0</td>\n",
              "      <td>0</td>\n",
              "      <td>0</td>\n",
              "    </tr>\n",
              "    <tr>\n",
              "      <th>...</th>\n",
              "      <td>...</td>\n",
              "      <td>...</td>\n",
              "      <td>...</td>\n",
              "      <td>...</td>\n",
              "      <td>...</td>\n",
              "      <td>...</td>\n",
              "      <td>...</td>\n",
              "      <td>...</td>\n",
              "      <td>...</td>\n",
              "      <td>...</td>\n",
              "      <td>...</td>\n",
              "      <td>...</td>\n",
              "      <td>...</td>\n",
              "      <td>...</td>\n",
              "      <td>...</td>\n",
              "      <td>...</td>\n",
              "      <td>...</td>\n",
              "      <td>...</td>\n",
              "      <td>...</td>\n",
              "      <td>...</td>\n",
              "      <td>...</td>\n",
              "    </tr>\n",
              "    <tr>\n",
              "      <th>1716</th>\n",
              "      <td>1</td>\n",
              "      <td>1</td>\n",
              "      <td>1</td>\n",
              "      <td>1</td>\n",
              "      <td>0</td>\n",
              "      <td>0</td>\n",
              "      <td>1</td>\n",
              "      <td>0</td>\n",
              "      <td>0</td>\n",
              "      <td>0</td>\n",
              "      <td>0</td>\n",
              "      <td>0</td>\n",
              "      <td>0</td>\n",
              "      <td>0</td>\n",
              "      <td>0</td>\n",
              "      <td>1</td>\n",
              "      <td>1</td>\n",
              "      <td>0</td>\n",
              "      <td>0</td>\n",
              "      <td>0</td>\n",
              "      <td>0</td>\n",
              "    </tr>\n",
              "    <tr>\n",
              "      <th>1737</th>\n",
              "      <td>1</td>\n",
              "      <td>1</td>\n",
              "      <td>0</td>\n",
              "      <td>1</td>\n",
              "      <td>1</td>\n",
              "      <td>1</td>\n",
              "      <td>0</td>\n",
              "      <td>1</td>\n",
              "      <td>0</td>\n",
              "      <td>0</td>\n",
              "      <td>0</td>\n",
              "      <td>0</td>\n",
              "      <td>0</td>\n",
              "      <td>0</td>\n",
              "      <td>1</td>\n",
              "      <td>1</td>\n",
              "      <td>1</td>\n",
              "      <td>0</td>\n",
              "      <td>0</td>\n",
              "      <td>0</td>\n",
              "      <td>0</td>\n",
              "    </tr>\n",
              "    <tr>\n",
              "      <th>1744</th>\n",
              "      <td>0</td>\n",
              "      <td>0</td>\n",
              "      <td>0</td>\n",
              "      <td>1</td>\n",
              "      <td>0</td>\n",
              "      <td>1</td>\n",
              "      <td>0</td>\n",
              "      <td>0</td>\n",
              "      <td>0</td>\n",
              "      <td>0</td>\n",
              "      <td>0</td>\n",
              "      <td>0</td>\n",
              "      <td>0</td>\n",
              "      <td>0</td>\n",
              "      <td>0</td>\n",
              "      <td>1</td>\n",
              "      <td>0</td>\n",
              "      <td>0</td>\n",
              "      <td>0</td>\n",
              "      <td>0</td>\n",
              "      <td>0</td>\n",
              "    </tr>\n",
              "    <tr>\n",
              "      <th>1754</th>\n",
              "      <td>0</td>\n",
              "      <td>1</td>\n",
              "      <td>1</td>\n",
              "      <td>1</td>\n",
              "      <td>0</td>\n",
              "      <td>0</td>\n",
              "      <td>0</td>\n",
              "      <td>0</td>\n",
              "      <td>1</td>\n",
              "      <td>0</td>\n",
              "      <td>0</td>\n",
              "      <td>0</td>\n",
              "      <td>0</td>\n",
              "      <td>0</td>\n",
              "      <td>0</td>\n",
              "      <td>0</td>\n",
              "      <td>0</td>\n",
              "      <td>1</td>\n",
              "      <td>0</td>\n",
              "      <td>0</td>\n",
              "      <td>0</td>\n",
              "    </tr>\n",
              "    <tr>\n",
              "      <th>1764</th>\n",
              "      <td>0</td>\n",
              "      <td>0</td>\n",
              "      <td>0</td>\n",
              "      <td>0</td>\n",
              "      <td>0</td>\n",
              "      <td>0</td>\n",
              "      <td>0</td>\n",
              "      <td>0</td>\n",
              "      <td>0</td>\n",
              "      <td>0</td>\n",
              "      <td>0</td>\n",
              "      <td>0</td>\n",
              "      <td>0</td>\n",
              "      <td>0</td>\n",
              "      <td>0</td>\n",
              "      <td>0</td>\n",
              "      <td>0</td>\n",
              "      <td>0</td>\n",
              "      <td>0</td>\n",
              "      <td>0</td>\n",
              "      <td>0</td>\n",
              "    </tr>\n",
              "  </tbody>\n",
              "</table>\n",
              "<p>193 rows × 21 columns</p>\n",
              "</div>"
            ],
            "text/plain": [
              "      ('P20', 'linear_regression')  ...  ('P20', 'no_listed_methods')\n",
              "9                                1  ...                             0\n",
              "14                               0  ...                             0\n",
              "20                               1  ...                             0\n",
              "36                               1  ...                             0\n",
              "45                               1  ...                             0\n",
              "...                            ...  ...                           ...\n",
              "1716                             1  ...                             0\n",
              "1737                             1  ...                             0\n",
              "1744                             0  ...                             0\n",
              "1754                             0  ...                             0\n",
              "1764                             0  ...                             0\n",
              "\n",
              "[193 rows x 21 columns]"
            ]
          },
          "metadata": {
            "tags": []
          },
          "execution_count": 65
        }
      ]
    },
    {
      "cell_type": "code",
      "metadata": {
        "colab": {
          "base_uri": "https://localhost:8080/"
        },
        "id": "OQDdU21ZWYiB",
        "outputId": "7589596f-80f9-4b0d-ffbc-539e0dff69c6"
      },
      "source": [
        "cds.filter(regex = 'P20').sum().sort_values(ascending = False)"
      ],
      "execution_count": null,
      "outputs": [
        {
          "output_type": "execute_result",
          "data": {
            "text/plain": [
              "('P20', 'linear_regression')             143\n",
              "('P20', 'logistic_regression')           130\n",
              "('P20', 'decision_tree')                 126\n",
              "('P20', 'random_forest')                 125\n",
              "('P20', 'cluster_analysis')              116\n",
              "('P20', 'neural_networks')                89\n",
              "('P20', 'gradient_boosted_machines')      86\n",
              "('P20', 'ensemble')                       77\n",
              "('P20', 'nlp')                            68\n",
              "('P20', 'bayesian_inference')             62\n",
              "('P20', 'svms')                           59\n",
              "('P20', 'glms')                           56\n",
              "('P20', 'rnns')                           35\n",
              "('P20', 'longitudinal_data_analysis')     34\n",
              "('P20', 'cnns')                           32\n",
              "('P20', 'markov_chains')                  26\n",
              "('P20', 'survival_analysis')              26\n",
              "('P20', 'joint analysis')                 13\n",
              "('P20', 'gans')                            9\n",
              "('P20', 'hmms')                            8\n",
              "('P20', 'no_listed_methods')               7\n",
              "dtype: int64"
            ]
          },
          "metadata": {
            "tags": []
          },
          "execution_count": 69
        }
      ]
    },
    {
      "cell_type": "code",
      "metadata": {
        "colab": {
          "base_uri": "https://localhost:8080/"
        },
        "id": "FpO43Th9WsP4",
        "outputId": "ad11f1eb-97e4-41b3-f41f-f5f06fcc9c63"
      },
      "source": [
        "cds.filter(regex = 'P20').sum().sort_values(ascending = False)/cds.shape[0]"
      ],
      "execution_count": null,
      "outputs": [
        {
          "output_type": "execute_result",
          "data": {
            "text/plain": [
              "('P20', 'linear_regression')             0.740933\n",
              "('P20', 'logistic_regression')           0.673575\n",
              "('P20', 'decision_tree')                 0.652850\n",
              "('P20', 'random_forest')                 0.647668\n",
              "('P20', 'cluster_analysis')              0.601036\n",
              "('P20', 'neural_networks')               0.461140\n",
              "('P20', 'gradient_boosted_machines')     0.445596\n",
              "('P20', 'ensemble')                      0.398964\n",
              "('P20', 'nlp')                           0.352332\n",
              "('P20', 'bayesian_inference')            0.321244\n",
              "('P20', 'svms')                          0.305699\n",
              "('P20', 'glms')                          0.290155\n",
              "('P20', 'rnns')                          0.181347\n",
              "('P20', 'longitudinal_data_analysis')    0.176166\n",
              "('P20', 'cnns')                          0.165803\n",
              "('P20', 'markov_chains')                 0.134715\n",
              "('P20', 'survival_analysis')             0.134715\n",
              "('P20', 'joint analysis')                0.067358\n",
              "('P20', 'gans')                          0.046632\n",
              "('P20', 'hmms')                          0.041451\n",
              "('P20', 'no_listed_methods')             0.036269\n",
              "dtype: float64"
            ]
          },
          "metadata": {
            "tags": []
          },
          "execution_count": 70
        }
      ]
    },
    {
      "cell_type": "code",
      "metadata": {
        "colab": {
          "base_uri": "https://localhost:8080/"
        },
        "id": "B8o4SZr1WyVM",
        "outputId": "af3a911a-f3f5-415f-e09e-b4692e6d8c3b"
      },
      "source": [
        "# Olhando para as principais profissões de dados\n",
        "pds.filter(regex = 'P20').sum().sort_values(ascending = False)/pds.shape[0]"
      ],
      "execution_count": null,
      "outputs": [
        {
          "output_type": "execute_result",
          "data": {
            "text/plain": [
              "('P20', 'linear_regression')             0.383489\n",
              "('P20', 'decision_tree')                 0.306258\n",
              "('P20', 'logistic_regression')           0.300932\n",
              "('P20', 'cluster_analysis')              0.274301\n",
              "('P20', 'random_forest')                 0.262317\n",
              "('P20', 'no_listed_methods')             0.186418\n",
              "('P20', 'neural_networks')               0.178429\n",
              "('P20', 'nlp')                           0.177097\n",
              "('P20', 'bayesian_inference')            0.158455\n",
              "('P20', 'gradient_boosted_machines')     0.143808\n",
              "('P20', 'ensemble')                      0.123835\n",
              "('P20', 'svms')                          0.111851\n",
              "('P20', 'glms')                          0.097204\n",
              "('P20', 'cnns')                          0.063915\n",
              "('P20', 'longitudinal_data_analysis')    0.062583\n",
              "('P20', 'rnns')                          0.059920\n",
              "('P20', 'markov_chains')                 0.051931\n",
              "('P20', 'survival_analysis')             0.050599\n",
              "('P20', 'joint analysis')                0.047936\n",
              "('P20', 'hmms')                          0.013316\n",
              "('P20', 'gans')                          0.011984\n",
              "dtype: float64"
            ]
          },
          "metadata": {
            "tags": []
          },
          "execution_count": 71
        }
      ]
    },
    {
      "cell_type": "markdown",
      "metadata": {
        "id": "No_nd4RfXwcp"
      },
      "source": [
        "### Pergunta_21 (P21) = Quais das linguagens de programação listadas abaixo você utiliza no trabalho?"
      ]
    },
    {
      "cell_type": "code",
      "metadata": {
        "colab": {
          "base_uri": "https://localhost:8080/"
        },
        "id": "uVGyI8zOX1Mb",
        "outputId": "f8aa9b7c-8f50-430d-c29e-d78f2064dd8e"
      },
      "source": [
        "cds.filter(regex = 'P21').sum().sort_values(ascending = False)/cds.shape[0]"
      ],
      "execution_count": null,
      "outputs": [
        {
          "output_type": "execute_result",
          "data": {
            "text/plain": [
              "('P21', 'python')                 0.896373\n",
              "('P21', 'sql_')                   0.730570\n",
              "('P21', 'r')                      0.383420\n",
              "('P21', 'sas_stata')              0.088083\n",
              "('P21', 'scala')                  0.082902\n",
              "('P21', 'visual_basic_vba')       0.051813\n",
              "('P21', 'java')                   0.041451\n",
              "('P21', 'c_c++_c#')               0.031088\n",
              "('P21', 'matlab')                 0.025907\n",
              "('P21', 'julia')                  0.010363\n",
              "('P21', 'dotnet')                 0.010363\n",
              "('P21', 'php')                    0.005181\n",
              "('P21', 'no_listed_languages')    0.000000\n",
              "dtype: float64"
            ]
          },
          "metadata": {
            "tags": []
          },
          "execution_count": 72
        }
      ]
    },
    {
      "cell_type": "code",
      "metadata": {
        "colab": {
          "base_uri": "https://localhost:8080/"
        },
        "id": "xTw7EeTLYBNM",
        "outputId": "fa16ab5c-e1e5-4b25-e4e2-064a88ca7405"
      },
      "source": [
        "# Filtrando para saber quantos profissionais utilizam determinada ferramenta\n",
        "# 1 = Verdadeiro, 0 = False\n",
        "cds[(cds[\"('P21', 'r')\"] == 0) &\n",
        "    (cds[\"('P21', 'python')\"] == 1) &\n",
        "    (cds[\"('P21', 'sql_')\"] == 0)]['salario'].describe()"
      ],
      "execution_count": null,
      "outputs": [
        {
          "output_type": "execute_result",
          "data": {
            "text/plain": [
              "count       31.000000\n",
              "mean      5629.032258\n",
              "std       3739.357659\n",
              "min       1000.000000\n",
              "25%       3500.000000\n",
              "50%       5000.000000\n",
              "75%       7000.000000\n",
              "max      18000.000000\n",
              "Name: salario, dtype: float64"
            ]
          },
          "metadata": {
            "tags": []
          },
          "execution_count": 77
        }
      ]
    },
    {
      "cell_type": "markdown",
      "metadata": {
        "id": "qudgnqUxZ-jy"
      },
      "source": [
        "### Pergunta_27 (P27) = Quais as Ferramentas de Business Intelligence você utiliza no trabalho?"
      ]
    },
    {
      "cell_type": "code",
      "metadata": {
        "colab": {
          "base_uri": "https://localhost:8080/"
        },
        "id": "e8uvSJX0bqHD",
        "outputId": "60fcfb33-a317-4f31-bbef-2254f4527064"
      },
      "source": [
        "abi.filter(regex = 'P27').sum().sort_values(ascending = False)/abi.shape[0]"
      ],
      "execution_count": null,
      "outputs": [
        {
          "output_type": "execute_result",
          "data": {
            "text/plain": [
              "('P27', 'microsoft_powerbi')               0.274900\n",
              "('P27', 'tableau')                         0.095618\n",
              "('P27', 'qlik_view_qlik_sense')            0.083665\n",
              "('P27', 'only_excel_gsheets')              0.079681\n",
              "('P27', 'other')                           0.063745\n",
              "('P27', 'metabase')                        0.051793\n",
              "('P27', 'google_data_studio')              0.043825\n",
              "('P27', 'no_bi_tool_at_work')              0.027888\n",
              "('P27', 'microstrategy')                   0.027888\n",
              "('P27', 'sap_business_objects')            0.023904\n",
              "('P27', 'ibm_analytics_cognos')            0.019920\n",
              "('P27', 'superset')                        0.011952\n",
              "('P27', 'oracle_business_intelligence')    0.007968\n",
              "('P27', 'looker')                          0.003984\n",
              "('P27', 'birst')                           0.000000\n",
              "('P27', 'redash')                          0.000000\n",
              "dtype: float64"
            ]
          },
          "metadata": {
            "tags": []
          },
          "execution_count": 79
        }
      ]
    }
  ]
}